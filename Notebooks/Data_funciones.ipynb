{
 "cells": [
  {
   "cell_type": "markdown",
   "metadata": {},
   "source": [
    "# DataFrames para funciones y sus respectivas funciones."
   ]
  },
  {
   "cell_type": "markdown",
   "metadata": {},
   "source": [
    "En esta sección [Data_Funciones], se llevarán a cabo las reducciones pertinentes a cada DataFrame para luego guardarlos en archivos parquet y utilizarlos más tarde con nuestra API. Además, se desarrollarán las funciones que se emplearán en la API.  \n",
    "En este notebook, encontrarás el título de cada función, la definición de lo que se espera de cada una de ellas, el procesamiento de los DataFrames y, finalmente, la implementación y prueba de cada función. Las funciones estan divididas por lineas blancas al pasar de una a la otra."
   ]
  },
  {
   "cell_type": "markdown",
   "metadata": {},
   "source": [
    "### Importamos librerías"
   ]
  },
  {
   "cell_type": "markdown",
   "metadata": {},
   "source": [
    "Estas librerías nos permiten manipular los datos y almacenarlos."
   ]
  },
  {
   "cell_type": "code",
   "execution_count": 34,
   "metadata": {},
   "outputs": [],
   "source": [
    "import pandas as pd\n",
    "import sys\n",
    "sys.path.insert(0, '../')"
   ]
  },
  {
   "cell_type": "markdown",
   "metadata": {},
   "source": [
    "### Carga de Datos"
   ]
  },
  {
   "cell_type": "code",
   "execution_count": 35,
   "metadata": {},
   "outputs": [],
   "source": [
    "data_review = pd.read_csv('../datasets/australian_reviews_listo.csv')\n",
    "data_items = pd.read_csv('../datasets/australian_items.csv')\n",
    "data_output = pd.read_csv('../datasets/output.csv')\n",
    "df_recommend = pd.read_csv('../datasets/df_recommend.csv')"
   ]
  },
  {
   "cell_type": "markdown",
   "metadata": {},
   "source": [
    "### PlayTimeGenre"
   ]
  },
  {
   "cell_type": "markdown",
   "metadata": {},
   "source": [
    "def PlayTimeGenre( genero : str ): Debe devolver año con mas horas jugadas para dicho género."
   ]
  },
  {
   "cell_type": "markdown",
   "metadata": {},
   "source": [
    "#### Procesamiento de datos"
   ]
  },
  {
   "cell_type": "markdown",
   "metadata": {},
   "source": [
    "Se unió el DataFrame de los juegos (data_output) con el de items que posee las horas jugadas de cada juego. Luego se eliminaron los datos nulos que se generaron en la fusión y aquellas filas que contenían al menos un valor nulo. Esta decisión se tomó para asegurar que los datos restantes fueran confiables. Además, eliminamos otras columnas que no son relevantes para la función."
   ]
  },
  {
   "cell_type": "code",
   "execution_count": 36,
   "metadata": {},
   "outputs": [],
   "source": [
    "data_genres = pd.merge(data_output,data_items,on='item_id',how='right')\n",
    "data_genres = data_genres.drop(columns=['publisher','app_name','title','price','early_access','developer','item_name','user_id','items_count','steam_id'])\n",
    "data_genres = data_genres.dropna()"
   ]
  },
  {
   "cell_type": "markdown",
   "metadata": {},
   "source": [
    "Seleccionamos aquellos juegos y sus géneros que tenían más de 0 horas jugadas."
   ]
  },
  {
   "cell_type": "code",
   "execution_count": 37,
   "metadata": {},
   "outputs": [
    {
     "data": {
      "text/html": [
       "<div>\n",
       "<style scoped>\n",
       "    .dataframe tbody tr th:only-of-type {\n",
       "        vertical-align: middle;\n",
       "    }\n",
       "\n",
       "    .dataframe tbody tr th {\n",
       "        vertical-align: top;\n",
       "    }\n",
       "\n",
       "    .dataframe thead th {\n",
       "        text-align: right;\n",
       "    }\n",
       "</style>\n",
       "<table border=\"1\" class=\"dataframe\">\n",
       "  <thead>\n",
       "    <tr style=\"text-align: right;\">\n",
       "      <th></th>\n",
       "      <th>genres</th>\n",
       "      <th>release_date</th>\n",
       "      <th>item_id</th>\n",
       "      <th>playtime_forever</th>\n",
       "    </tr>\n",
       "  </thead>\n",
       "  <tbody>\n",
       "    <tr>\n",
       "      <th>0</th>\n",
       "      <td>Action</td>\n",
       "      <td>2000</td>\n",
       "      <td>10</td>\n",
       "      <td>6.0</td>\n",
       "    </tr>\n",
       "    <tr>\n",
       "      <th>2</th>\n",
       "      <td>Action</td>\n",
       "      <td>2003</td>\n",
       "      <td>30</td>\n",
       "      <td>7.0</td>\n",
       "    </tr>\n",
       "    <tr>\n",
       "      <th>8</th>\n",
       "      <td>Action</td>\n",
       "      <td>2010</td>\n",
       "      <td>300</td>\n",
       "      <td>4733.0</td>\n",
       "    </tr>\n",
       "    <tr>\n",
       "      <th>9</th>\n",
       "      <td>Action</td>\n",
       "      <td>2004</td>\n",
       "      <td>240</td>\n",
       "      <td>1853.0</td>\n",
       "    </tr>\n",
       "    <tr>\n",
       "      <th>10</th>\n",
       "      <td>Action</td>\n",
       "      <td>2005</td>\n",
       "      <td>3830</td>\n",
       "      <td>333.0</td>\n",
       "    </tr>\n",
       "    <tr>\n",
       "      <th>...</th>\n",
       "      <td>...</td>\n",
       "      <td>...</td>\n",
       "      <td>...</td>\n",
       "      <td>...</td>\n",
       "    </tr>\n",
       "    <tr>\n",
       "      <th>10942337</th>\n",
       "      <td>Adventure</td>\n",
       "      <td>2015</td>\n",
       "      <td>388490</td>\n",
       "      <td>3.0</td>\n",
       "    </tr>\n",
       "    <tr>\n",
       "      <th>10942338</th>\n",
       "      <td>Free to Play</td>\n",
       "      <td>2015</td>\n",
       "      <td>388490</td>\n",
       "      <td>3.0</td>\n",
       "    </tr>\n",
       "    <tr>\n",
       "      <th>10942339</th>\n",
       "      <td>Casual</td>\n",
       "      <td>2016</td>\n",
       "      <td>521570</td>\n",
       "      <td>4.0</td>\n",
       "    </tr>\n",
       "    <tr>\n",
       "      <th>10942340</th>\n",
       "      <td>Free to Play</td>\n",
       "      <td>2016</td>\n",
       "      <td>521570</td>\n",
       "      <td>4.0</td>\n",
       "    </tr>\n",
       "    <tr>\n",
       "      <th>10942341</th>\n",
       "      <td>Indie</td>\n",
       "      <td>2016</td>\n",
       "      <td>521570</td>\n",
       "      <td>4.0</td>\n",
       "    </tr>\n",
       "  </tbody>\n",
       "</table>\n",
       "<p>6928925 rows × 4 columns</p>\n",
       "</div>"
      ],
      "text/plain": [
       "                genres release_date  item_id  playtime_forever\n",
       "0               Action         2000       10               6.0\n",
       "2               Action         2003       30               7.0\n",
       "8               Action         2010      300            4733.0\n",
       "9               Action         2004      240            1853.0\n",
       "10              Action         2005     3830             333.0\n",
       "...                ...          ...      ...               ...\n",
       "10942337     Adventure         2015   388490               3.0\n",
       "10942338  Free to Play         2015   388490               3.0\n",
       "10942339        Casual         2016   521570               4.0\n",
       "10942340  Free to Play         2016   521570               4.0\n",
       "10942341         Indie         2016   521570               4.0\n",
       "\n",
       "[6928925 rows x 4 columns]"
      ]
     },
     "execution_count": 37,
     "metadata": {},
     "output_type": "execute_result"
    }
   ],
   "source": [
    "data_genres = data_genres.loc[data_genres['playtime_forever'] > 0]\n",
    "data_genres"
   ]
  },
  {
   "cell_type": "markdown",
   "metadata": {},
   "source": [
    "Se agruparon los registros por género y fecha de lanzamiento, además se sumaron la cantidad de horas jugadas. Luego se reseteó el índice para que los identificadores estén con un orden lógico."
   ]
  },
  {
   "cell_type": "code",
   "execution_count": 38,
   "metadata": {},
   "outputs": [
    {
     "data": {
      "text/html": [
       "<div>\n",
       "<style scoped>\n",
       "    .dataframe tbody tr th:only-of-type {\n",
       "        vertical-align: middle;\n",
       "    }\n",
       "\n",
       "    .dataframe tbody tr th {\n",
       "        vertical-align: top;\n",
       "    }\n",
       "\n",
       "    .dataframe thead th {\n",
       "        text-align: right;\n",
       "    }\n",
       "</style>\n",
       "<table border=\"1\" class=\"dataframe\">\n",
       "  <thead>\n",
       "    <tr style=\"text-align: right;\">\n",
       "      <th></th>\n",
       "      <th>genres</th>\n",
       "      <th>release_date</th>\n",
       "      <th>playtime_forever</th>\n",
       "    </tr>\n",
       "  </thead>\n",
       "  <tbody>\n",
       "    <tr>\n",
       "      <th>0</th>\n",
       "      <td>Action</td>\n",
       "      <td>1983</td>\n",
       "      <td>3582.0</td>\n",
       "    </tr>\n",
       "    <tr>\n",
       "      <th>1</th>\n",
       "      <td>Action</td>\n",
       "      <td>1984</td>\n",
       "      <td>384.0</td>\n",
       "    </tr>\n",
       "    <tr>\n",
       "      <th>2</th>\n",
       "      <td>Action</td>\n",
       "      <td>1988</td>\n",
       "      <td>16243.0</td>\n",
       "    </tr>\n",
       "    <tr>\n",
       "      <th>3</th>\n",
       "      <td>Action</td>\n",
       "      <td>1989</td>\n",
       "      <td>607.0</td>\n",
       "    </tr>\n",
       "    <tr>\n",
       "      <th>4</th>\n",
       "      <td>Action</td>\n",
       "      <td>1990</td>\n",
       "      <td>18787.0</td>\n",
       "    </tr>\n",
       "    <tr>\n",
       "      <th>...</th>\n",
       "      <td>...</td>\n",
       "      <td>...</td>\n",
       "      <td>...</td>\n",
       "    </tr>\n",
       "    <tr>\n",
       "      <th>348</th>\n",
       "      <td>Web Publishing</td>\n",
       "      <td>2013</td>\n",
       "      <td>335849.0</td>\n",
       "    </tr>\n",
       "    <tr>\n",
       "      <th>349</th>\n",
       "      <td>Web Publishing</td>\n",
       "      <td>2014</td>\n",
       "      <td>33732.0</td>\n",
       "    </tr>\n",
       "    <tr>\n",
       "      <th>350</th>\n",
       "      <td>Web Publishing</td>\n",
       "      <td>2015</td>\n",
       "      <td>348861.0</td>\n",
       "    </tr>\n",
       "    <tr>\n",
       "      <th>351</th>\n",
       "      <td>Web Publishing</td>\n",
       "      <td>2016</td>\n",
       "      <td>136.0</td>\n",
       "    </tr>\n",
       "    <tr>\n",
       "      <th>352</th>\n",
       "      <td>Web Publishing</td>\n",
       "      <td>2017</td>\n",
       "      <td>9713.0</td>\n",
       "    </tr>\n",
       "  </tbody>\n",
       "</table>\n",
       "<p>353 rows × 3 columns</p>\n",
       "</div>"
      ],
      "text/plain": [
       "             genres release_date  playtime_forever\n",
       "0            Action         1983            3582.0\n",
       "1            Action         1984             384.0\n",
       "2            Action         1988           16243.0\n",
       "3            Action         1989             607.0\n",
       "4            Action         1990           18787.0\n",
       "..              ...          ...               ...\n",
       "348  Web Publishing         2013          335849.0\n",
       "349  Web Publishing         2014           33732.0\n",
       "350  Web Publishing         2015          348861.0\n",
       "351  Web Publishing         2016             136.0\n",
       "352  Web Publishing         2017            9713.0\n",
       "\n",
       "[353 rows x 3 columns]"
      ]
     },
     "execution_count": 38,
     "metadata": {},
     "output_type": "execute_result"
    }
   ],
   "source": [
    "data_playtime = data_genres.groupby(['genres','release_date'])['playtime_forever'].sum().reset_index()\n",
    "data_playtime"
   ]
  },
  {
   "cell_type": "markdown",
   "metadata": {},
   "source": [
    "### Exportación de datos"
   ]
  },
  {
   "cell_type": "markdown",
   "metadata": {},
   "source": [
    "Exportamos el dataframe en formato Parquet, ademas de ser mas liviano es mas eficiente que el formato CSV."
   ]
  },
  {
   "cell_type": "code",
   "execution_count": 39,
   "metadata": {},
   "outputs": [],
   "source": [
    "data_playtime.to_parquet('../Data_parquet/data_playtime.parquet')"
   ]
  },
  {
   "cell_type": "markdown",
   "metadata": {},
   "source": [
    "### Función"
   ]
  },
  {
   "cell_type": "markdown",
   "metadata": {},
   "source": [
    "La función \"PlayTimeGenre\" tiene dos parámetros que son: un DataFrame y un género que debe ser de tipo string. Se filtra el DataFrame a través del género, se ordenan los valores de forma descendente y se obtiene solo el primer valor, lo mismo para el año de posteo."
   ]
  },
  {
   "cell_type": "code",
   "execution_count": 40,
   "metadata": {},
   "outputs": [],
   "source": [
    "def PlayTimeGenre (dataframe,genero:str):\n",
    "    data_play = dataframe[dataframe['genres'] == genero]\n",
    "    data_play = data_play.sort_values(by='playtime_forever',ascending=False).head(1)\n",
    "    \n",
    "    date = data_play['release_date'].values[0]\n",
    "    feedback = (f'Año de lanzamiento con más horas jugadas para Género {genero}: {date}')\n",
    "    return feedback"
   ]
  },
  {
   "cell_type": "markdown",
   "metadata": {},
   "source": [
    "Revisión de ejecución de la función."
   ]
  },
  {
   "cell_type": "code",
   "execution_count": 41,
   "metadata": {},
   "outputs": [
    {
     "data": {
      "text/plain": [
       "'Año de lanzamiento con más horas jugadas para Género Indie: 2006'"
      ]
     },
     "execution_count": 41,
     "metadata": {},
     "output_type": "execute_result"
    }
   ],
   "source": [
    "PlayTimeGenre(data_genres,'Indie')"
   ]
  },
  {
   "cell_type": "markdown",
   "metadata": {},
   "source": [
    "--------------------------------------------------------------------------------------------------------------------------"
   ]
  },
  {
   "cell_type": "markdown",
   "metadata": {},
   "source": [
    "### UserForGenre"
   ]
  },
  {
   "cell_type": "markdown",
   "metadata": {},
   "source": [
    "def UserForGenre( genero : str ): Debe devolver el usuario que acumula más horas jugadas para el género dado y una lista de la acumulación de horas jugadas por año."
   ]
  },
  {
   "cell_type": "markdown",
   "metadata": {},
   "source": [
    "#### Procesamiento de datos"
   ]
  },
  {
   "cell_type": "markdown",
   "metadata": {},
   "source": [
    "Se unificaron dos DataFrames: \"data_output\" y \"data_items\", y se eliminaron las columnas que no eran necesarias."
   ]
  },
  {
   "cell_type": "code",
   "execution_count": 42,
   "metadata": {},
   "outputs": [
    {
     "data": {
      "text/html": [
       "<div>\n",
       "<style scoped>\n",
       "    .dataframe tbody tr th:only-of-type {\n",
       "        vertical-align: middle;\n",
       "    }\n",
       "\n",
       "    .dataframe tbody tr th {\n",
       "        vertical-align: top;\n",
       "    }\n",
       "\n",
       "    .dataframe thead th {\n",
       "        text-align: right;\n",
       "    }\n",
       "</style>\n",
       "<table border=\"1\" class=\"dataframe\">\n",
       "  <thead>\n",
       "    <tr style=\"text-align: right;\">\n",
       "      <th></th>\n",
       "      <th>genres</th>\n",
       "      <th>release_date</th>\n",
       "      <th>item_id</th>\n",
       "      <th>playtime_forever</th>\n",
       "      <th>user_id</th>\n",
       "    </tr>\n",
       "  </thead>\n",
       "  <tbody>\n",
       "    <tr>\n",
       "      <th>0</th>\n",
       "      <td>Action</td>\n",
       "      <td>1997</td>\n",
       "      <td>282010</td>\n",
       "      <td>5.0</td>\n",
       "      <td>UTNerd24</td>\n",
       "    </tr>\n",
       "    <tr>\n",
       "      <th>1</th>\n",
       "      <td>Action</td>\n",
       "      <td>1997</td>\n",
       "      <td>282010</td>\n",
       "      <td>0.0</td>\n",
       "      <td>I_DID_911_JUST_SAYING</td>\n",
       "    </tr>\n",
       "    <tr>\n",
       "      <th>2</th>\n",
       "      <td>Action</td>\n",
       "      <td>1997</td>\n",
       "      <td>282010</td>\n",
       "      <td>0.0</td>\n",
       "      <td>76561197962104795</td>\n",
       "    </tr>\n",
       "    <tr>\n",
       "      <th>3</th>\n",
       "      <td>Action</td>\n",
       "      <td>1997</td>\n",
       "      <td>282010</td>\n",
       "      <td>0.0</td>\n",
       "      <td>r3ap3r78</td>\n",
       "    </tr>\n",
       "    <tr>\n",
       "      <th>4</th>\n",
       "      <td>Action</td>\n",
       "      <td>1997</td>\n",
       "      <td>282010</td>\n",
       "      <td>13.0</td>\n",
       "      <td>saint556</td>\n",
       "    </tr>\n",
       "    <tr>\n",
       "      <th>...</th>\n",
       "      <td>...</td>\n",
       "      <td>...</td>\n",
       "      <td>...</td>\n",
       "      <td>...</td>\n",
       "      <td>...</td>\n",
       "    </tr>\n",
       "    <tr>\n",
       "      <th>9993942</th>\n",
       "      <td>Action</td>\n",
       "      <td>2004</td>\n",
       "      <td>80</td>\n",
       "      <td>0.0</td>\n",
       "      <td>76561198273508956</td>\n",
       "    </tr>\n",
       "    <tr>\n",
       "      <th>9993943</th>\n",
       "      <td>Action</td>\n",
       "      <td>2004</td>\n",
       "      <td>80</td>\n",
       "      <td>0.0</td>\n",
       "      <td>76561198282090798</td>\n",
       "    </tr>\n",
       "    <tr>\n",
       "      <th>9993944</th>\n",
       "      <td>Action</td>\n",
       "      <td>2004</td>\n",
       "      <td>80</td>\n",
       "      <td>0.0</td>\n",
       "      <td>943525</td>\n",
       "    </tr>\n",
       "    <tr>\n",
       "      <th>9993945</th>\n",
       "      <td>Action</td>\n",
       "      <td>2004</td>\n",
       "      <td>80</td>\n",
       "      <td>9.0</td>\n",
       "      <td>76561198283312749</td>\n",
       "    </tr>\n",
       "    <tr>\n",
       "      <th>9993946</th>\n",
       "      <td>Action</td>\n",
       "      <td>2004</td>\n",
       "      <td>80</td>\n",
       "      <td>99.0</td>\n",
       "      <td>76561198312638244</td>\n",
       "    </tr>\n",
       "  </tbody>\n",
       "</table>\n",
       "<p>9993947 rows × 5 columns</p>\n",
       "</div>"
      ],
      "text/plain": [
       "         genres release_date  item_id  playtime_forever                user_id\n",
       "0        Action         1997   282010               5.0               UTNerd24\n",
       "1        Action         1997   282010               0.0  I_DID_911_JUST_SAYING\n",
       "2        Action         1997   282010               0.0      76561197962104795\n",
       "3        Action         1997   282010               0.0               r3ap3r78\n",
       "4        Action         1997   282010              13.0               saint556\n",
       "...         ...          ...      ...               ...                    ...\n",
       "9993942  Action         2004       80               0.0      76561198273508956\n",
       "9993943  Action         2004       80               0.0      76561198282090798\n",
       "9993944  Action         2004       80               0.0                 943525\n",
       "9993945  Action         2004       80               9.0      76561198283312749\n",
       "9993946  Action         2004       80              99.0      76561198312638244\n",
       "\n",
       "[9993947 rows x 5 columns]"
      ]
     },
     "execution_count": 42,
     "metadata": {},
     "output_type": "execute_result"
    }
   ],
   "source": [
    "data_user_genre = pd.merge(data_output,data_items)\n",
    "data_user_genre = data_user_genre.drop(columns=['publisher','app_name','title','price','early_access','developer','item_name','items_count','steam_id'])\n",
    "data_user_genre"
   ]
  },
  {
   "cell_type": "markdown",
   "metadata": {},
   "source": [
    "Se agruparon los datos a través del id del usuario, el género del juego y el año. Se sumaron los valores de las horas acumuladas por usuario. Luego, se reseteó el índice para que nuestro nuevo DataFrame \"data_user_genre\" quede listo para ser consumido por nuestra API."
   ]
  },
  {
   "cell_type": "code",
   "execution_count": 43,
   "metadata": {},
   "outputs": [
    {
     "data": {
      "text/html": [
       "<div>\n",
       "<style scoped>\n",
       "    .dataframe tbody tr th:only-of-type {\n",
       "        vertical-align: middle;\n",
       "    }\n",
       "\n",
       "    .dataframe tbody tr th {\n",
       "        vertical-align: top;\n",
       "    }\n",
       "\n",
       "    .dataframe thead th {\n",
       "        text-align: right;\n",
       "    }\n",
       "</style>\n",
       "<table border=\"1\" class=\"dataframe\">\n",
       "  <thead>\n",
       "    <tr style=\"text-align: right;\">\n",
       "      <th></th>\n",
       "      <th>user_id</th>\n",
       "      <th>genres</th>\n",
       "      <th>release_date</th>\n",
       "      <th>playtime_forever</th>\n",
       "    </tr>\n",
       "  </thead>\n",
       "  <tbody>\n",
       "    <tr>\n",
       "      <th>0</th>\n",
       "      <td>--000--</td>\n",
       "      <td>Action</td>\n",
       "      <td>2009</td>\n",
       "      <td>5329.0</td>\n",
       "    </tr>\n",
       "    <tr>\n",
       "      <th>1</th>\n",
       "      <td>--000--</td>\n",
       "      <td>Action</td>\n",
       "      <td>2010</td>\n",
       "      <td>22.0</td>\n",
       "    </tr>\n",
       "    <tr>\n",
       "      <th>2</th>\n",
       "      <td>--000--</td>\n",
       "      <td>Action</td>\n",
       "      <td>2011</td>\n",
       "      <td>6522.0</td>\n",
       "    </tr>\n",
       "    <tr>\n",
       "      <th>3</th>\n",
       "      <td>--000--</td>\n",
       "      <td>Action</td>\n",
       "      <td>2012</td>\n",
       "      <td>109346.0</td>\n",
       "    </tr>\n",
       "    <tr>\n",
       "      <th>4</th>\n",
       "      <td>--000--</td>\n",
       "      <td>Action</td>\n",
       "      <td>2013</td>\n",
       "      <td>363.0</td>\n",
       "    </tr>\n",
       "    <tr>\n",
       "      <th>...</th>\n",
       "      <td>...</td>\n",
       "      <td>...</td>\n",
       "      <td>...</td>\n",
       "      <td>...</td>\n",
       "    </tr>\n",
       "    <tr>\n",
       "      <th>3495277</th>\n",
       "      <td>zzzmidmiss</td>\n",
       "      <td>Strategy</td>\n",
       "      <td>2009</td>\n",
       "      <td>0.0</td>\n",
       "    </tr>\n",
       "    <tr>\n",
       "      <th>3495278</th>\n",
       "      <td>zzzmidmiss</td>\n",
       "      <td>Strategy</td>\n",
       "      <td>2010</td>\n",
       "      <td>10.0</td>\n",
       "    </tr>\n",
       "    <tr>\n",
       "      <th>3495279</th>\n",
       "      <td>zzzmidmiss</td>\n",
       "      <td>Strategy</td>\n",
       "      <td>2011</td>\n",
       "      <td>69.0</td>\n",
       "    </tr>\n",
       "    <tr>\n",
       "      <th>3495280</th>\n",
       "      <td>zzzmidmiss</td>\n",
       "      <td>Strategy</td>\n",
       "      <td>2012</td>\n",
       "      <td>923.0</td>\n",
       "    </tr>\n",
       "    <tr>\n",
       "      <th>3495281</th>\n",
       "      <td>zzzmidmiss</td>\n",
       "      <td>Strategy</td>\n",
       "      <td>2016</td>\n",
       "      <td>0.0</td>\n",
       "    </tr>\n",
       "  </tbody>\n",
       "</table>\n",
       "<p>3495282 rows × 4 columns</p>\n",
       "</div>"
      ],
      "text/plain": [
       "            user_id    genres release_date  playtime_forever\n",
       "0           --000--    Action         2009            5329.0\n",
       "1           --000--    Action         2010              22.0\n",
       "2           --000--    Action         2011            6522.0\n",
       "3           --000--    Action         2012          109346.0\n",
       "4           --000--    Action         2013             363.0\n",
       "...             ...       ...          ...               ...\n",
       "3495277  zzzmidmiss  Strategy         2009               0.0\n",
       "3495278  zzzmidmiss  Strategy         2010              10.0\n",
       "3495279  zzzmidmiss  Strategy         2011              69.0\n",
       "3495280  zzzmidmiss  Strategy         2012             923.0\n",
       "3495281  zzzmidmiss  Strategy         2016               0.0\n",
       "\n",
       "[3495282 rows x 4 columns]"
      ]
     },
     "execution_count": 43,
     "metadata": {},
     "output_type": "execute_result"
    }
   ],
   "source": [
    "data_user_genre = data_user_genre.groupby(['user_id','genres','release_date'])['playtime_forever'].sum().reset_index()\n",
    "data_user_genre"
   ]
  },
  {
   "cell_type": "markdown",
   "metadata": {},
   "source": [
    "Los registros que tenían un valor de 0 en la columna \"playtime_forever\" se borraron por dos motivos: alivianar la cantidad de registros en el DataFrame y porque no tenían un valor significativo en el objetivo de nuestra función."
   ]
  },
  {
   "cell_type": "code",
   "execution_count": 44,
   "metadata": {},
   "outputs": [
    {
     "data": {
      "text/html": [
       "<div>\n",
       "<style scoped>\n",
       "    .dataframe tbody tr th:only-of-type {\n",
       "        vertical-align: middle;\n",
       "    }\n",
       "\n",
       "    .dataframe tbody tr th {\n",
       "        vertical-align: top;\n",
       "    }\n",
       "\n",
       "    .dataframe thead th {\n",
       "        text-align: right;\n",
       "    }\n",
       "</style>\n",
       "<table border=\"1\" class=\"dataframe\">\n",
       "  <thead>\n",
       "    <tr style=\"text-align: right;\">\n",
       "      <th></th>\n",
       "      <th>user_id</th>\n",
       "      <th>genres</th>\n",
       "      <th>release_date</th>\n",
       "      <th>playtime_forever</th>\n",
       "    </tr>\n",
       "  </thead>\n",
       "  <tbody>\n",
       "    <tr>\n",
       "      <th>0</th>\n",
       "      <td>--000--</td>\n",
       "      <td>Action</td>\n",
       "      <td>2009</td>\n",
       "      <td>5329.0</td>\n",
       "    </tr>\n",
       "    <tr>\n",
       "      <th>1</th>\n",
       "      <td>--000--</td>\n",
       "      <td>Action</td>\n",
       "      <td>2010</td>\n",
       "      <td>22.0</td>\n",
       "    </tr>\n",
       "    <tr>\n",
       "      <th>2</th>\n",
       "      <td>--000--</td>\n",
       "      <td>Action</td>\n",
       "      <td>2011</td>\n",
       "      <td>6522.0</td>\n",
       "    </tr>\n",
       "    <tr>\n",
       "      <th>3</th>\n",
       "      <td>--000--</td>\n",
       "      <td>Action</td>\n",
       "      <td>2012</td>\n",
       "      <td>109346.0</td>\n",
       "    </tr>\n",
       "    <tr>\n",
       "      <th>4</th>\n",
       "      <td>--000--</td>\n",
       "      <td>Action</td>\n",
       "      <td>2013</td>\n",
       "      <td>363.0</td>\n",
       "    </tr>\n",
       "    <tr>\n",
       "      <th>...</th>\n",
       "      <td>...</td>\n",
       "      <td>...</td>\n",
       "      <td>...</td>\n",
       "      <td>...</td>\n",
       "    </tr>\n",
       "    <tr>\n",
       "      <th>3495275</th>\n",
       "      <td>zzzmidmiss</td>\n",
       "      <td>Sports</td>\n",
       "      <td>2010</td>\n",
       "      <td>194.0</td>\n",
       "    </tr>\n",
       "    <tr>\n",
       "      <th>3495276</th>\n",
       "      <td>zzzmidmiss</td>\n",
       "      <td>Sports</td>\n",
       "      <td>2014</td>\n",
       "      <td>16.0</td>\n",
       "    </tr>\n",
       "    <tr>\n",
       "      <th>3495278</th>\n",
       "      <td>zzzmidmiss</td>\n",
       "      <td>Strategy</td>\n",
       "      <td>2010</td>\n",
       "      <td>10.0</td>\n",
       "    </tr>\n",
       "    <tr>\n",
       "      <th>3495279</th>\n",
       "      <td>zzzmidmiss</td>\n",
       "      <td>Strategy</td>\n",
       "      <td>2011</td>\n",
       "      <td>69.0</td>\n",
       "    </tr>\n",
       "    <tr>\n",
       "      <th>3495280</th>\n",
       "      <td>zzzmidmiss</td>\n",
       "      <td>Strategy</td>\n",
       "      <td>2012</td>\n",
       "      <td>923.0</td>\n",
       "    </tr>\n",
       "  </tbody>\n",
       "</table>\n",
       "<p>2893387 rows × 4 columns</p>\n",
       "</div>"
      ],
      "text/plain": [
       "            user_id    genres release_date  playtime_forever\n",
       "0           --000--    Action         2009            5329.0\n",
       "1           --000--    Action         2010              22.0\n",
       "2           --000--    Action         2011            6522.0\n",
       "3           --000--    Action         2012          109346.0\n",
       "4           --000--    Action         2013             363.0\n",
       "...             ...       ...          ...               ...\n",
       "3495275  zzzmidmiss    Sports         2010             194.0\n",
       "3495276  zzzmidmiss    Sports         2014              16.0\n",
       "3495278  zzzmidmiss  Strategy         2010              10.0\n",
       "3495279  zzzmidmiss  Strategy         2011              69.0\n",
       "3495280  zzzmidmiss  Strategy         2012             923.0\n",
       "\n",
       "[2893387 rows x 4 columns]"
      ]
     },
     "execution_count": 44,
     "metadata": {},
     "output_type": "execute_result"
    }
   ],
   "source": [
    "data_user_genre = data_user_genre.loc[data_user_genre['playtime_forever']>0]\n",
    "data_user_genre"
   ]
  },
  {
   "cell_type": "markdown",
   "metadata": {},
   "source": [
    "### Exportación de datos"
   ]
  },
  {
   "cell_type": "markdown",
   "metadata": {},
   "source": [
    "Exportamos el dataframe en formato Parquet, ademas de ser mas liviano es mas eficiente que el formato CSV."
   ]
  },
  {
   "cell_type": "code",
   "execution_count": 45,
   "metadata": {},
   "outputs": [],
   "source": [
    "data_user_genre.to_parquet('../Data_parquet/data_user_genre.parquet')"
   ]
  },
  {
   "cell_type": "markdown",
   "metadata": {},
   "source": [
    "### Función"
   ]
  },
  {
   "cell_type": "markdown",
   "metadata": {},
   "source": [
    "En la función que recibe dos parámetros, un DataFrame y un género de juegos que debe ser string, se filtró nuestro DataFrame \"data_user_genre\" por el género que se le ingrese. Luego, se ordenaron los valores de manera descendente y se extrajo la primera posición de esos valores. Después, se extrajeron todos los datos: horas de juego, nombre de usuario, años en los que jugó y las horas por cada uno de esos años. Esto último se logró mediante el agrupamiento por año y la suma de las horas jugadas. Por último, se guardaron los valores en un diccionario."
   ]
  },
  {
   "cell_type": "code",
   "execution_count": 46,
   "metadata": {},
   "outputs": [],
   "source": [
    "def UserForGenre(data_user_genre,genero:str):\n",
    "\n",
    "    data_genre = data_user_genre[data_user_genre['genres'] == genero]\n",
    "    data_usuario = data_genre.sort_values(by='playtime_forever',ascending=False).iloc[0]\n",
    "    hours = data_usuario.at['playtime_forever']\n",
    "    data_user =data_usuario.values[0]\n",
    "    anio = data_usuario.at['release_date']\n",
    "    horas_anuales_usuario = data_genre.groupby('release_date')['playtime_forever'].sum().reset_index()\n",
    "    horas_anuales = horas_anuales_usuario.to_dict(orient='records')\n",
    "    write = (f'Usuario con más horas jugadas para el género {genero} es: {data_user}, en el año {anio}: {hours} jugadas, además tenemos las horas jugadas por año del usuario {data_user}: {horas_anuales}')\n",
    "    return write              "
   ]
  },
  {
   "cell_type": "markdown",
   "metadata": {},
   "source": [
    "Revisión de ejecución de la función."
   ]
  },
  {
   "cell_type": "code",
   "execution_count": 47,
   "metadata": {},
   "outputs": [
    {
     "data": {
      "text/plain": [
       "\"Usuario con más horas jugadas para el género Sports es: 76561198019112245, en el año 2014: 182988.0 jugadas, además tenemos las horas jugadas por año del usuario 76561198019112245: [{'release_date': '1995', 'playtime_forever': 31220.0}, {'release_date': '2005', 'playtime_forever': 69758.0}, {'release_date': '2006', 'playtime_forever': 11211.0}, {'release_date': '2007', 'playtime_forever': 1308.0}, {'release_date': '2008', 'playtime_forever': 98946.0}, {'release_date': '2009', 'playtime_forever': 250785.0}, {'release_date': '2010', 'playtime_forever': 2397026.0}, {'release_date': '2011', 'playtime_forever': 930765.0}, {'release_date': '2012', 'playtime_forever': 3608452.0}, {'release_date': '2013', 'playtime_forever': 6257701.0}, {'release_date': '2014', 'playtime_forever': 5604627.0}, {'release_date': '2015', 'playtime_forever': 41795973.0}, {'release_date': '2016', 'playtime_forever': 4763913.0}, {'release_date': '2017', 'playtime_forever': 22876.0}, {'release_date': 'No data', 'playtime_forever': 4616.0}]\""
      ]
     },
     "execution_count": 47,
     "metadata": {},
     "output_type": "execute_result"
    }
   ],
   "source": [
    "UserForGenre(data_user_genre,'Sports')"
   ]
  },
  {
   "cell_type": "markdown",
   "metadata": {},
   "source": [
    "--------------------------------------------------------------------------------------------------------------------------"
   ]
  },
  {
   "cell_type": "markdown",
   "metadata": {},
   "source": [
    "### UsersRecommend"
   ]
  },
  {
   "cell_type": "markdown",
   "metadata": {},
   "source": [
    "def UsersRecommend( año : int ): Devuelve el top 3 de juegos MÁS recomendados por usuarios para el año dado. (reviews.recommend = True y comentarios positivos/neutrales)"
   ]
  },
  {
   "cell_type": "markdown",
   "metadata": {},
   "source": [
    "#### Procesamiento de datos"
   ]
  },
  {
   "cell_type": "markdown",
   "metadata": {},
   "source": [
    "Se unificaron los DataFrames \"data_output\" y \"data_review\" para dar lugar a \"data_recommend\", y se eliminaron las columnas que no serán necesarias para nuestra función."
   ]
  },
  {
   "cell_type": "code",
   "execution_count": 48,
   "metadata": {},
   "outputs": [
    {
     "data": {
      "text/html": [
       "<div>\n",
       "<style scoped>\n",
       "    .dataframe tbody tr th:only-of-type {\n",
       "        vertical-align: middle;\n",
       "    }\n",
       "\n",
       "    .dataframe tbody tr th {\n",
       "        vertical-align: top;\n",
       "    }\n",
       "\n",
       "    .dataframe thead th {\n",
       "        text-align: right;\n",
       "    }\n",
       "</style>\n",
       "<table border=\"1\" class=\"dataframe\">\n",
       "  <thead>\n",
       "    <tr style=\"text-align: right;\">\n",
       "      <th></th>\n",
       "      <th>app_name</th>\n",
       "      <th>item_id</th>\n",
       "      <th>user_id</th>\n",
       "      <th>posted</th>\n",
       "      <th>recommend</th>\n",
       "      <th>sentiment_analysis</th>\n",
       "    </tr>\n",
       "  </thead>\n",
       "  <tbody>\n",
       "    <tr>\n",
       "      <th>0</th>\n",
       "      <td>Carmageddon Max Pack</td>\n",
       "      <td>282010</td>\n",
       "      <td>InstigatorAU</td>\n",
       "      <td>2014</td>\n",
       "      <td>True</td>\n",
       "      <td>1</td>\n",
       "    </tr>\n",
       "    <tr>\n",
       "      <th>1</th>\n",
       "      <td>Carmageddon Max Pack</td>\n",
       "      <td>282010</td>\n",
       "      <td>InstigatorAU</td>\n",
       "      <td>2014</td>\n",
       "      <td>True</td>\n",
       "      <td>1</td>\n",
       "    </tr>\n",
       "    <tr>\n",
       "      <th>2</th>\n",
       "      <td>Carmageddon Max Pack</td>\n",
       "      <td>282010</td>\n",
       "      <td>InstigatorAU</td>\n",
       "      <td>2014</td>\n",
       "      <td>True</td>\n",
       "      <td>1</td>\n",
       "    </tr>\n",
       "    <tr>\n",
       "      <th>3</th>\n",
       "      <td>Half-Life</td>\n",
       "      <td>70</td>\n",
       "      <td>EizanAratoFujimaki</td>\n",
       "      <td>2015</td>\n",
       "      <td>True</td>\n",
       "      <td>1</td>\n",
       "    </tr>\n",
       "    <tr>\n",
       "      <th>4</th>\n",
       "      <td>Half-Life</td>\n",
       "      <td>70</td>\n",
       "      <td>76561198020928326</td>\n",
       "      <td>2014</td>\n",
       "      <td>True</td>\n",
       "      <td>1</td>\n",
       "    </tr>\n",
       "    <tr>\n",
       "      <th>...</th>\n",
       "      <td>...</td>\n",
       "      <td>...</td>\n",
       "      <td>...</td>\n",
       "      <td>...</td>\n",
       "      <td>...</td>\n",
       "      <td>...</td>\n",
       "    </tr>\n",
       "    <tr>\n",
       "      <th>126184</th>\n",
       "      <td>Counter-Strike: Condition Zero</td>\n",
       "      <td>80</td>\n",
       "      <td>76561198023508728</td>\n",
       "      <td>2014</td>\n",
       "      <td>False</td>\n",
       "      <td>1</td>\n",
       "    </tr>\n",
       "    <tr>\n",
       "      <th>126185</th>\n",
       "      <td>Counter-Strike: Condition Zero</td>\n",
       "      <td>80</td>\n",
       "      <td>Lone_walker</td>\n",
       "      <td>2013</td>\n",
       "      <td>True</td>\n",
       "      <td>2</td>\n",
       "    </tr>\n",
       "    <tr>\n",
       "      <th>126186</th>\n",
       "      <td>Counter-Strike: Condition Zero</td>\n",
       "      <td>80</td>\n",
       "      <td>virex4</td>\n",
       "      <td>2011</td>\n",
       "      <td>True</td>\n",
       "      <td>2</td>\n",
       "    </tr>\n",
       "    <tr>\n",
       "      <th>126187</th>\n",
       "      <td>Counter-Strike: Condition Zero</td>\n",
       "      <td>80</td>\n",
       "      <td>KILLERamateur</td>\n",
       "      <td>2014</td>\n",
       "      <td>True</td>\n",
       "      <td>2</td>\n",
       "    </tr>\n",
       "    <tr>\n",
       "      <th>126188</th>\n",
       "      <td>Counter-Strike: Condition Zero</td>\n",
       "      <td>80</td>\n",
       "      <td>76561198123074348</td>\n",
       "      <td>2014</td>\n",
       "      <td>False</td>\n",
       "      <td>0</td>\n",
       "    </tr>\n",
       "  </tbody>\n",
       "</table>\n",
       "<p>126189 rows × 6 columns</p>\n",
       "</div>"
      ],
      "text/plain": [
       "                              app_name  item_id             user_id  posted  \\\n",
       "0                 Carmageddon Max Pack   282010        InstigatorAU    2014   \n",
       "1                 Carmageddon Max Pack   282010        InstigatorAU    2014   \n",
       "2                 Carmageddon Max Pack   282010        InstigatorAU    2014   \n",
       "3                            Half-Life       70  EizanAratoFujimaki    2015   \n",
       "4                            Half-Life       70   76561198020928326    2014   \n",
       "...                                ...      ...                 ...     ...   \n",
       "126184  Counter-Strike: Condition Zero       80   76561198023508728    2014   \n",
       "126185  Counter-Strike: Condition Zero       80         Lone_walker    2013   \n",
       "126186  Counter-Strike: Condition Zero       80              virex4    2011   \n",
       "126187  Counter-Strike: Condition Zero       80       KILLERamateur    2014   \n",
       "126188  Counter-Strike: Condition Zero       80   76561198123074348    2014   \n",
       "\n",
       "        recommend  sentiment_analysis  \n",
       "0            True                   1  \n",
       "1            True                   1  \n",
       "2            True                   1  \n",
       "3            True                   1  \n",
       "4            True                   1  \n",
       "...           ...                 ...  \n",
       "126184      False                   1  \n",
       "126185       True                   2  \n",
       "126186       True                   2  \n",
       "126187       True                   2  \n",
       "126188      False                   0  \n",
       "\n",
       "[126189 rows x 6 columns]"
      ]
     },
     "execution_count": 48,
     "metadata": {},
     "output_type": "execute_result"
    }
   ],
   "source": [
    "data_recommend = pd.merge(data_output,data_review,on='item_id')\n",
    "data_recommend = data_recommend.drop(columns=['publisher','genres','title','release_date','price','early_access','developer','user_url'])\n",
    "data_recommend"
   ]
  },
  {
   "cell_type": "markdown",
   "metadata": {},
   "source": [
    "Se realiza un filtrado del DataFrame \"data_recommend\" con las condiciones de que el juego sea recomendado y además tenga un comentario que puede ser positivo tanto como neutral."
   ]
  },
  {
   "cell_type": "code",
   "execution_count": 49,
   "metadata": {},
   "outputs": [
    {
     "data": {
      "text/html": [
       "<div>\n",
       "<style scoped>\n",
       "    .dataframe tbody tr th:only-of-type {\n",
       "        vertical-align: middle;\n",
       "    }\n",
       "\n",
       "    .dataframe tbody tr th {\n",
       "        vertical-align: top;\n",
       "    }\n",
       "\n",
       "    .dataframe thead th {\n",
       "        text-align: right;\n",
       "    }\n",
       "</style>\n",
       "<table border=\"1\" class=\"dataframe\">\n",
       "  <thead>\n",
       "    <tr style=\"text-align: right;\">\n",
       "      <th></th>\n",
       "      <th>app_name</th>\n",
       "      <th>item_id</th>\n",
       "      <th>user_id</th>\n",
       "      <th>posted</th>\n",
       "      <th>recommend</th>\n",
       "      <th>sentiment_analysis</th>\n",
       "    </tr>\n",
       "  </thead>\n",
       "  <tbody>\n",
       "    <tr>\n",
       "      <th>0</th>\n",
       "      <td>Carmageddon Max Pack</td>\n",
       "      <td>282010</td>\n",
       "      <td>InstigatorAU</td>\n",
       "      <td>2014</td>\n",
       "      <td>True</td>\n",
       "      <td>1</td>\n",
       "    </tr>\n",
       "    <tr>\n",
       "      <th>1</th>\n",
       "      <td>Carmageddon Max Pack</td>\n",
       "      <td>282010</td>\n",
       "      <td>InstigatorAU</td>\n",
       "      <td>2014</td>\n",
       "      <td>True</td>\n",
       "      <td>1</td>\n",
       "    </tr>\n",
       "    <tr>\n",
       "      <th>2</th>\n",
       "      <td>Carmageddon Max Pack</td>\n",
       "      <td>282010</td>\n",
       "      <td>InstigatorAU</td>\n",
       "      <td>2014</td>\n",
       "      <td>True</td>\n",
       "      <td>1</td>\n",
       "    </tr>\n",
       "    <tr>\n",
       "      <th>3</th>\n",
       "      <td>Half-Life</td>\n",
       "      <td>70</td>\n",
       "      <td>EizanAratoFujimaki</td>\n",
       "      <td>2015</td>\n",
       "      <td>True</td>\n",
       "      <td>1</td>\n",
       "    </tr>\n",
       "    <tr>\n",
       "      <th>4</th>\n",
       "      <td>Half-Life</td>\n",
       "      <td>70</td>\n",
       "      <td>76561198020928326</td>\n",
       "      <td>2014</td>\n",
       "      <td>True</td>\n",
       "      <td>1</td>\n",
       "    </tr>\n",
       "    <tr>\n",
       "      <th>...</th>\n",
       "      <td>...</td>\n",
       "      <td>...</td>\n",
       "      <td>...</td>\n",
       "      <td>...</td>\n",
       "      <td>...</td>\n",
       "      <td>...</td>\n",
       "    </tr>\n",
       "    <tr>\n",
       "      <th>126180</th>\n",
       "      <td>Counter-Strike: Condition Zero</td>\n",
       "      <td>80</td>\n",
       "      <td>bindisposerer</td>\n",
       "      <td>2015</td>\n",
       "      <td>True</td>\n",
       "      <td>1</td>\n",
       "    </tr>\n",
       "    <tr>\n",
       "      <th>126181</th>\n",
       "      <td>Counter-Strike: Condition Zero</td>\n",
       "      <td>80</td>\n",
       "      <td>174gamecuman700kngkakak</td>\n",
       "      <td>2014</td>\n",
       "      <td>True</td>\n",
       "      <td>1</td>\n",
       "    </tr>\n",
       "    <tr>\n",
       "      <th>126185</th>\n",
       "      <td>Counter-Strike: Condition Zero</td>\n",
       "      <td>80</td>\n",
       "      <td>Lone_walker</td>\n",
       "      <td>2013</td>\n",
       "      <td>True</td>\n",
       "      <td>2</td>\n",
       "    </tr>\n",
       "    <tr>\n",
       "      <th>126186</th>\n",
       "      <td>Counter-Strike: Condition Zero</td>\n",
       "      <td>80</td>\n",
       "      <td>virex4</td>\n",
       "      <td>2011</td>\n",
       "      <td>True</td>\n",
       "      <td>2</td>\n",
       "    </tr>\n",
       "    <tr>\n",
       "      <th>126187</th>\n",
       "      <td>Counter-Strike: Condition Zero</td>\n",
       "      <td>80</td>\n",
       "      <td>KILLERamateur</td>\n",
       "      <td>2014</td>\n",
       "      <td>True</td>\n",
       "      <td>2</td>\n",
       "    </tr>\n",
       "  </tbody>\n",
       "</table>\n",
       "<p>105215 rows × 6 columns</p>\n",
       "</div>"
      ],
      "text/plain": [
       "                              app_name  item_id                  user_id  \\\n",
       "0                 Carmageddon Max Pack   282010             InstigatorAU   \n",
       "1                 Carmageddon Max Pack   282010             InstigatorAU   \n",
       "2                 Carmageddon Max Pack   282010             InstigatorAU   \n",
       "3                            Half-Life       70       EizanAratoFujimaki   \n",
       "4                            Half-Life       70        76561198020928326   \n",
       "...                                ...      ...                      ...   \n",
       "126180  Counter-Strike: Condition Zero       80            bindisposerer   \n",
       "126181  Counter-Strike: Condition Zero       80  174gamecuman700kngkakak   \n",
       "126185  Counter-Strike: Condition Zero       80              Lone_walker   \n",
       "126186  Counter-Strike: Condition Zero       80                   virex4   \n",
       "126187  Counter-Strike: Condition Zero       80            KILLERamateur   \n",
       "\n",
       "        posted  recommend  sentiment_analysis  \n",
       "0         2014       True                   1  \n",
       "1         2014       True                   1  \n",
       "2         2014       True                   1  \n",
       "3         2015       True                   1  \n",
       "4         2014       True                   1  \n",
       "...        ...        ...                 ...  \n",
       "126180    2015       True                   1  \n",
       "126181    2014       True                   1  \n",
       "126185    2013       True                   2  \n",
       "126186    2011       True                   2  \n",
       "126187    2014       True                   2  \n",
       "\n",
       "[105215 rows x 6 columns]"
      ]
     },
     "execution_count": 49,
     "metadata": {},
     "output_type": "execute_result"
    }
   ],
   "source": [
    "data_recommend = data_recommend[(data_recommend['recommend'] == True) & (data_recommend['sentiment_analysis'].isin([1,2]))]\n",
    "data_recommend"
   ]
  },
  {
   "cell_type": "markdown",
   "metadata": {},
   "source": [
    "Se realiza una agrupación de los registros a través de su nombre y el año en el que fue recomendado y comentado por los usuarios."
   ]
  },
  {
   "cell_type": "code",
   "execution_count": 50,
   "metadata": {},
   "outputs": [
    {
     "data": {
      "text/html": [
       "<div>\n",
       "<style scoped>\n",
       "    .dataframe tbody tr th:only-of-type {\n",
       "        vertical-align: middle;\n",
       "    }\n",
       "\n",
       "    .dataframe tbody tr th {\n",
       "        vertical-align: top;\n",
       "    }\n",
       "\n",
       "    .dataframe thead th {\n",
       "        text-align: right;\n",
       "    }\n",
       "</style>\n",
       "<table border=\"1\" class=\"dataframe\">\n",
       "  <thead>\n",
       "    <tr style=\"text-align: right;\">\n",
       "      <th></th>\n",
       "      <th>app_name</th>\n",
       "      <th>posted</th>\n",
       "      <th>recommend</th>\n",
       "    </tr>\n",
       "  </thead>\n",
       "  <tbody>\n",
       "    <tr>\n",
       "      <th>0</th>\n",
       "      <td>//N.P.P.D. RUSH//- The milk of Ultraviolet</td>\n",
       "      <td>2015</td>\n",
       "      <td>2</td>\n",
       "    </tr>\n",
       "    <tr>\n",
       "      <th>1</th>\n",
       "      <td>0RBITALIS</td>\n",
       "      <td>2014</td>\n",
       "      <td>2</td>\n",
       "    </tr>\n",
       "    <tr>\n",
       "      <th>2</th>\n",
       "      <td>10,000,000</td>\n",
       "      <td>2014</td>\n",
       "      <td>8</td>\n",
       "    </tr>\n",
       "    <tr>\n",
       "      <th>3</th>\n",
       "      <td>10,000,000</td>\n",
       "      <td>2015</td>\n",
       "      <td>4</td>\n",
       "    </tr>\n",
       "    <tr>\n",
       "      <th>4</th>\n",
       "      <td>100% Orange Juice</td>\n",
       "      <td>2014</td>\n",
       "      <td>12</td>\n",
       "    </tr>\n",
       "    <tr>\n",
       "      <th>...</th>\n",
       "      <td>...</td>\n",
       "      <td>...</td>\n",
       "      <td>...</td>\n",
       "    </tr>\n",
       "    <tr>\n",
       "      <th>4602</th>\n",
       "      <td>theHunter Classic</td>\n",
       "      <td>2014</td>\n",
       "      <td>100</td>\n",
       "    </tr>\n",
       "    <tr>\n",
       "      <th>4603</th>\n",
       "      <td>theHunter Classic</td>\n",
       "      <td>2015</td>\n",
       "      <td>65</td>\n",
       "    </tr>\n",
       "    <tr>\n",
       "      <th>4604</th>\n",
       "      <td>theHunter: Primal</td>\n",
       "      <td>2014</td>\n",
       "      <td>12</td>\n",
       "    </tr>\n",
       "    <tr>\n",
       "      <th>4605</th>\n",
       "      <td>theHunter: Primal</td>\n",
       "      <td>2015</td>\n",
       "      <td>24</td>\n",
       "    </tr>\n",
       "    <tr>\n",
       "      <th>4606</th>\n",
       "      <td>Астролорды: Облако Оорта</td>\n",
       "      <td>2015</td>\n",
       "      <td>4</td>\n",
       "    </tr>\n",
       "  </tbody>\n",
       "</table>\n",
       "<p>4607 rows × 3 columns</p>\n",
       "</div>"
      ],
      "text/plain": [
       "                                        app_name  posted  recommend\n",
       "0     //N.P.P.D. RUSH//- The milk of Ultraviolet    2015          2\n",
       "1                                      0RBITALIS    2014          2\n",
       "2                                     10,000,000    2014          8\n",
       "3                                     10,000,000    2015          4\n",
       "4                              100% Orange Juice    2014         12\n",
       "...                                          ...     ...        ...\n",
       "4602                           theHunter Classic    2014        100\n",
       "4603                           theHunter Classic    2015         65\n",
       "4604                           theHunter: Primal    2014         12\n",
       "4605                           theHunter: Primal    2015         24\n",
       "4606                    Астролорды: Облако Оорта    2015          4\n",
       "\n",
       "[4607 rows x 3 columns]"
      ]
     },
     "execution_count": 50,
     "metadata": {},
     "output_type": "execute_result"
    }
   ],
   "source": [
    "data_recommend = data_recommend.groupby(['app_name','posted'])['recommend'].sum().reset_index()\n",
    "data_recommend"
   ]
  },
  {
   "cell_type": "markdown",
   "metadata": {},
   "source": [
    "### Exportación de datos"
   ]
  },
  {
   "cell_type": "markdown",
   "metadata": {},
   "source": [
    "Exportamos el dataframe en formato Parquet, ademas de ser mas liviano es mas eficiente que el formato CSV."
   ]
  },
  {
   "cell_type": "code",
   "execution_count": 51,
   "metadata": {},
   "outputs": [],
   "source": [
    "data_recommend.to_parquet('../Data_parquet/data_recommend.parquet')"
   ]
  },
  {
   "cell_type": "markdown",
   "metadata": {},
   "source": [
    "### Función"
   ]
  },
  {
   "cell_type": "markdown",
   "metadata": {},
   "source": [
    "La función recibe dos parámetros, un DataFrame y el año que se desee ingresar. Se realiza un filtro para el año ingresado y luego se procede a ordenar de manera descendente los valores de la columna \"recommend\". De la misma se toman los tres primeros valores y el nombre de esos juegos."
   ]
  },
  {
   "cell_type": "code",
   "execution_count": 52,
   "metadata": {},
   "outputs": [],
   "source": [
    "def UsersRecommend(dataframe,anio:int):\n",
    "    datarecommend = dataframe[dataframe['posted'] == anio]\n",
    "    top3_games = datarecommend.sort_values(by= 'recommend',ascending= False).iloc[0:3]\n",
    "    names = top3_games['app_name'].tolist()\n",
    "    anio = top3_games['posted'].tolist()\n",
    "    write = f'Puesto 1:{names[0]} , Puesto 2:{names[1]} , Puesto 3:{names[2]}'\n",
    "    return write"
   ]
  },
  {
   "cell_type": "markdown",
   "metadata": {},
   "source": [
    "Revisión de ejecución de la función."
   ]
  },
  {
   "cell_type": "code",
   "execution_count": 53,
   "metadata": {},
   "outputs": [
    {
     "data": {
      "text/plain": [
       "'Puesto 1:Counter-Strike: Global Offensive , Puesto 2:Unturned , Puesto 3:Team Fortress 2'"
      ]
     },
     "execution_count": 53,
     "metadata": {},
     "output_type": "execute_result"
    }
   ],
   "source": [
    "UsersRecommend(data_recommend,2015)"
   ]
  },
  {
   "cell_type": "markdown",
   "metadata": {},
   "source": [
    "--------------------------------------------------------------------------------------------------------------------------"
   ]
  },
  {
   "cell_type": "markdown",
   "metadata": {},
   "source": [
    "### UsersWorstDeveloper"
   ]
  },
  {
   "cell_type": "markdown",
   "metadata": {},
   "source": [
    "def UsersWorstDeveloper( año : int ): Devuelve el top 3 de desarrolladoras con juegos MENOS recomendados por usuarios para el año dado. (reviews.recommend = False y comentarios negativos)"
   ]
  },
  {
   "cell_type": "markdown",
   "metadata": {},
   "source": [
    "#### Procesamiento de datos"
   ]
  },
  {
   "cell_type": "markdown",
   "metadata": {},
   "source": [
    "Se verificaron dos igualdades: si el juego era recomendado o no y si el comentario era negativo. Se agruparon los registros de esas igualdades a través de su identificador (item_id) y el año de posteo, además de resetear el índice. Luego se unió el DataFrame \"count_worst_reviews\" con el DataFrame \"data_output\". Se quitaron columnas innecesarias para la función."
   ]
  },
  {
   "cell_type": "code",
   "execution_count": 54,
   "metadata": {},
   "outputs": [
    {
     "data": {
      "text/html": [
       "<div>\n",
       "<style scoped>\n",
       "    .dataframe tbody tr th:only-of-type {\n",
       "        vertical-align: middle;\n",
       "    }\n",
       "\n",
       "    .dataframe tbody tr th {\n",
       "        vertical-align: top;\n",
       "    }\n",
       "\n",
       "    .dataframe thead th {\n",
       "        text-align: right;\n",
       "    }\n",
       "</style>\n",
       "<table border=\"1\" class=\"dataframe\">\n",
       "  <thead>\n",
       "    <tr style=\"text-align: right;\">\n",
       "      <th></th>\n",
       "      <th>item_id</th>\n",
       "      <th>posted</th>\n",
       "      <th>cbad_reviews</th>\n",
       "      <th>developer</th>\n",
       "    </tr>\n",
       "  </thead>\n",
       "  <tbody>\n",
       "    <tr>\n",
       "      <th>0</th>\n",
       "      <td>10</td>\n",
       "      <td>2015</td>\n",
       "      <td>1</td>\n",
       "      <td>Valve</td>\n",
       "    </tr>\n",
       "    <tr>\n",
       "      <th>1</th>\n",
       "      <td>20</td>\n",
       "      <td>2015</td>\n",
       "      <td>1</td>\n",
       "      <td>Valve</td>\n",
       "    </tr>\n",
       "    <tr>\n",
       "      <th>2</th>\n",
       "      <td>80</td>\n",
       "      <td>2014</td>\n",
       "      <td>1</td>\n",
       "      <td>Valve</td>\n",
       "    </tr>\n",
       "    <tr>\n",
       "      <th>3</th>\n",
       "      <td>220</td>\n",
       "      <td>2014</td>\n",
       "      <td>1</td>\n",
       "      <td>Valve</td>\n",
       "    </tr>\n",
       "    <tr>\n",
       "      <th>4</th>\n",
       "      <td>220</td>\n",
       "      <td>2015</td>\n",
       "      <td>1</td>\n",
       "      <td>Valve</td>\n",
       "    </tr>\n",
       "    <tr>\n",
       "      <th>...</th>\n",
       "      <td>...</td>\n",
       "      <td>...</td>\n",
       "      <td>...</td>\n",
       "      <td>...</td>\n",
       "    </tr>\n",
       "    <tr>\n",
       "      <th>1737</th>\n",
       "      <td>501760</td>\n",
       "      <td>2014</td>\n",
       "      <td>1</td>\n",
       "      <td>Kiddy</td>\n",
       "    </tr>\n",
       "    <tr>\n",
       "      <th>1738</th>\n",
       "      <td>501760</td>\n",
       "      <td>2014</td>\n",
       "      <td>1</td>\n",
       "      <td>Kiddy</td>\n",
       "    </tr>\n",
       "    <tr>\n",
       "      <th>1739</th>\n",
       "      <td>502550</td>\n",
       "      <td>2014</td>\n",
       "      <td>1</td>\n",
       "      <td>Freakinware Limited</td>\n",
       "    </tr>\n",
       "    <tr>\n",
       "      <th>1740</th>\n",
       "      <td>502550</td>\n",
       "      <td>2014</td>\n",
       "      <td>1</td>\n",
       "      <td>Freakinware Limited</td>\n",
       "    </tr>\n",
       "    <tr>\n",
       "      <th>1741</th>\n",
       "      <td>502550</td>\n",
       "      <td>2014</td>\n",
       "      <td>1</td>\n",
       "      <td>Freakinware Limited</td>\n",
       "    </tr>\n",
       "  </tbody>\n",
       "</table>\n",
       "<p>1742 rows × 4 columns</p>\n",
       "</div>"
      ],
      "text/plain": [
       "      item_id  posted  cbad_reviews            developer\n",
       "0          10    2015             1                Valve\n",
       "1          20    2015             1                Valve\n",
       "2          80    2014             1                Valve\n",
       "3         220    2014             1                Valve\n",
       "4         220    2015             1                Valve\n",
       "...       ...     ...           ...                  ...\n",
       "1737   501760    2014             1                Kiddy\n",
       "1738   501760    2014             1                Kiddy\n",
       "1739   502550    2014             1  Freakinware Limited\n",
       "1740   502550    2014             1  Freakinware Limited\n",
       "1741   502550    2014             1  Freakinware Limited\n",
       "\n",
       "[1742 rows x 4 columns]"
      ]
     },
     "execution_count": 54,
     "metadata": {},
     "output_type": "execute_result"
    }
   ],
   "source": [
    "worst_reviews = data_review[(data_review['recommend'] == False) & (data_review['sentiment_analysis'] == 0)]\n",
    "count_worst_reviews = worst_reviews.groupby(['item_id','posted']).size().reset_index(name='cbad_reviews')\n",
    "df_users = pd.merge(count_worst_reviews,data_output)\n",
    "df_users = df_users.drop(columns=['early_access','price','release_date','app_name','title','genres','publisher'])\n",
    "df_users\n"
   ]
  },
  {
   "cell_type": "markdown",
   "metadata": {},
   "source": [
    "### Exportación de datos"
   ]
  },
  {
   "cell_type": "markdown",
   "metadata": {},
   "source": [
    "Exportamos el dataframe en formato Parquet, ademas de ser mas liviano es mas eficiente que el formato CSV."
   ]
  },
  {
   "cell_type": "code",
   "execution_count": 55,
   "metadata": {},
   "outputs": [],
   "source": [
    "df_users.to_parquet('../Data_parquet/data_users.parquet')"
   ]
  },
  {
   "cell_type": "markdown",
   "metadata": {},
   "source": [
    "### Función"
   ]
  },
  {
   "cell_type": "markdown",
   "metadata": {},
   "source": [
    "La función \"UsersWorstDeveloper\" recibe dos parámetros: un DataFrame y el año que debe ser de tipo entero. Se instancia un nuevo DataFrame filtrado con solo el año que se pide. Luego, se seleccionan solo los 3 primeros desarrolladores que nos da el contador de valores, y se hace un ciclo for para devolver en qué posición y qué desarrolladores son los 3 peores."
   ]
  },
  {
   "cell_type": "code",
   "execution_count": 56,
   "metadata": {},
   "outputs": [],
   "source": [
    "def UsersWorstDeveloper(dataframe,anio:int):\n",
    "\n",
    "    dfworst = dataframe[(dataframe['posted'] == anio)]\n",
    "\n",
    "    count_worst_dev = dfworst['developer'].value_counts()\n",
    "\n",
    "    top_3_worst = count_worst_dev.head(3)\n",
    "\n",
    "    top_3 = []\n",
    "\n",
    "    for position,(developer,_) in enumerate(top_3_worst.items()):\n",
    "        top_3.append({f'Puesto {position+1}:':developer})\n",
    "\n",
    "    return top_3"
   ]
  },
  {
   "cell_type": "markdown",
   "metadata": {},
   "source": [
    "Revisión de ejecución de la función."
   ]
  },
  {
   "cell_type": "code",
   "execution_count": 57,
   "metadata": {},
   "outputs": [
    {
     "data": {
      "text/plain": [
       "[{'Puesto 1:': 'Cherry Pop Games'},\n",
       " {'Puesto 2:': 'ProjectorGames'},\n",
       " {'Puesto 3:': 'Valve'}]"
      ]
     },
     "execution_count": 57,
     "metadata": {},
     "output_type": "execute_result"
    }
   ],
   "source": [
    "UsersWorstDeveloper(df_users,2015)"
   ]
  },
  {
   "cell_type": "markdown",
   "metadata": {},
   "source": [
    "--------------------------------------------------------------------------------------------------------------------------"
   ]
  },
  {
   "cell_type": "markdown",
   "metadata": {},
   "source": [
    "### Sentiment_analysis"
   ]
  },
  {
   "cell_type": "markdown",
   "metadata": {},
   "source": [
    "def sentiment_analysis( empresa desarrolladora : str ): Según la empresa desarrolladora, se devuelve un diccionario con el nombre de la desarrolladora como llave y una lista con la cantidad total de registros de reseñas de usuarios que se encuentren categorizados con un análisis de sentimiento como valor."
   ]
  },
  {
   "cell_type": "markdown",
   "metadata": {},
   "source": [
    "#### Procesamiento de datos"
   ]
  },
  {
   "cell_type": "markdown",
   "metadata": {},
   "source": [
    "Se unieron dos DataFrames, \"data_output\" y \"data_review\", para luego dar lugar a un nuevo DataFrame llamado \"data_sentiment\". Posteriormente, se eliminaron las columnas que no estábamos utilizando o que no serían necesarias para las funciones de la API."
   ]
  },
  {
   "cell_type": "code",
   "execution_count": 58,
   "metadata": {},
   "outputs": [
    {
     "data": {
      "text/html": [
       "<div>\n",
       "<style scoped>\n",
       "    .dataframe tbody tr th:only-of-type {\n",
       "        vertical-align: middle;\n",
       "    }\n",
       "\n",
       "    .dataframe tbody tr th {\n",
       "        vertical-align: top;\n",
       "    }\n",
       "\n",
       "    .dataframe thead th {\n",
       "        text-align: right;\n",
       "    }\n",
       "</style>\n",
       "<table border=\"1\" class=\"dataframe\">\n",
       "  <thead>\n",
       "    <tr style=\"text-align: right;\">\n",
       "      <th></th>\n",
       "      <th>item_id</th>\n",
       "      <th>developer</th>\n",
       "      <th>sentiment_analysis</th>\n",
       "    </tr>\n",
       "  </thead>\n",
       "  <tbody>\n",
       "    <tr>\n",
       "      <th>0</th>\n",
       "      <td>282010</td>\n",
       "      <td>Stainless Games Ltd</td>\n",
       "      <td>1</td>\n",
       "    </tr>\n",
       "    <tr>\n",
       "      <th>1</th>\n",
       "      <td>282010</td>\n",
       "      <td>Stainless Games Ltd</td>\n",
       "      <td>1</td>\n",
       "    </tr>\n",
       "    <tr>\n",
       "      <th>2</th>\n",
       "      <td>282010</td>\n",
       "      <td>Stainless Games Ltd</td>\n",
       "      <td>1</td>\n",
       "    </tr>\n",
       "    <tr>\n",
       "      <th>3</th>\n",
       "      <td>70</td>\n",
       "      <td>Valve</td>\n",
       "      <td>1</td>\n",
       "    </tr>\n",
       "    <tr>\n",
       "      <th>4</th>\n",
       "      <td>70</td>\n",
       "      <td>Valve</td>\n",
       "      <td>1</td>\n",
       "    </tr>\n",
       "    <tr>\n",
       "      <th>...</th>\n",
       "      <td>...</td>\n",
       "      <td>...</td>\n",
       "      <td>...</td>\n",
       "    </tr>\n",
       "    <tr>\n",
       "      <th>126184</th>\n",
       "      <td>80</td>\n",
       "      <td>Valve</td>\n",
       "      <td>1</td>\n",
       "    </tr>\n",
       "    <tr>\n",
       "      <th>126185</th>\n",
       "      <td>80</td>\n",
       "      <td>Valve</td>\n",
       "      <td>2</td>\n",
       "    </tr>\n",
       "    <tr>\n",
       "      <th>126186</th>\n",
       "      <td>80</td>\n",
       "      <td>Valve</td>\n",
       "      <td>2</td>\n",
       "    </tr>\n",
       "    <tr>\n",
       "      <th>126187</th>\n",
       "      <td>80</td>\n",
       "      <td>Valve</td>\n",
       "      <td>2</td>\n",
       "    </tr>\n",
       "    <tr>\n",
       "      <th>126188</th>\n",
       "      <td>80</td>\n",
       "      <td>Valve</td>\n",
       "      <td>0</td>\n",
       "    </tr>\n",
       "  </tbody>\n",
       "</table>\n",
       "<p>126189 rows × 3 columns</p>\n",
       "</div>"
      ],
      "text/plain": [
       "        item_id            developer  sentiment_analysis\n",
       "0        282010  Stainless Games Ltd                   1\n",
       "1        282010  Stainless Games Ltd                   1\n",
       "2        282010  Stainless Games Ltd                   1\n",
       "3            70                Valve                   1\n",
       "4            70                Valve                   1\n",
       "...         ...                  ...                 ...\n",
       "126184       80                Valve                   1\n",
       "126185       80                Valve                   2\n",
       "126186       80                Valve                   2\n",
       "126187       80                Valve                   2\n",
       "126188       80                Valve                   0\n",
       "\n",
       "[126189 rows x 3 columns]"
      ]
     },
     "execution_count": 58,
     "metadata": {},
     "output_type": "execute_result"
    }
   ],
   "source": [
    "data_sentiment = pd.merge(data_output,data_review, on='item_id')\n",
    "data_sentiment = data_sentiment.drop(columns=['recommend','publisher','genres','app_name','title','release_date','price','early_access','user_id','user_url','posted'])\n",
    "data_sentiment"
   ]
  },
  {
   "cell_type": "markdown",
   "metadata": {},
   "source": [
    "Se agrupó por desarrolladora de juegos y por análisis de sentimiento. Con la función \"size\", se sumaron los elementos de cada valor posible (0, 1 y 2) para las columnas de análisis de sentimiento. Para una mejor visualización, se utilizó la función \"unstack\", ya que \"size\" convierte los datos a un formato menos agradable visualmente. Por último, y para asegurar que ninguna desarrolladora tenga valor cero en las tres columnas, se utilizó un filtro para ello."
   ]
  },
  {
   "cell_type": "code",
   "execution_count": 59,
   "metadata": {},
   "outputs": [
    {
     "data": {
      "text/html": [
       "<div>\n",
       "<style scoped>\n",
       "    .dataframe tbody tr th:only-of-type {\n",
       "        vertical-align: middle;\n",
       "    }\n",
       "\n",
       "    .dataframe tbody tr th {\n",
       "        vertical-align: top;\n",
       "    }\n",
       "\n",
       "    .dataframe thead th {\n",
       "        text-align: right;\n",
       "    }\n",
       "</style>\n",
       "<table border=\"1\" class=\"dataframe\">\n",
       "  <thead>\n",
       "    <tr style=\"text-align: right;\">\n",
       "      <th>sentiment_analysis</th>\n",
       "      <th>0</th>\n",
       "      <th>1</th>\n",
       "      <th>2</th>\n",
       "    </tr>\n",
       "    <tr>\n",
       "      <th>developer</th>\n",
       "      <th></th>\n",
       "      <th></th>\n",
       "      <th></th>\n",
       "    </tr>\n",
       "  </thead>\n",
       "  <tbody>\n",
       "    <tr>\n",
       "      <th>07th Expansion</th>\n",
       "      <td>0</td>\n",
       "      <td>3</td>\n",
       "      <td>0</td>\n",
       "    </tr>\n",
       "    <tr>\n",
       "      <th>10th Art Studio,Adventure Productions</th>\n",
       "      <td>0</td>\n",
       "      <td>4</td>\n",
       "      <td>0</td>\n",
       "    </tr>\n",
       "    <tr>\n",
       "      <th>10tons Ltd</th>\n",
       "      <td>0</td>\n",
       "      <td>3</td>\n",
       "      <td>0</td>\n",
       "    </tr>\n",
       "    <tr>\n",
       "      <th>11 bit studios</th>\n",
       "      <td>24</td>\n",
       "      <td>150</td>\n",
       "      <td>15</td>\n",
       "    </tr>\n",
       "    <tr>\n",
       "      <th>14° East</th>\n",
       "      <td>1</td>\n",
       "      <td>1</td>\n",
       "      <td>0</td>\n",
       "    </tr>\n",
       "    <tr>\n",
       "      <th>...</th>\n",
       "      <td>...</td>\n",
       "      <td>...</td>\n",
       "      <td>...</td>\n",
       "    </tr>\n",
       "    <tr>\n",
       "      <th>xXarabongXx</th>\n",
       "      <td>0</td>\n",
       "      <td>6</td>\n",
       "      <td>0</td>\n",
       "    </tr>\n",
       "    <tr>\n",
       "      <th>△○□× (Miwashiba)</th>\n",
       "      <td>0</td>\n",
       "      <td>6</td>\n",
       "      <td>4</td>\n",
       "    </tr>\n",
       "    <tr>\n",
       "      <th>インレ,Inre</th>\n",
       "      <td>0</td>\n",
       "      <td>8</td>\n",
       "      <td>2</td>\n",
       "    </tr>\n",
       "    <tr>\n",
       "      <th>橘子班</th>\n",
       "      <td>3</td>\n",
       "      <td>9</td>\n",
       "      <td>0</td>\n",
       "    </tr>\n",
       "    <tr>\n",
       "      <th>高考恋爱委员会,橘子班</th>\n",
       "      <td>0</td>\n",
       "      <td>8</td>\n",
       "      <td>0</td>\n",
       "    </tr>\n",
       "  </tbody>\n",
       "</table>\n",
       "<p>2105 rows × 3 columns</p>\n",
       "</div>"
      ],
      "text/plain": [
       "sentiment_analysis                      0    1   2\n",
       "developer                                         \n",
       "07th Expansion                          0    3   0\n",
       "10th Art Studio,Adventure Productions   0    4   0\n",
       "10tons Ltd                              0    3   0\n",
       "11 bit studios                         24  150  15\n",
       "14° East                                1    1   0\n",
       "...                                    ..  ...  ..\n",
       "xXarabongXx                             0    6   0\n",
       "△○□× (Miwashiba)                        0    6   4\n",
       "インレ,Inre                                0    8   2\n",
       "橘子班                                     3    9   0\n",
       "高考恋爱委员会,橘子班                             0    8   0\n",
       "\n",
       "[2105 rows x 3 columns]"
      ]
     },
     "execution_count": 59,
     "metadata": {},
     "output_type": "execute_result"
    }
   ],
   "source": [
    "data_sentiment = data_sentiment.groupby(['developer','sentiment_analysis']).size().unstack(fill_value=0)\n",
    "drop = data_sentiment.loc[(data_sentiment == 0).all(axis=1)] \n",
    "data_sentiment = data_sentiment.drop(index=drop.index)\n",
    "data_sentiment"
   ]
  },
  {
   "cell_type": "markdown",
   "metadata": {},
   "source": [
    "### Exportación de datos"
   ]
  },
  {
   "cell_type": "markdown",
   "metadata": {},
   "source": [
    "Exportamos el dataframe en formato Parquet, ademas de ser mas liviano es mas eficiente que el formato CSV."
   ]
  },
  {
   "cell_type": "code",
   "execution_count": 60,
   "metadata": {},
   "outputs": [],
   "source": [
    "data_sentiment.to_parquet('../Data_parquet/data_sentiment.parquet')"
   ]
  },
  {
   "cell_type": "markdown",
   "metadata": {},
   "source": [
    "### Función"
   ]
  },
  {
   "cell_type": "markdown",
   "metadata": {},
   "source": [
    "La función creada recibe dos parámetros: un DataFrame y el nombre de la desarrolladora de juegos, que debe ser de tipo string. Se realiza una búsqueda con la función \"loc\" a través del índice, que sería el nombre de la desarrolladora, y por el nombre de las columnas. Luego, se convierte a una lista y se imprime dentro de un diccionario."
   ]
  },
  {
   "cell_type": "code",
   "execution_count": 61,
   "metadata": {},
   "outputs": [],
   "source": [
    "def sentiment_analysis( dataframe,desarrolladora:str ):\n",
    "    developer2= dataframe.loc[desarrolladora,[0,1,2]].to_list()\n",
    "    write = {desarrolladora:developer2}\n",
    "    return write"
   ]
  },
  {
   "cell_type": "markdown",
   "metadata": {},
   "source": [
    "Revisión de ejecución de la función."
   ]
  },
  {
   "cell_type": "code",
   "execution_count": 62,
   "metadata": {},
   "outputs": [
    {
     "data": {
      "text/plain": [
       "{'07th Expansion': [0, 3, 0]}"
      ]
     },
     "execution_count": 62,
     "metadata": {},
     "output_type": "execute_result"
    }
   ],
   "source": [
    "sentiment_analysis(data_sentiment,'07th Expansion')"
   ]
  },
  {
   "cell_type": "markdown",
   "metadata": {},
   "source": [
    "### Conclusión"
   ]
  },
  {
   "cell_type": "markdown",
   "metadata": {},
   "source": [
    "Terminadas las transformaciones específicas para cada dataframe y con su función correctamente empleada debajo, se procede a ir a la última etapa que es consultar las funciones en el archivo [main.py](../main.py), ejecutarlas con FastApi de manera local y, por último, desplegarlas en Render desde la web. El archivo [requirements.txt](../requirements.txt) posee todas las bibliotecas con sus versiones específicas que se utilizaron para el proceso de este proyecto.\n",
    "Además, se puede acceder al video con la explicación y resumen del proyecto.\n"
   ]
  }
 ],
 "metadata": {
  "kernelspec": {
   "display_name": "Python 3",
   "language": "python",
   "name": "python3"
  },
  "language_info": {
   "codemirror_mode": {
    "name": "ipython",
    "version": 3
   },
   "file_extension": ".py",
   "mimetype": "text/x-python",
   "name": "python",
   "nbconvert_exporter": "python",
   "pygments_lexer": "ipython3",
   "version": "3.11.4"
  }
 },
 "nbformat": 4,
 "nbformat_minor": 2
}
