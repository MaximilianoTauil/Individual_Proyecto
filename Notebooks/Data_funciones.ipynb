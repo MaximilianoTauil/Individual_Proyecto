{
 "cells": [
  {
   "cell_type": "markdown",
   "metadata": {},
   "source": [
    "# DataFrames para funciones y sus respectivas funciones."
   ]
  },
  {
   "cell_type": "markdown",
   "metadata": {},
   "source": [
    "En esta sección [Data_Funciones], se realizarán las reducciones pertinentes a cada DataFrame para luego guardarlos en archivos parquet y utilizarlos más tarde con nuestra API. Además, se implementarán las funciones a emplear en Fast API."
   ]
  },
  {
   "cell_type": "markdown",
   "metadata": {},
   "source": [
    "### Importamos librerías"
   ]
  },
  {
   "cell_type": "markdown",
   "metadata": {},
   "source": [
    "Estas librerías nos permiten manipular los datos y almacenarlos."
   ]
  },
  {
   "cell_type": "code",
   "execution_count": 3,
   "metadata": {},
   "outputs": [],
   "source": [
    "import pandas as pd\n",
    "import sys\n",
    "sys.path.insert(0, '../')\n",
    "import Herramientas as Herr"
   ]
  },
  {
   "cell_type": "markdown",
   "metadata": {},
   "source": [
    "### Carga de Datos"
   ]
  },
  {
   "cell_type": "code",
   "execution_count": 4,
   "metadata": {},
   "outputs": [],
   "source": [
    "data_review = pd.read_csv('../datasets/australian_reviews_listo.csv')\n",
    "data_items = pd.read_csv('../datasets/australian_items.csv')\n",
    "data_output= pd.read_csv('../datasets/output.csv')"
   ]
  },
  {
   "cell_type": "markdown",
   "metadata": {},
   "source": [
    "### PlayTimeGenre"
   ]
  },
  {
   "cell_type": "markdown",
   "metadata": {},
   "source": [
    "#### Procesamiento de datos"
   ]
  },
  {
   "cell_type": "markdown",
   "metadata": {},
   "source": [
    "Se unió el DataFrame de los juegos (data_output) con el de items que posee las horas jugadas de cada juego. Luego se eliminaron los datos nulos que se generaron en la fusión y aquellas filas que contenían al menos un valor nulo. Esta decisión se tomó para asegurar que los datos restantes fueran confiables. Además, eliminamos otras columnas que no son relevantes para la función."
   ]
  },
  {
   "cell_type": "code",
   "execution_count": 5,
   "metadata": {},
   "outputs": [],
   "source": [
    "data_genres = pd.merge(data_output,data_items,on='item_id',how='right')\n",
    "data_genres = data_genres.drop(columns=['publisher','app_name','title','price','early_access','developer','item_name','user_id','items_count','steam_id'])\n",
    "data_genres = data_genres.dropna()"
   ]
  },
  {
   "cell_type": "markdown",
   "metadata": {},
   "source": [
    "Seleccionamos aquellos juegos y sus géneros que tenían más de 0 horas jugadas."
   ]
  },
  {
   "cell_type": "code",
   "execution_count": 6,
   "metadata": {},
   "outputs": [
    {
     "data": {
      "text/html": [
       "<div>\n",
       "<style scoped>\n",
       "    .dataframe tbody tr th:only-of-type {\n",
       "        vertical-align: middle;\n",
       "    }\n",
       "\n",
       "    .dataframe tbody tr th {\n",
       "        vertical-align: top;\n",
       "    }\n",
       "\n",
       "    .dataframe thead th {\n",
       "        text-align: right;\n",
       "    }\n",
       "</style>\n",
       "<table border=\"1\" class=\"dataframe\">\n",
       "  <thead>\n",
       "    <tr style=\"text-align: right;\">\n",
       "      <th></th>\n",
       "      <th>genres</th>\n",
       "      <th>release_date</th>\n",
       "      <th>item_id</th>\n",
       "      <th>playtime_forever</th>\n",
       "    </tr>\n",
       "  </thead>\n",
       "  <tbody>\n",
       "    <tr>\n",
       "      <th>0</th>\n",
       "      <td>Action</td>\n",
       "      <td>2000</td>\n",
       "      <td>10</td>\n",
       "      <td>6.0</td>\n",
       "    </tr>\n",
       "    <tr>\n",
       "      <th>2</th>\n",
       "      <td>Action</td>\n",
       "      <td>2003</td>\n",
       "      <td>30</td>\n",
       "      <td>7.0</td>\n",
       "    </tr>\n",
       "    <tr>\n",
       "      <th>8</th>\n",
       "      <td>Action</td>\n",
       "      <td>2010</td>\n",
       "      <td>300</td>\n",
       "      <td>4733.0</td>\n",
       "    </tr>\n",
       "    <tr>\n",
       "      <th>9</th>\n",
       "      <td>Action</td>\n",
       "      <td>2004</td>\n",
       "      <td>240</td>\n",
       "      <td>1853.0</td>\n",
       "    </tr>\n",
       "    <tr>\n",
       "      <th>10</th>\n",
       "      <td>Action</td>\n",
       "      <td>2005</td>\n",
       "      <td>3830</td>\n",
       "      <td>333.0</td>\n",
       "    </tr>\n",
       "    <tr>\n",
       "      <th>...</th>\n",
       "      <td>...</td>\n",
       "      <td>...</td>\n",
       "      <td>...</td>\n",
       "      <td>...</td>\n",
       "    </tr>\n",
       "    <tr>\n",
       "      <th>10065958</th>\n",
       "      <td>Indie</td>\n",
       "      <td>2016</td>\n",
       "      <td>227940</td>\n",
       "      <td>43.0</td>\n",
       "    </tr>\n",
       "    <tr>\n",
       "      <th>10065959</th>\n",
       "      <td>Massively Multiplayer</td>\n",
       "      <td>2016</td>\n",
       "      <td>227940</td>\n",
       "      <td>43.0</td>\n",
       "    </tr>\n",
       "    <tr>\n",
       "      <th>10065964</th>\n",
       "      <td>Adventure</td>\n",
       "      <td>2015</td>\n",
       "      <td>388490</td>\n",
       "      <td>3.0</td>\n",
       "    </tr>\n",
       "    <tr>\n",
       "      <th>10065965</th>\n",
       "      <td>Casual</td>\n",
       "      <td>2016</td>\n",
       "      <td>521570</td>\n",
       "      <td>4.0</td>\n",
       "    </tr>\n",
       "    <tr>\n",
       "      <th>10065966</th>\n",
       "      <td>Indie</td>\n",
       "      <td>2016</td>\n",
       "      <td>521570</td>\n",
       "      <td>4.0</td>\n",
       "    </tr>\n",
       "  </tbody>\n",
       "</table>\n",
       "<p>6295144 rows × 4 columns</p>\n",
       "</div>"
      ],
      "text/plain": [
       "                         genres release_date  item_id  playtime_forever\n",
       "0                        Action         2000       10               6.0\n",
       "2                        Action         2003       30               7.0\n",
       "8                        Action         2010      300            4733.0\n",
       "9                        Action         2004      240            1853.0\n",
       "10                       Action         2005     3830             333.0\n",
       "...                         ...          ...      ...               ...\n",
       "10065958                  Indie         2016   227940              43.0\n",
       "10065959  Massively Multiplayer         2016   227940              43.0\n",
       "10065964              Adventure         2015   388490               3.0\n",
       "10065965                 Casual         2016   521570               4.0\n",
       "10065966                  Indie         2016   521570               4.0\n",
       "\n",
       "[6295144 rows x 4 columns]"
      ]
     },
     "execution_count": 6,
     "metadata": {},
     "output_type": "execute_result"
    }
   ],
   "source": [
    "data_genres = data_genres.loc[data_genres['playtime_forever'] > 0]\n",
    "data_genres"
   ]
  },
  {
   "cell_type": "markdown",
   "metadata": {},
   "source": [
    "Se agruparon los registros por género y fecha de lanzamiento, además se sumaron la cantidad de horas jugadas. Luego se reseteó el índice para que los identificadores estén con un orden lógico."
   ]
  },
  {
   "cell_type": "code",
   "execution_count": 7,
   "metadata": {},
   "outputs": [
    {
     "data": {
      "text/html": [
       "<div>\n",
       "<style scoped>\n",
       "    .dataframe tbody tr th:only-of-type {\n",
       "        vertical-align: middle;\n",
       "    }\n",
       "\n",
       "    .dataframe tbody tr th {\n",
       "        vertical-align: top;\n",
       "    }\n",
       "\n",
       "    .dataframe thead th {\n",
       "        text-align: right;\n",
       "    }\n",
       "</style>\n",
       "<table border=\"1\" class=\"dataframe\">\n",
       "  <thead>\n",
       "    <tr style=\"text-align: right;\">\n",
       "      <th></th>\n",
       "      <th>genres</th>\n",
       "      <th>release_date</th>\n",
       "      <th>playtime_forever</th>\n",
       "    </tr>\n",
       "  </thead>\n",
       "  <tbody>\n",
       "    <tr>\n",
       "      <th>0</th>\n",
       "      <td>Action</td>\n",
       "      <td>1983</td>\n",
       "      <td>3582.0</td>\n",
       "    </tr>\n",
       "    <tr>\n",
       "      <th>1</th>\n",
       "      <td>Action</td>\n",
       "      <td>1984</td>\n",
       "      <td>384.0</td>\n",
       "    </tr>\n",
       "    <tr>\n",
       "      <th>2</th>\n",
       "      <td>Action</td>\n",
       "      <td>1988</td>\n",
       "      <td>16243.0</td>\n",
       "    </tr>\n",
       "    <tr>\n",
       "      <th>3</th>\n",
       "      <td>Action</td>\n",
       "      <td>1989</td>\n",
       "      <td>607.0</td>\n",
       "    </tr>\n",
       "    <tr>\n",
       "      <th>4</th>\n",
       "      <td>Action</td>\n",
       "      <td>1990</td>\n",
       "      <td>18787.0</td>\n",
       "    </tr>\n",
       "    <tr>\n",
       "      <th>...</th>\n",
       "      <td>...</td>\n",
       "      <td>...</td>\n",
       "      <td>...</td>\n",
       "    </tr>\n",
       "    <tr>\n",
       "      <th>322</th>\n",
       "      <td>Web Publishing</td>\n",
       "      <td>2013</td>\n",
       "      <td>335849.0</td>\n",
       "    </tr>\n",
       "    <tr>\n",
       "      <th>323</th>\n",
       "      <td>Web Publishing</td>\n",
       "      <td>2014</td>\n",
       "      <td>33732.0</td>\n",
       "    </tr>\n",
       "    <tr>\n",
       "      <th>324</th>\n",
       "      <td>Web Publishing</td>\n",
       "      <td>2015</td>\n",
       "      <td>348861.0</td>\n",
       "    </tr>\n",
       "    <tr>\n",
       "      <th>325</th>\n",
       "      <td>Web Publishing</td>\n",
       "      <td>2016</td>\n",
       "      <td>136.0</td>\n",
       "    </tr>\n",
       "    <tr>\n",
       "      <th>326</th>\n",
       "      <td>Web Publishing</td>\n",
       "      <td>2017</td>\n",
       "      <td>9713.0</td>\n",
       "    </tr>\n",
       "  </tbody>\n",
       "</table>\n",
       "<p>327 rows × 3 columns</p>\n",
       "</div>"
      ],
      "text/plain": [
       "             genres release_date  playtime_forever\n",
       "0            Action         1983            3582.0\n",
       "1            Action         1984             384.0\n",
       "2            Action         1988           16243.0\n",
       "3            Action         1989             607.0\n",
       "4            Action         1990           18787.0\n",
       "..              ...          ...               ...\n",
       "322  Web Publishing         2013          335849.0\n",
       "323  Web Publishing         2014           33732.0\n",
       "324  Web Publishing         2015          348861.0\n",
       "325  Web Publishing         2016             136.0\n",
       "326  Web Publishing         2017            9713.0\n",
       "\n",
       "[327 rows x 3 columns]"
      ]
     },
     "execution_count": 7,
     "metadata": {},
     "output_type": "execute_result"
    }
   ],
   "source": [
    "data_playtime = data_genres.groupby(['genres','release_date'])['playtime_forever'].sum().reset_index()\n",
    "data_playtime"
   ]
  },
  {
   "cell_type": "markdown",
   "metadata": {},
   "source": [
    "### Función"
   ]
  },
  {
   "cell_type": "markdown",
   "metadata": {},
   "source": [
    "La función \"PlayTimeGenre\" tiene dos parámetros que son: un DataFrame y un género que debe ser de tipo string. Se filtra el DataFrame a través del género, se ordenan los valores de forma descendente y se obtiene solo el primer valor, lo mismo para el año de posteo."
   ]
  },
  {
   "cell_type": "code",
   "execution_count": 8,
   "metadata": {},
   "outputs": [],
   "source": [
    "def PlayTimeGenre (dataframe,genero:str):\n",
    "    data_play = dataframe[dataframe['genres'] == genero]\n",
    "    data_play = data_play.sort_values(by='playtime_forever',ascending=False).head(1)\n",
    "    \n",
    "    date = data_play['release_date'].values[0]\n",
    "    feedback = (f'Año de lanzamiento con más horas jugadas para Género {genero}: {date}')\n",
    "    return feedback"
   ]
  },
  {
   "cell_type": "code",
   "execution_count": 9,
   "metadata": {},
   "outputs": [
    {
     "data": {
      "text/plain": [
       "'Año de lanzamiento con más horas jugadas para Género Indie: 2006'"
      ]
     },
     "execution_count": 9,
     "metadata": {},
     "output_type": "execute_result"
    }
   ],
   "source": [
    "PlayTimeGenre(data_genres,'Indie')"
   ]
  },
  {
   "cell_type": "markdown",
   "metadata": {},
   "source": [
    "### UsersWorstDeveloper"
   ]
  },
  {
   "cell_type": "markdown",
   "metadata": {},
   "source": [
    "#### Procesamiento de datos"
   ]
  },
  {
   "cell_type": "markdown",
   "metadata": {},
   "source": [
    "Se verificaron dos igualdades: si la recomendación era falsa y si el comentario era negativo. Se agruparon los registros de esas igualdades a través de su identificador (item_id) y el año de posteo, además de resetear el índice. Luego se unió el DataFrame \"count_worst_reviews\" con el DataFrame \"data_output\". Se quitaron columnas innecesarias para la función."
   ]
  },
  {
   "cell_type": "code",
   "execution_count": 10,
   "metadata": {},
   "outputs": [
    {
     "data": {
      "text/html": [
       "<div>\n",
       "<style scoped>\n",
       "    .dataframe tbody tr th:only-of-type {\n",
       "        vertical-align: middle;\n",
       "    }\n",
       "\n",
       "    .dataframe tbody tr th {\n",
       "        vertical-align: top;\n",
       "    }\n",
       "\n",
       "    .dataframe thead th {\n",
       "        text-align: right;\n",
       "    }\n",
       "</style>\n",
       "<table border=\"1\" class=\"dataframe\">\n",
       "  <thead>\n",
       "    <tr style=\"text-align: right;\">\n",
       "      <th></th>\n",
       "      <th>item_id</th>\n",
       "      <th>posted</th>\n",
       "      <th>cbad_reviews</th>\n",
       "      <th>developer</th>\n",
       "    </tr>\n",
       "  </thead>\n",
       "  <tbody>\n",
       "    <tr>\n",
       "      <th>0</th>\n",
       "      <td>10</td>\n",
       "      <td>2015</td>\n",
       "      <td>1</td>\n",
       "      <td>Valve</td>\n",
       "    </tr>\n",
       "    <tr>\n",
       "      <th>1</th>\n",
       "      <td>20</td>\n",
       "      <td>2015</td>\n",
       "      <td>1</td>\n",
       "      <td>Valve</td>\n",
       "    </tr>\n",
       "    <tr>\n",
       "      <th>2</th>\n",
       "      <td>80</td>\n",
       "      <td>2014</td>\n",
       "      <td>1</td>\n",
       "      <td>Valve</td>\n",
       "    </tr>\n",
       "    <tr>\n",
       "      <th>3</th>\n",
       "      <td>220</td>\n",
       "      <td>2014</td>\n",
       "      <td>1</td>\n",
       "      <td>Valve</td>\n",
       "    </tr>\n",
       "    <tr>\n",
       "      <th>4</th>\n",
       "      <td>220</td>\n",
       "      <td>2015</td>\n",
       "      <td>1</td>\n",
       "      <td>Valve</td>\n",
       "    </tr>\n",
       "    <tr>\n",
       "      <th>...</th>\n",
       "      <td>...</td>\n",
       "      <td>...</td>\n",
       "      <td>...</td>\n",
       "      <td>...</td>\n",
       "    </tr>\n",
       "    <tr>\n",
       "      <th>1539</th>\n",
       "      <td>501760</td>\n",
       "      <td>2014</td>\n",
       "      <td>1</td>\n",
       "      <td>Kiddy</td>\n",
       "    </tr>\n",
       "    <tr>\n",
       "      <th>1540</th>\n",
       "      <td>501760</td>\n",
       "      <td>2014</td>\n",
       "      <td>1</td>\n",
       "      <td>Kiddy</td>\n",
       "    </tr>\n",
       "    <tr>\n",
       "      <th>1541</th>\n",
       "      <td>501760</td>\n",
       "      <td>2014</td>\n",
       "      <td>1</td>\n",
       "      <td>Kiddy</td>\n",
       "    </tr>\n",
       "    <tr>\n",
       "      <th>1542</th>\n",
       "      <td>502550</td>\n",
       "      <td>2014</td>\n",
       "      <td>1</td>\n",
       "      <td>Freakinware Limited</td>\n",
       "    </tr>\n",
       "    <tr>\n",
       "      <th>1543</th>\n",
       "      <td>502550</td>\n",
       "      <td>2014</td>\n",
       "      <td>1</td>\n",
       "      <td>Freakinware Limited</td>\n",
       "    </tr>\n",
       "  </tbody>\n",
       "</table>\n",
       "<p>1544 rows × 4 columns</p>\n",
       "</div>"
      ],
      "text/plain": [
       "      item_id  posted  cbad_reviews            developer\n",
       "0          10    2015             1                Valve\n",
       "1          20    2015             1                Valve\n",
       "2          80    2014             1                Valve\n",
       "3         220    2014             1                Valve\n",
       "4         220    2015             1                Valve\n",
       "...       ...     ...           ...                  ...\n",
       "1539   501760    2014             1                Kiddy\n",
       "1540   501760    2014             1                Kiddy\n",
       "1541   501760    2014             1                Kiddy\n",
       "1542   502550    2014             1  Freakinware Limited\n",
       "1543   502550    2014             1  Freakinware Limited\n",
       "\n",
       "[1544 rows x 4 columns]"
      ]
     },
     "execution_count": 10,
     "metadata": {},
     "output_type": "execute_result"
    }
   ],
   "source": [
    "worst_reviews = data_review[(data_review['recommend'] == False) & (data_review['sentiment_analysis'] == 0)]\n",
    "count_worst_reviews = worst_reviews.groupby(['item_id','posted']).size().reset_index(name='cbad_reviews')\n",
    "df_users = pd.merge(count_worst_reviews,data_output)\n",
    "df_users = df_users.drop(columns=['early_access','price','release_date','app_name','title','genres','publisher'])\n",
    "df_users\n"
   ]
  },
  {
   "cell_type": "markdown",
   "metadata": {},
   "source": [
    "#### Función"
   ]
  },
  {
   "cell_type": "markdown",
   "metadata": {},
   "source": [
    "La función \"UsersWorstDeveloper\" recibe dos parámetros: un DataFrame y el año que debe ser de tipo entero. Se instancia un nuevo DataFrame filtrado con solo el año que se pide. Luego, se seleccionan solo los 3 primeros desarrolladores que nos da el contador de valores, y se hace un ciclo for para devolver en qué posición y qué desarrolladores son los 3 peores."
   ]
  },
  {
   "cell_type": "code",
   "execution_count": 11,
   "metadata": {},
   "outputs": [],
   "source": [
    "def UsersWorstDeveloper(dataframe,anio:int):\n",
    "\n",
    "    dfworst = dataframe[(dataframe['posted'] == anio)]\n",
    "\n",
    "    count_worst_dev = dfworst['developer'].value_counts()\n",
    "\n",
    "    top_3_worst = count_worst_dev.head(3)\n",
    "\n",
    "    top_3 = []\n",
    "\n",
    "    for position,(developer,_) in enumerate(top_3_worst.items()):\n",
    "        top_3.append({f'Puesto {position+1}:':developer})\n",
    "\n",
    "    return top_3"
   ]
  },
  {
   "cell_type": "code",
   "execution_count": 12,
   "metadata": {},
   "outputs": [
    {
     "data": {
      "text/plain": [
       "[{'Puesto 1:': 'Cherry Pop Games'},\n",
       " {'Puesto 2:': 'ProjectorGames'},\n",
       " {'Puesto 3:': 'The Behemoth'}]"
      ]
     },
     "execution_count": 12,
     "metadata": {},
     "output_type": "execute_result"
    }
   ],
   "source": [
    "UsersWorstDeveloper(df_users,2015)"
   ]
  },
  {
   "cell_type": "markdown",
   "metadata": {},
   "source": [
    "### UserForGenre"
   ]
  },
  {
   "cell_type": "markdown",
   "metadata": {},
   "source": [
    "#### Procesamiento de datos"
   ]
  },
  {
   "cell_type": "code",
   "execution_count": 13,
   "metadata": {},
   "outputs": [
    {
     "data": {
      "text/html": [
       "<div>\n",
       "<style scoped>\n",
       "    .dataframe tbody tr th:only-of-type {\n",
       "        vertical-align: middle;\n",
       "    }\n",
       "\n",
       "    .dataframe tbody tr th {\n",
       "        vertical-align: top;\n",
       "    }\n",
       "\n",
       "    .dataframe thead th {\n",
       "        text-align: right;\n",
       "    }\n",
       "</style>\n",
       "<table border=\"1\" class=\"dataframe\">\n",
       "  <thead>\n",
       "    <tr style=\"text-align: right;\">\n",
       "      <th></th>\n",
       "      <th>genres</th>\n",
       "      <th>release_date</th>\n",
       "      <th>item_id</th>\n",
       "      <th>playtime_forever</th>\n",
       "      <th>user_id</th>\n",
       "    </tr>\n",
       "  </thead>\n",
       "  <tbody>\n",
       "    <tr>\n",
       "      <th>0</th>\n",
       "      <td>Action</td>\n",
       "      <td>1997</td>\n",
       "      <td>282010</td>\n",
       "      <td>5.0</td>\n",
       "      <td>UTNerd24</td>\n",
       "    </tr>\n",
       "    <tr>\n",
       "      <th>1</th>\n",
       "      <td>Action</td>\n",
       "      <td>1997</td>\n",
       "      <td>282010</td>\n",
       "      <td>0.0</td>\n",
       "      <td>I_DID_911_JUST_SAYING</td>\n",
       "    </tr>\n",
       "    <tr>\n",
       "      <th>2</th>\n",
       "      <td>Action</td>\n",
       "      <td>1997</td>\n",
       "      <td>282010</td>\n",
       "      <td>0.0</td>\n",
       "      <td>76561197962104795</td>\n",
       "    </tr>\n",
       "    <tr>\n",
       "      <th>3</th>\n",
       "      <td>Action</td>\n",
       "      <td>1997</td>\n",
       "      <td>282010</td>\n",
       "      <td>0.0</td>\n",
       "      <td>r3ap3r78</td>\n",
       "    </tr>\n",
       "    <tr>\n",
       "      <th>4</th>\n",
       "      <td>Action</td>\n",
       "      <td>1997</td>\n",
       "      <td>282010</td>\n",
       "      <td>13.0</td>\n",
       "      <td>saint556</td>\n",
       "    </tr>\n",
       "    <tr>\n",
       "      <th>...</th>\n",
       "      <td>...</td>\n",
       "      <td>...</td>\n",
       "      <td>...</td>\n",
       "      <td>...</td>\n",
       "      <td>...</td>\n",
       "    </tr>\n",
       "    <tr>\n",
       "      <th>9115519</th>\n",
       "      <td>Action</td>\n",
       "      <td>2004</td>\n",
       "      <td>80</td>\n",
       "      <td>0.0</td>\n",
       "      <td>76561198273508956</td>\n",
       "    </tr>\n",
       "    <tr>\n",
       "      <th>9115520</th>\n",
       "      <td>Action</td>\n",
       "      <td>2004</td>\n",
       "      <td>80</td>\n",
       "      <td>0.0</td>\n",
       "      <td>76561198282090798</td>\n",
       "    </tr>\n",
       "    <tr>\n",
       "      <th>9115521</th>\n",
       "      <td>Action</td>\n",
       "      <td>2004</td>\n",
       "      <td>80</td>\n",
       "      <td>0.0</td>\n",
       "      <td>943525</td>\n",
       "    </tr>\n",
       "    <tr>\n",
       "      <th>9115522</th>\n",
       "      <td>Action</td>\n",
       "      <td>2004</td>\n",
       "      <td>80</td>\n",
       "      <td>9.0</td>\n",
       "      <td>76561198283312749</td>\n",
       "    </tr>\n",
       "    <tr>\n",
       "      <th>9115523</th>\n",
       "      <td>Action</td>\n",
       "      <td>2004</td>\n",
       "      <td>80</td>\n",
       "      <td>99.0</td>\n",
       "      <td>76561198312638244</td>\n",
       "    </tr>\n",
       "  </tbody>\n",
       "</table>\n",
       "<p>9115524 rows × 5 columns</p>\n",
       "</div>"
      ],
      "text/plain": [
       "         genres release_date  item_id  playtime_forever                user_id\n",
       "0        Action         1997   282010               5.0               UTNerd24\n",
       "1        Action         1997   282010               0.0  I_DID_911_JUST_SAYING\n",
       "2        Action         1997   282010               0.0      76561197962104795\n",
       "3        Action         1997   282010               0.0               r3ap3r78\n",
       "4        Action         1997   282010              13.0               saint556\n",
       "...         ...          ...      ...               ...                    ...\n",
       "9115519  Action         2004       80               0.0      76561198273508956\n",
       "9115520  Action         2004       80               0.0      76561198282090798\n",
       "9115521  Action         2004       80               0.0                 943525\n",
       "9115522  Action         2004       80               9.0      76561198283312749\n",
       "9115523  Action         2004       80              99.0      76561198312638244\n",
       "\n",
       "[9115524 rows x 5 columns]"
      ]
     },
     "execution_count": 13,
     "metadata": {},
     "output_type": "execute_result"
    }
   ],
   "source": [
    "data_user_genre = pd.merge(data_output,data_items)\n",
    "data_user_genre = data_user_genre.drop(columns=['publisher','app_name','title','price','early_access','developer','item_name','items_count','steam_id'])\n",
    "data_user_genre"
   ]
  },
  {
   "cell_type": "code",
   "execution_count": 14,
   "metadata": {},
   "outputs": [
    {
     "data": {
      "text/html": [
       "<div>\n",
       "<style scoped>\n",
       "    .dataframe tbody tr th:only-of-type {\n",
       "        vertical-align: middle;\n",
       "    }\n",
       "\n",
       "    .dataframe tbody tr th {\n",
       "        vertical-align: top;\n",
       "    }\n",
       "\n",
       "    .dataframe thead th {\n",
       "        text-align: right;\n",
       "    }\n",
       "</style>\n",
       "<table border=\"1\" class=\"dataframe\">\n",
       "  <thead>\n",
       "    <tr style=\"text-align: right;\">\n",
       "      <th></th>\n",
       "      <th>user_id</th>\n",
       "      <th>genres</th>\n",
       "      <th>release_date</th>\n",
       "      <th>playtime_forever</th>\n",
       "    </tr>\n",
       "  </thead>\n",
       "  <tbody>\n",
       "    <tr>\n",
       "      <th>0</th>\n",
       "      <td>--000--</td>\n",
       "      <td>Action</td>\n",
       "      <td>2009</td>\n",
       "      <td>5329.0</td>\n",
       "    </tr>\n",
       "    <tr>\n",
       "      <th>1</th>\n",
       "      <td>--000--</td>\n",
       "      <td>Action</td>\n",
       "      <td>2010</td>\n",
       "      <td>22.0</td>\n",
       "    </tr>\n",
       "    <tr>\n",
       "      <th>2</th>\n",
       "      <td>--000--</td>\n",
       "      <td>Action</td>\n",
       "      <td>2011</td>\n",
       "      <td>6522.0</td>\n",
       "    </tr>\n",
       "    <tr>\n",
       "      <th>3</th>\n",
       "      <td>--000--</td>\n",
       "      <td>Action</td>\n",
       "      <td>2012</td>\n",
       "      <td>109346.0</td>\n",
       "    </tr>\n",
       "    <tr>\n",
       "      <th>4</th>\n",
       "      <td>--000--</td>\n",
       "      <td>Action</td>\n",
       "      <td>2013</td>\n",
       "      <td>363.0</td>\n",
       "    </tr>\n",
       "    <tr>\n",
       "      <th>...</th>\n",
       "      <td>...</td>\n",
       "      <td>...</td>\n",
       "      <td>...</td>\n",
       "      <td>...</td>\n",
       "    </tr>\n",
       "    <tr>\n",
       "      <th>3103381</th>\n",
       "      <td>zzzmidmiss</td>\n",
       "      <td>Strategy</td>\n",
       "      <td>2009</td>\n",
       "      <td>0.0</td>\n",
       "    </tr>\n",
       "    <tr>\n",
       "      <th>3103382</th>\n",
       "      <td>zzzmidmiss</td>\n",
       "      <td>Strategy</td>\n",
       "      <td>2010</td>\n",
       "      <td>10.0</td>\n",
       "    </tr>\n",
       "    <tr>\n",
       "      <th>3103383</th>\n",
       "      <td>zzzmidmiss</td>\n",
       "      <td>Strategy</td>\n",
       "      <td>2011</td>\n",
       "      <td>69.0</td>\n",
       "    </tr>\n",
       "    <tr>\n",
       "      <th>3103384</th>\n",
       "      <td>zzzmidmiss</td>\n",
       "      <td>Strategy</td>\n",
       "      <td>2012</td>\n",
       "      <td>923.0</td>\n",
       "    </tr>\n",
       "    <tr>\n",
       "      <th>3103385</th>\n",
       "      <td>zzzmidmiss</td>\n",
       "      <td>Strategy</td>\n",
       "      <td>2016</td>\n",
       "      <td>0.0</td>\n",
       "    </tr>\n",
       "  </tbody>\n",
       "</table>\n",
       "<p>3103386 rows × 4 columns</p>\n",
       "</div>"
      ],
      "text/plain": [
       "            user_id    genres release_date  playtime_forever\n",
       "0           --000--    Action         2009            5329.0\n",
       "1           --000--    Action         2010              22.0\n",
       "2           --000--    Action         2011            6522.0\n",
       "3           --000--    Action         2012          109346.0\n",
       "4           --000--    Action         2013             363.0\n",
       "...             ...       ...          ...               ...\n",
       "3103381  zzzmidmiss  Strategy         2009               0.0\n",
       "3103382  zzzmidmiss  Strategy         2010              10.0\n",
       "3103383  zzzmidmiss  Strategy         2011              69.0\n",
       "3103384  zzzmidmiss  Strategy         2012             923.0\n",
       "3103385  zzzmidmiss  Strategy         2016               0.0\n",
       "\n",
       "[3103386 rows x 4 columns]"
      ]
     },
     "execution_count": 14,
     "metadata": {},
     "output_type": "execute_result"
    }
   ],
   "source": [
    "data_user_genre = data_user_genre.groupby(['user_id','genres','release_date'])['playtime_forever'].sum().reset_index()\n",
    "data_user_genre"
   ]
  },
  {
   "cell_type": "code",
   "execution_count": 15,
   "metadata": {},
   "outputs": [
    {
     "data": {
      "text/html": [
       "<div>\n",
       "<style scoped>\n",
       "    .dataframe tbody tr th:only-of-type {\n",
       "        vertical-align: middle;\n",
       "    }\n",
       "\n",
       "    .dataframe tbody tr th {\n",
       "        vertical-align: top;\n",
       "    }\n",
       "\n",
       "    .dataframe thead th {\n",
       "        text-align: right;\n",
       "    }\n",
       "</style>\n",
       "<table border=\"1\" class=\"dataframe\">\n",
       "  <thead>\n",
       "    <tr style=\"text-align: right;\">\n",
       "      <th></th>\n",
       "      <th>user_id</th>\n",
       "      <th>genres</th>\n",
       "      <th>release_date</th>\n",
       "      <th>playtime_forever</th>\n",
       "    </tr>\n",
       "  </thead>\n",
       "  <tbody>\n",
       "    <tr>\n",
       "      <th>0</th>\n",
       "      <td>--000--</td>\n",
       "      <td>Action</td>\n",
       "      <td>2009</td>\n",
       "      <td>5329.0</td>\n",
       "    </tr>\n",
       "    <tr>\n",
       "      <th>1</th>\n",
       "      <td>--000--</td>\n",
       "      <td>Action</td>\n",
       "      <td>2010</td>\n",
       "      <td>22.0</td>\n",
       "    </tr>\n",
       "    <tr>\n",
       "      <th>2</th>\n",
       "      <td>--000--</td>\n",
       "      <td>Action</td>\n",
       "      <td>2011</td>\n",
       "      <td>6522.0</td>\n",
       "    </tr>\n",
       "    <tr>\n",
       "      <th>3</th>\n",
       "      <td>--000--</td>\n",
       "      <td>Action</td>\n",
       "      <td>2012</td>\n",
       "      <td>109346.0</td>\n",
       "    </tr>\n",
       "    <tr>\n",
       "      <th>4</th>\n",
       "      <td>--000--</td>\n",
       "      <td>Action</td>\n",
       "      <td>2013</td>\n",
       "      <td>363.0</td>\n",
       "    </tr>\n",
       "    <tr>\n",
       "      <th>...</th>\n",
       "      <td>...</td>\n",
       "      <td>...</td>\n",
       "      <td>...</td>\n",
       "      <td>...</td>\n",
       "    </tr>\n",
       "    <tr>\n",
       "      <th>3103379</th>\n",
       "      <td>zzzmidmiss</td>\n",
       "      <td>Sports</td>\n",
       "      <td>2010</td>\n",
       "      <td>194.0</td>\n",
       "    </tr>\n",
       "    <tr>\n",
       "      <th>3103380</th>\n",
       "      <td>zzzmidmiss</td>\n",
       "      <td>Sports</td>\n",
       "      <td>2014</td>\n",
       "      <td>16.0</td>\n",
       "    </tr>\n",
       "    <tr>\n",
       "      <th>3103382</th>\n",
       "      <td>zzzmidmiss</td>\n",
       "      <td>Strategy</td>\n",
       "      <td>2010</td>\n",
       "      <td>10.0</td>\n",
       "    </tr>\n",
       "    <tr>\n",
       "      <th>3103383</th>\n",
       "      <td>zzzmidmiss</td>\n",
       "      <td>Strategy</td>\n",
       "      <td>2011</td>\n",
       "      <td>69.0</td>\n",
       "    </tr>\n",
       "    <tr>\n",
       "      <th>3103384</th>\n",
       "      <td>zzzmidmiss</td>\n",
       "      <td>Strategy</td>\n",
       "      <td>2012</td>\n",
       "      <td>923.0</td>\n",
       "    </tr>\n",
       "  </tbody>\n",
       "</table>\n",
       "<p>2565741 rows × 4 columns</p>\n",
       "</div>"
      ],
      "text/plain": [
       "            user_id    genres release_date  playtime_forever\n",
       "0           --000--    Action         2009            5329.0\n",
       "1           --000--    Action         2010              22.0\n",
       "2           --000--    Action         2011            6522.0\n",
       "3           --000--    Action         2012          109346.0\n",
       "4           --000--    Action         2013             363.0\n",
       "...             ...       ...          ...               ...\n",
       "3103379  zzzmidmiss    Sports         2010             194.0\n",
       "3103380  zzzmidmiss    Sports         2014              16.0\n",
       "3103382  zzzmidmiss  Strategy         2010              10.0\n",
       "3103383  zzzmidmiss  Strategy         2011              69.0\n",
       "3103384  zzzmidmiss  Strategy         2012             923.0\n",
       "\n",
       "[2565741 rows x 4 columns]"
      ]
     },
     "execution_count": 15,
     "metadata": {},
     "output_type": "execute_result"
    }
   ],
   "source": [
    "data_user_genre = data_user_genre.loc[data_user_genre['playtime_forever']>0]\n",
    "data_user_genre"
   ]
  },
  {
   "cell_type": "markdown",
   "metadata": {},
   "source": [
    "def UserForGenre( genero : str ): Debe devolver el usuario que acumula más horas jugadas para el género dado y una lista de la acumulación de horas jugadas por año."
   ]
  },
  {
   "cell_type": "markdown",
   "metadata": {},
   "source": [
    "### Función"
   ]
  },
  {
   "cell_type": "code",
   "execution_count": 28,
   "metadata": {},
   "outputs": [],
   "source": [
    "def UserForGenre(data_user_genre,genero:str):\n",
    "\n",
    "    data_genre = data_user_genre[data_user_genre['genres'] == genero]\n",
    "    data_usuario = data_genre.sort_values(by='playtime_forever',ascending=False).iloc[0]\n",
    "    hours = data_usuario.values[0]\n",
    "    data_user =data_usuario.values[0]\n",
    "    anio = data_usuario.values[0]\n",
    "    horas_anuales_usuario = data_genre.groupby('release_date')['playtime_forever'].sum().reset_index()\n",
    "    horas_anuales_ = horas_anuales_usuario.to_dict(orient='records')\n",
    "    write = (f'Usuario con más horas jugadas para el género {genero} es: {data_user}, en el año {anio}: {hours} jugadas, además tenemos las horas jugadas por año del usuario {data_user}: {horas_anuales_}')\n",
    "    return write              "
   ]
  },
  {
   "cell_type": "code",
   "execution_count": 33,
   "metadata": {},
   "outputs": [
    {
     "data": {
      "text/plain": [
       "\"Usuario con más horas jugadas para el género Sports es: 76561198019112245, en el año 76561198019112245: 76561198019112245 jugadas, además tenemos las horas jugadas por año del usuario 76561198019112245: [{'release_date': '1995', 'playtime_forever': 31220.0}, {'release_date': '2005', 'playtime_forever': 69758.0}, {'release_date': '2006', 'playtime_forever': 11211.0}, {'release_date': '2007', 'playtime_forever': 1308.0}, {'release_date': '2008', 'playtime_forever': 98946.0}, {'release_date': '2009', 'playtime_forever': 250785.0}, {'release_date': '2010', 'playtime_forever': 2397026.0}, {'release_date': '2011', 'playtime_forever': 930765.0}, {'release_date': '2012', 'playtime_forever': 3608452.0}, {'release_date': '2013', 'playtime_forever': 6257701.0}, {'release_date': '2014', 'playtime_forever': 5604627.0}, {'release_date': '2015', 'playtime_forever': 41795973.0}, {'release_date': '2016', 'playtime_forever': 4763913.0}, {'release_date': '2017', 'playtime_forever': 22876.0}, {'release_date': 'No data', 'playtime_forever': 4616.0}]\""
      ]
     },
     "execution_count": 33,
     "metadata": {},
     "output_type": "execute_result"
    }
   ],
   "source": [
    "UserForGenre(data_user_genre,'Sports')"
   ]
  }
 ],
 "metadata": {
  "kernelspec": {
   "display_name": "Python 3",
   "language": "python",
   "name": "python3"
  },
  "language_info": {
   "codemirror_mode": {
    "name": "ipython",
    "version": 3
   },
   "file_extension": ".py",
   "mimetype": "text/x-python",
   "name": "python",
   "nbconvert_exporter": "python",
   "pygments_lexer": "ipython3",
   "version": "3.11.4"
  }
 },
 "nbformat": 4,
 "nbformat_minor": 2
}
