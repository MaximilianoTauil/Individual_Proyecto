{
 "cells": [
  {
   "cell_type": "markdown",
   "metadata": {},
   "source": [
    "# DataFrames para funciones y sus respectivas funciones."
   ]
  },
  {
   "cell_type": "markdown",
   "metadata": {},
   "source": [
    "En esta sección [Data_Funciones], se realizarán las reducciones pertinentes a cada DataFrame para luego guardarlos en archivos parquet y utilizarlos más tarde con nuestra API. Además, se implementarán las funciones a emplear en Fast API."
   ]
  },
  {
   "cell_type": "markdown",
   "metadata": {},
   "source": [
    "### Importamos librerías"
   ]
  },
  {
   "cell_type": "markdown",
   "metadata": {},
   "source": [
    "Estas librerías nos permiten manipular los datos y almacenarlos."
   ]
  },
  {
   "cell_type": "code",
   "execution_count": 1,
   "metadata": {},
   "outputs": [],
   "source": [
    "import pandas as pd\n",
    "import sys\n",
    "sys.path.insert(0, '../')\n",
    "import Herramientas as Herr"
   ]
  },
  {
   "cell_type": "markdown",
   "metadata": {},
   "source": [
    "### Carga de Datos"
   ]
  },
  {
   "cell_type": "code",
   "execution_count": 2,
   "metadata": {},
   "outputs": [],
   "source": [
    "data_review = pd.read_csv('../datasets/australian_reviews_listo.csv')\n",
    "data_items = pd.read_csv('../datasets/australian_items.csv')\n",
    "data_output= pd.read_csv('../datasets/output.csv')"
   ]
  },
  {
   "cell_type": "markdown",
   "metadata": {},
   "source": [
    "### PlayTimeGenre"
   ]
  },
  {
   "cell_type": "markdown",
   "metadata": {},
   "source": [
    "def PlayTimeGenre( genero : str ): Debe devolver año con mas horas jugadas para dicho género."
   ]
  },
  {
   "cell_type": "markdown",
   "metadata": {},
   "source": [
    "#### Procesamiento de datos"
   ]
  },
  {
   "cell_type": "markdown",
   "metadata": {},
   "source": [
    "Se unió el DataFrame de los juegos (data_output) con el de items que posee las horas jugadas de cada juego. Luego se eliminaron los datos nulos que se generaron en la fusión y aquellas filas que contenían al menos un valor nulo. Esta decisión se tomó para asegurar que los datos restantes fueran confiables. Además, eliminamos otras columnas que no son relevantes para la función."
   ]
  },
  {
   "cell_type": "code",
   "execution_count": 3,
   "metadata": {},
   "outputs": [],
   "source": [
    "data_genres = pd.merge(data_output,data_items,on='item_id',how='right')\n",
    "data_genres = data_genres.drop(columns=['publisher','app_name','title','price','early_access','developer','item_name','user_id','items_count','steam_id'])\n",
    "data_genres = data_genres.dropna()"
   ]
  },
  {
   "cell_type": "markdown",
   "metadata": {},
   "source": [
    "Seleccionamos aquellos juegos y sus géneros que tenían más de 0 horas jugadas."
   ]
  },
  {
   "cell_type": "code",
   "execution_count": 4,
   "metadata": {},
   "outputs": [
    {
     "data": {
      "text/html": [
       "<div>\n",
       "<style scoped>\n",
       "    .dataframe tbody tr th:only-of-type {\n",
       "        vertical-align: middle;\n",
       "    }\n",
       "\n",
       "    .dataframe tbody tr th {\n",
       "        vertical-align: top;\n",
       "    }\n",
       "\n",
       "    .dataframe thead th {\n",
       "        text-align: right;\n",
       "    }\n",
       "</style>\n",
       "<table border=\"1\" class=\"dataframe\">\n",
       "  <thead>\n",
       "    <tr style=\"text-align: right;\">\n",
       "      <th></th>\n",
       "      <th>genres</th>\n",
       "      <th>release_date</th>\n",
       "      <th>item_id</th>\n",
       "      <th>playtime_forever</th>\n",
       "    </tr>\n",
       "  </thead>\n",
       "  <tbody>\n",
       "    <tr>\n",
       "      <th>0</th>\n",
       "      <td>Action</td>\n",
       "      <td>2000</td>\n",
       "      <td>10</td>\n",
       "      <td>6.0</td>\n",
       "    </tr>\n",
       "    <tr>\n",
       "      <th>2</th>\n",
       "      <td>Action</td>\n",
       "      <td>2003</td>\n",
       "      <td>30</td>\n",
       "      <td>7.0</td>\n",
       "    </tr>\n",
       "    <tr>\n",
       "      <th>8</th>\n",
       "      <td>Action</td>\n",
       "      <td>2010</td>\n",
       "      <td>300</td>\n",
       "      <td>4733.0</td>\n",
       "    </tr>\n",
       "    <tr>\n",
       "      <th>9</th>\n",
       "      <td>Action</td>\n",
       "      <td>2004</td>\n",
       "      <td>240</td>\n",
       "      <td>1853.0</td>\n",
       "    </tr>\n",
       "    <tr>\n",
       "      <th>10</th>\n",
       "      <td>Action</td>\n",
       "      <td>2005</td>\n",
       "      <td>3830</td>\n",
       "      <td>333.0</td>\n",
       "    </tr>\n",
       "    <tr>\n",
       "      <th>...</th>\n",
       "      <td>...</td>\n",
       "      <td>...</td>\n",
       "      <td>...</td>\n",
       "      <td>...</td>\n",
       "    </tr>\n",
       "    <tr>\n",
       "      <th>10065958</th>\n",
       "      <td>Indie</td>\n",
       "      <td>2016</td>\n",
       "      <td>227940</td>\n",
       "      <td>43.0</td>\n",
       "    </tr>\n",
       "    <tr>\n",
       "      <th>10065959</th>\n",
       "      <td>Massively Multiplayer</td>\n",
       "      <td>2016</td>\n",
       "      <td>227940</td>\n",
       "      <td>43.0</td>\n",
       "    </tr>\n",
       "    <tr>\n",
       "      <th>10065964</th>\n",
       "      <td>Adventure</td>\n",
       "      <td>2015</td>\n",
       "      <td>388490</td>\n",
       "      <td>3.0</td>\n",
       "    </tr>\n",
       "    <tr>\n",
       "      <th>10065965</th>\n",
       "      <td>Casual</td>\n",
       "      <td>2016</td>\n",
       "      <td>521570</td>\n",
       "      <td>4.0</td>\n",
       "    </tr>\n",
       "    <tr>\n",
       "      <th>10065966</th>\n",
       "      <td>Indie</td>\n",
       "      <td>2016</td>\n",
       "      <td>521570</td>\n",
       "      <td>4.0</td>\n",
       "    </tr>\n",
       "  </tbody>\n",
       "</table>\n",
       "<p>6295144 rows × 4 columns</p>\n",
       "</div>"
      ],
      "text/plain": [
       "                         genres release_date  item_id  playtime_forever\n",
       "0                        Action         2000       10               6.0\n",
       "2                        Action         2003       30               7.0\n",
       "8                        Action         2010      300            4733.0\n",
       "9                        Action         2004      240            1853.0\n",
       "10                       Action         2005     3830             333.0\n",
       "...                         ...          ...      ...               ...\n",
       "10065958                  Indie         2016   227940              43.0\n",
       "10065959  Massively Multiplayer         2016   227940              43.0\n",
       "10065964              Adventure         2015   388490               3.0\n",
       "10065965                 Casual         2016   521570               4.0\n",
       "10065966                  Indie         2016   521570               4.0\n",
       "\n",
       "[6295144 rows x 4 columns]"
      ]
     },
     "execution_count": 4,
     "metadata": {},
     "output_type": "execute_result"
    }
   ],
   "source": [
    "data_genres = data_genres.loc[data_genres['playtime_forever'] > 0]\n",
    "data_genres"
   ]
  },
  {
   "cell_type": "markdown",
   "metadata": {},
   "source": [
    "Se agruparon los registros por género y fecha de lanzamiento, además se sumaron la cantidad de horas jugadas. Luego se reseteó el índice para que los identificadores estén con un orden lógico."
   ]
  },
  {
   "cell_type": "code",
   "execution_count": 5,
   "metadata": {},
   "outputs": [
    {
     "data": {
      "text/html": [
       "<div>\n",
       "<style scoped>\n",
       "    .dataframe tbody tr th:only-of-type {\n",
       "        vertical-align: middle;\n",
       "    }\n",
       "\n",
       "    .dataframe tbody tr th {\n",
       "        vertical-align: top;\n",
       "    }\n",
       "\n",
       "    .dataframe thead th {\n",
       "        text-align: right;\n",
       "    }\n",
       "</style>\n",
       "<table border=\"1\" class=\"dataframe\">\n",
       "  <thead>\n",
       "    <tr style=\"text-align: right;\">\n",
       "      <th></th>\n",
       "      <th>genres</th>\n",
       "      <th>release_date</th>\n",
       "      <th>playtime_forever</th>\n",
       "    </tr>\n",
       "  </thead>\n",
       "  <tbody>\n",
       "    <tr>\n",
       "      <th>0</th>\n",
       "      <td>Action</td>\n",
       "      <td>1983</td>\n",
       "      <td>3582.0</td>\n",
       "    </tr>\n",
       "    <tr>\n",
       "      <th>1</th>\n",
       "      <td>Action</td>\n",
       "      <td>1984</td>\n",
       "      <td>384.0</td>\n",
       "    </tr>\n",
       "    <tr>\n",
       "      <th>2</th>\n",
       "      <td>Action</td>\n",
       "      <td>1988</td>\n",
       "      <td>16243.0</td>\n",
       "    </tr>\n",
       "    <tr>\n",
       "      <th>3</th>\n",
       "      <td>Action</td>\n",
       "      <td>1989</td>\n",
       "      <td>607.0</td>\n",
       "    </tr>\n",
       "    <tr>\n",
       "      <th>4</th>\n",
       "      <td>Action</td>\n",
       "      <td>1990</td>\n",
       "      <td>18787.0</td>\n",
       "    </tr>\n",
       "    <tr>\n",
       "      <th>...</th>\n",
       "      <td>...</td>\n",
       "      <td>...</td>\n",
       "      <td>...</td>\n",
       "    </tr>\n",
       "    <tr>\n",
       "      <th>322</th>\n",
       "      <td>Web Publishing</td>\n",
       "      <td>2013</td>\n",
       "      <td>335849.0</td>\n",
       "    </tr>\n",
       "    <tr>\n",
       "      <th>323</th>\n",
       "      <td>Web Publishing</td>\n",
       "      <td>2014</td>\n",
       "      <td>33732.0</td>\n",
       "    </tr>\n",
       "    <tr>\n",
       "      <th>324</th>\n",
       "      <td>Web Publishing</td>\n",
       "      <td>2015</td>\n",
       "      <td>348861.0</td>\n",
       "    </tr>\n",
       "    <tr>\n",
       "      <th>325</th>\n",
       "      <td>Web Publishing</td>\n",
       "      <td>2016</td>\n",
       "      <td>136.0</td>\n",
       "    </tr>\n",
       "    <tr>\n",
       "      <th>326</th>\n",
       "      <td>Web Publishing</td>\n",
       "      <td>2017</td>\n",
       "      <td>9713.0</td>\n",
       "    </tr>\n",
       "  </tbody>\n",
       "</table>\n",
       "<p>327 rows × 3 columns</p>\n",
       "</div>"
      ],
      "text/plain": [
       "             genres release_date  playtime_forever\n",
       "0            Action         1983            3582.0\n",
       "1            Action         1984             384.0\n",
       "2            Action         1988           16243.0\n",
       "3            Action         1989             607.0\n",
       "4            Action         1990           18787.0\n",
       "..              ...          ...               ...\n",
       "322  Web Publishing         2013          335849.0\n",
       "323  Web Publishing         2014           33732.0\n",
       "324  Web Publishing         2015          348861.0\n",
       "325  Web Publishing         2016             136.0\n",
       "326  Web Publishing         2017            9713.0\n",
       "\n",
       "[327 rows x 3 columns]"
      ]
     },
     "execution_count": 5,
     "metadata": {},
     "output_type": "execute_result"
    }
   ],
   "source": [
    "data_playtime = data_genres.groupby(['genres','release_date'])['playtime_forever'].sum().reset_index()\n",
    "data_playtime"
   ]
  },
  {
   "cell_type": "markdown",
   "metadata": {},
   "source": [
    "### Exportación de datos"
   ]
  },
  {
   "cell_type": "markdown",
   "metadata": {},
   "source": [
    "Exportamos el dataframe en formato Parquet, ademas de ser mas liviano es mas eficiente que el formato CSV."
   ]
  },
  {
   "cell_type": "code",
   "execution_count": 6,
   "metadata": {},
   "outputs": [],
   "source": [
    "data_playtime.to_parquet('../Data_parquet/data_playtime.parquet')"
   ]
  },
  {
   "cell_type": "markdown",
   "metadata": {},
   "source": [
    "### Función"
   ]
  },
  {
   "cell_type": "markdown",
   "metadata": {},
   "source": [
    "La función \"PlayTimeGenre\" tiene dos parámetros que son: un DataFrame y un género que debe ser de tipo string. Se filtra el DataFrame a través del género, se ordenan los valores de forma descendente y se obtiene solo el primer valor, lo mismo para el año de posteo."
   ]
  },
  {
   "cell_type": "code",
   "execution_count": 7,
   "metadata": {},
   "outputs": [],
   "source": [
    "def PlayTimeGenre (dataframe,genero:str):\n",
    "    data_play = dataframe[dataframe['genres'] == genero]\n",
    "    data_play = data_play.sort_values(by='playtime_forever',ascending=False).head(1)\n",
    "    \n",
    "    date = data_play['release_date'].values[0]\n",
    "    feedback = (f'Año de lanzamiento con más horas jugadas para Género {genero}: {date}')\n",
    "    return feedback"
   ]
  },
  {
   "cell_type": "markdown",
   "metadata": {},
   "source": [
    "Revisión de ejecución de la función."
   ]
  },
  {
   "cell_type": "code",
   "execution_count": 8,
   "metadata": {},
   "outputs": [
    {
     "data": {
      "text/plain": [
       "'Año de lanzamiento con más horas jugadas para Género Indie: 2006'"
      ]
     },
     "execution_count": 8,
     "metadata": {},
     "output_type": "execute_result"
    }
   ],
   "source": [
    "PlayTimeGenre(data_genres,'Indie')"
   ]
  },
  {
   "cell_type": "markdown",
   "metadata": {},
   "source": [
    "### UserForGenre"
   ]
  },
  {
   "cell_type": "markdown",
   "metadata": {},
   "source": [
    "def UserForGenre( genero : str ): Debe devolver el usuario que acumula más horas jugadas para el género dado y una lista de la acumulación de horas jugadas por año."
   ]
  },
  {
   "cell_type": "markdown",
   "metadata": {},
   "source": [
    "#### Procesamiento de datos"
   ]
  },
  {
   "cell_type": "markdown",
   "metadata": {},
   "source": [
    "Se unificaron dos DataFrames: \"data_output\" y \"data_items\", y se eliminaron las columnas que no eran necesarias."
   ]
  },
  {
   "cell_type": "code",
   "execution_count": 9,
   "metadata": {},
   "outputs": [
    {
     "data": {
      "text/html": [
       "<div>\n",
       "<style scoped>\n",
       "    .dataframe tbody tr th:only-of-type {\n",
       "        vertical-align: middle;\n",
       "    }\n",
       "\n",
       "    .dataframe tbody tr th {\n",
       "        vertical-align: top;\n",
       "    }\n",
       "\n",
       "    .dataframe thead th {\n",
       "        text-align: right;\n",
       "    }\n",
       "</style>\n",
       "<table border=\"1\" class=\"dataframe\">\n",
       "  <thead>\n",
       "    <tr style=\"text-align: right;\">\n",
       "      <th></th>\n",
       "      <th>genres</th>\n",
       "      <th>release_date</th>\n",
       "      <th>item_id</th>\n",
       "      <th>playtime_forever</th>\n",
       "      <th>user_id</th>\n",
       "    </tr>\n",
       "  </thead>\n",
       "  <tbody>\n",
       "    <tr>\n",
       "      <th>0</th>\n",
       "      <td>Action</td>\n",
       "      <td>1997</td>\n",
       "      <td>282010</td>\n",
       "      <td>5.0</td>\n",
       "      <td>UTNerd24</td>\n",
       "    </tr>\n",
       "    <tr>\n",
       "      <th>1</th>\n",
       "      <td>Action</td>\n",
       "      <td>1997</td>\n",
       "      <td>282010</td>\n",
       "      <td>0.0</td>\n",
       "      <td>I_DID_911_JUST_SAYING</td>\n",
       "    </tr>\n",
       "    <tr>\n",
       "      <th>2</th>\n",
       "      <td>Action</td>\n",
       "      <td>1997</td>\n",
       "      <td>282010</td>\n",
       "      <td>0.0</td>\n",
       "      <td>76561197962104795</td>\n",
       "    </tr>\n",
       "    <tr>\n",
       "      <th>3</th>\n",
       "      <td>Action</td>\n",
       "      <td>1997</td>\n",
       "      <td>282010</td>\n",
       "      <td>0.0</td>\n",
       "      <td>r3ap3r78</td>\n",
       "    </tr>\n",
       "    <tr>\n",
       "      <th>4</th>\n",
       "      <td>Action</td>\n",
       "      <td>1997</td>\n",
       "      <td>282010</td>\n",
       "      <td>13.0</td>\n",
       "      <td>saint556</td>\n",
       "    </tr>\n",
       "    <tr>\n",
       "      <th>...</th>\n",
       "      <td>...</td>\n",
       "      <td>...</td>\n",
       "      <td>...</td>\n",
       "      <td>...</td>\n",
       "      <td>...</td>\n",
       "    </tr>\n",
       "    <tr>\n",
       "      <th>9115519</th>\n",
       "      <td>Action</td>\n",
       "      <td>2004</td>\n",
       "      <td>80</td>\n",
       "      <td>0.0</td>\n",
       "      <td>76561198273508956</td>\n",
       "    </tr>\n",
       "    <tr>\n",
       "      <th>9115520</th>\n",
       "      <td>Action</td>\n",
       "      <td>2004</td>\n",
       "      <td>80</td>\n",
       "      <td>0.0</td>\n",
       "      <td>76561198282090798</td>\n",
       "    </tr>\n",
       "    <tr>\n",
       "      <th>9115521</th>\n",
       "      <td>Action</td>\n",
       "      <td>2004</td>\n",
       "      <td>80</td>\n",
       "      <td>0.0</td>\n",
       "      <td>943525</td>\n",
       "    </tr>\n",
       "    <tr>\n",
       "      <th>9115522</th>\n",
       "      <td>Action</td>\n",
       "      <td>2004</td>\n",
       "      <td>80</td>\n",
       "      <td>9.0</td>\n",
       "      <td>76561198283312749</td>\n",
       "    </tr>\n",
       "    <tr>\n",
       "      <th>9115523</th>\n",
       "      <td>Action</td>\n",
       "      <td>2004</td>\n",
       "      <td>80</td>\n",
       "      <td>99.0</td>\n",
       "      <td>76561198312638244</td>\n",
       "    </tr>\n",
       "  </tbody>\n",
       "</table>\n",
       "<p>9115524 rows × 5 columns</p>\n",
       "</div>"
      ],
      "text/plain": [
       "         genres release_date  item_id  playtime_forever                user_id\n",
       "0        Action         1997   282010               5.0               UTNerd24\n",
       "1        Action         1997   282010               0.0  I_DID_911_JUST_SAYING\n",
       "2        Action         1997   282010               0.0      76561197962104795\n",
       "3        Action         1997   282010               0.0               r3ap3r78\n",
       "4        Action         1997   282010              13.0               saint556\n",
       "...         ...          ...      ...               ...                    ...\n",
       "9115519  Action         2004       80               0.0      76561198273508956\n",
       "9115520  Action         2004       80               0.0      76561198282090798\n",
       "9115521  Action         2004       80               0.0                 943525\n",
       "9115522  Action         2004       80               9.0      76561198283312749\n",
       "9115523  Action         2004       80              99.0      76561198312638244\n",
       "\n",
       "[9115524 rows x 5 columns]"
      ]
     },
     "execution_count": 9,
     "metadata": {},
     "output_type": "execute_result"
    }
   ],
   "source": [
    "data_user_genre = pd.merge(data_output,data_items)\n",
    "data_user_genre = data_user_genre.drop(columns=['publisher','app_name','title','price','early_access','developer','item_name','items_count','steam_id'])\n",
    "data_user_genre"
   ]
  },
  {
   "cell_type": "markdown",
   "metadata": {},
   "source": [
    "Se agruparon los datos a través del id del usuario, el género del juego y el año. Se sumaron los valores de las horas acumuladas por usuario. Luego, se reseteó el índice para que nuestro nuevo DataFrame \"data_user_genre\" quede listo para ser consumido por nuestra API."
   ]
  },
  {
   "cell_type": "code",
   "execution_count": 10,
   "metadata": {},
   "outputs": [
    {
     "data": {
      "text/html": [
       "<div>\n",
       "<style scoped>\n",
       "    .dataframe tbody tr th:only-of-type {\n",
       "        vertical-align: middle;\n",
       "    }\n",
       "\n",
       "    .dataframe tbody tr th {\n",
       "        vertical-align: top;\n",
       "    }\n",
       "\n",
       "    .dataframe thead th {\n",
       "        text-align: right;\n",
       "    }\n",
       "</style>\n",
       "<table border=\"1\" class=\"dataframe\">\n",
       "  <thead>\n",
       "    <tr style=\"text-align: right;\">\n",
       "      <th></th>\n",
       "      <th>user_id</th>\n",
       "      <th>genres</th>\n",
       "      <th>release_date</th>\n",
       "      <th>playtime_forever</th>\n",
       "    </tr>\n",
       "  </thead>\n",
       "  <tbody>\n",
       "    <tr>\n",
       "      <th>0</th>\n",
       "      <td>--000--</td>\n",
       "      <td>Action</td>\n",
       "      <td>2009</td>\n",
       "      <td>5329.0</td>\n",
       "    </tr>\n",
       "    <tr>\n",
       "      <th>1</th>\n",
       "      <td>--000--</td>\n",
       "      <td>Action</td>\n",
       "      <td>2010</td>\n",
       "      <td>22.0</td>\n",
       "    </tr>\n",
       "    <tr>\n",
       "      <th>2</th>\n",
       "      <td>--000--</td>\n",
       "      <td>Action</td>\n",
       "      <td>2011</td>\n",
       "      <td>6522.0</td>\n",
       "    </tr>\n",
       "    <tr>\n",
       "      <th>3</th>\n",
       "      <td>--000--</td>\n",
       "      <td>Action</td>\n",
       "      <td>2012</td>\n",
       "      <td>109346.0</td>\n",
       "    </tr>\n",
       "    <tr>\n",
       "      <th>4</th>\n",
       "      <td>--000--</td>\n",
       "      <td>Action</td>\n",
       "      <td>2013</td>\n",
       "      <td>363.0</td>\n",
       "    </tr>\n",
       "    <tr>\n",
       "      <th>...</th>\n",
       "      <td>...</td>\n",
       "      <td>...</td>\n",
       "      <td>...</td>\n",
       "      <td>...</td>\n",
       "    </tr>\n",
       "    <tr>\n",
       "      <th>3103381</th>\n",
       "      <td>zzzmidmiss</td>\n",
       "      <td>Strategy</td>\n",
       "      <td>2009</td>\n",
       "      <td>0.0</td>\n",
       "    </tr>\n",
       "    <tr>\n",
       "      <th>3103382</th>\n",
       "      <td>zzzmidmiss</td>\n",
       "      <td>Strategy</td>\n",
       "      <td>2010</td>\n",
       "      <td>10.0</td>\n",
       "    </tr>\n",
       "    <tr>\n",
       "      <th>3103383</th>\n",
       "      <td>zzzmidmiss</td>\n",
       "      <td>Strategy</td>\n",
       "      <td>2011</td>\n",
       "      <td>69.0</td>\n",
       "    </tr>\n",
       "    <tr>\n",
       "      <th>3103384</th>\n",
       "      <td>zzzmidmiss</td>\n",
       "      <td>Strategy</td>\n",
       "      <td>2012</td>\n",
       "      <td>923.0</td>\n",
       "    </tr>\n",
       "    <tr>\n",
       "      <th>3103385</th>\n",
       "      <td>zzzmidmiss</td>\n",
       "      <td>Strategy</td>\n",
       "      <td>2016</td>\n",
       "      <td>0.0</td>\n",
       "    </tr>\n",
       "  </tbody>\n",
       "</table>\n",
       "<p>3103386 rows × 4 columns</p>\n",
       "</div>"
      ],
      "text/plain": [
       "            user_id    genres release_date  playtime_forever\n",
       "0           --000--    Action         2009            5329.0\n",
       "1           --000--    Action         2010              22.0\n",
       "2           --000--    Action         2011            6522.0\n",
       "3           --000--    Action         2012          109346.0\n",
       "4           --000--    Action         2013             363.0\n",
       "...             ...       ...          ...               ...\n",
       "3103381  zzzmidmiss  Strategy         2009               0.0\n",
       "3103382  zzzmidmiss  Strategy         2010              10.0\n",
       "3103383  zzzmidmiss  Strategy         2011              69.0\n",
       "3103384  zzzmidmiss  Strategy         2012             923.0\n",
       "3103385  zzzmidmiss  Strategy         2016               0.0\n",
       "\n",
       "[3103386 rows x 4 columns]"
      ]
     },
     "execution_count": 10,
     "metadata": {},
     "output_type": "execute_result"
    }
   ],
   "source": [
    "data_user_genre = data_user_genre.groupby(['user_id','genres','release_date'])['playtime_forever'].sum().reset_index()\n",
    "data_user_genre"
   ]
  },
  {
   "cell_type": "markdown",
   "metadata": {},
   "source": [
    "Los registros que tenían un valor de 0 en la columna \"playtime_forever\" se borraron por dos motivos: alivianar la cantidad de registros en el DataFrame y porque no tenían un valor significativo en el objetivo de nuestra función."
   ]
  },
  {
   "cell_type": "code",
   "execution_count": 11,
   "metadata": {},
   "outputs": [
    {
     "data": {
      "text/html": [
       "<div>\n",
       "<style scoped>\n",
       "    .dataframe tbody tr th:only-of-type {\n",
       "        vertical-align: middle;\n",
       "    }\n",
       "\n",
       "    .dataframe tbody tr th {\n",
       "        vertical-align: top;\n",
       "    }\n",
       "\n",
       "    .dataframe thead th {\n",
       "        text-align: right;\n",
       "    }\n",
       "</style>\n",
       "<table border=\"1\" class=\"dataframe\">\n",
       "  <thead>\n",
       "    <tr style=\"text-align: right;\">\n",
       "      <th></th>\n",
       "      <th>user_id</th>\n",
       "      <th>genres</th>\n",
       "      <th>release_date</th>\n",
       "      <th>playtime_forever</th>\n",
       "    </tr>\n",
       "  </thead>\n",
       "  <tbody>\n",
       "    <tr>\n",
       "      <th>0</th>\n",
       "      <td>--000--</td>\n",
       "      <td>Action</td>\n",
       "      <td>2009</td>\n",
       "      <td>5329.0</td>\n",
       "    </tr>\n",
       "    <tr>\n",
       "      <th>1</th>\n",
       "      <td>--000--</td>\n",
       "      <td>Action</td>\n",
       "      <td>2010</td>\n",
       "      <td>22.0</td>\n",
       "    </tr>\n",
       "    <tr>\n",
       "      <th>2</th>\n",
       "      <td>--000--</td>\n",
       "      <td>Action</td>\n",
       "      <td>2011</td>\n",
       "      <td>6522.0</td>\n",
       "    </tr>\n",
       "    <tr>\n",
       "      <th>3</th>\n",
       "      <td>--000--</td>\n",
       "      <td>Action</td>\n",
       "      <td>2012</td>\n",
       "      <td>109346.0</td>\n",
       "    </tr>\n",
       "    <tr>\n",
       "      <th>4</th>\n",
       "      <td>--000--</td>\n",
       "      <td>Action</td>\n",
       "      <td>2013</td>\n",
       "      <td>363.0</td>\n",
       "    </tr>\n",
       "    <tr>\n",
       "      <th>...</th>\n",
       "      <td>...</td>\n",
       "      <td>...</td>\n",
       "      <td>...</td>\n",
       "      <td>...</td>\n",
       "    </tr>\n",
       "    <tr>\n",
       "      <th>3103379</th>\n",
       "      <td>zzzmidmiss</td>\n",
       "      <td>Sports</td>\n",
       "      <td>2010</td>\n",
       "      <td>194.0</td>\n",
       "    </tr>\n",
       "    <tr>\n",
       "      <th>3103380</th>\n",
       "      <td>zzzmidmiss</td>\n",
       "      <td>Sports</td>\n",
       "      <td>2014</td>\n",
       "      <td>16.0</td>\n",
       "    </tr>\n",
       "    <tr>\n",
       "      <th>3103382</th>\n",
       "      <td>zzzmidmiss</td>\n",
       "      <td>Strategy</td>\n",
       "      <td>2010</td>\n",
       "      <td>10.0</td>\n",
       "    </tr>\n",
       "    <tr>\n",
       "      <th>3103383</th>\n",
       "      <td>zzzmidmiss</td>\n",
       "      <td>Strategy</td>\n",
       "      <td>2011</td>\n",
       "      <td>69.0</td>\n",
       "    </tr>\n",
       "    <tr>\n",
       "      <th>3103384</th>\n",
       "      <td>zzzmidmiss</td>\n",
       "      <td>Strategy</td>\n",
       "      <td>2012</td>\n",
       "      <td>923.0</td>\n",
       "    </tr>\n",
       "  </tbody>\n",
       "</table>\n",
       "<p>2565741 rows × 4 columns</p>\n",
       "</div>"
      ],
      "text/plain": [
       "            user_id    genres release_date  playtime_forever\n",
       "0           --000--    Action         2009            5329.0\n",
       "1           --000--    Action         2010              22.0\n",
       "2           --000--    Action         2011            6522.0\n",
       "3           --000--    Action         2012          109346.0\n",
       "4           --000--    Action         2013             363.0\n",
       "...             ...       ...          ...               ...\n",
       "3103379  zzzmidmiss    Sports         2010             194.0\n",
       "3103380  zzzmidmiss    Sports         2014              16.0\n",
       "3103382  zzzmidmiss  Strategy         2010              10.0\n",
       "3103383  zzzmidmiss  Strategy         2011              69.0\n",
       "3103384  zzzmidmiss  Strategy         2012             923.0\n",
       "\n",
       "[2565741 rows x 4 columns]"
      ]
     },
     "execution_count": 11,
     "metadata": {},
     "output_type": "execute_result"
    }
   ],
   "source": [
    "data_user_genre = data_user_genre.loc[data_user_genre['playtime_forever']>0]\n",
    "data_user_genre"
   ]
  },
  {
   "cell_type": "markdown",
   "metadata": {},
   "source": [
    "### Exportación de datos"
   ]
  },
  {
   "cell_type": "markdown",
   "metadata": {},
   "source": [
    "Exportamos el dataframe en formato Parquet, ademas de ser mas liviano es mas eficiente que el formato CSV."
   ]
  },
  {
   "cell_type": "code",
   "execution_count": 12,
   "metadata": {},
   "outputs": [],
   "source": [
    "data_user_genre.to_parquet('../Data_parquet/data_user_genre.parquet')"
   ]
  },
  {
   "cell_type": "markdown",
   "metadata": {},
   "source": [
    "### Función"
   ]
  },
  {
   "cell_type": "markdown",
   "metadata": {},
   "source": [
    "En la función que recibe dos parámetros, un DataFrame y un género de juegos que debe ser string, se filtró nuestro DataFrame \"data_user_genre\" por el género que se le ingrese. Luego, se ordenaron los valores de manera descendente y se extrajo la primera posición de esos valores. Después, se extrajeron todos los datos: horas de juego, nombre de usuario, años en los que jugó y las horas por cada uno de esos años. Esto último se logró mediante el agrupamiento por año y la suma de las horas jugadas. Por último, se guardaron los valores en un diccionario."
   ]
  },
  {
   "cell_type": "code",
   "execution_count": 13,
   "metadata": {},
   "outputs": [],
   "source": [
    "def UserForGenre(data_user_genre,genero:str):\n",
    "\n",
    "    data_genre = data_user_genre[data_user_genre['genres'] == genero]\n",
    "    data_usuario = data_genre.sort_values(by='playtime_forever',ascending=False).iloc[0]\n",
    "    hours = data_usuario.at['playtime_forever']\n",
    "    data_user =data_usuario.values[0]\n",
    "    anio = data_usuario.at['release_date']\n",
    "    horas_anuales_usuario = data_genre.groupby('release_date')['playtime_forever'].sum().reset_index()\n",
    "    horas_anuales = horas_anuales_usuario.to_dict(orient='records')\n",
    "    write = (f'Usuario con más horas jugadas para el género {genero} es: {data_user}, en el año {anio}: {hours} jugadas, además tenemos las horas jugadas por año del usuario {data_user}: {horas_anuales}')\n",
    "    return write              "
   ]
  },
  {
   "cell_type": "markdown",
   "metadata": {},
   "source": [
    "Revisión de ejecución de la función."
   ]
  },
  {
   "cell_type": "code",
   "execution_count": 14,
   "metadata": {},
   "outputs": [
    {
     "data": {
      "text/plain": [
       "\"Usuario con más horas jugadas para el género Sports es: 76561198019112245, en el año 2014: 182988.0 jugadas, además tenemos las horas jugadas por año del usuario 76561198019112245: [{'release_date': '1995', 'playtime_forever': 31220.0}, {'release_date': '2005', 'playtime_forever': 69758.0}, {'release_date': '2006', 'playtime_forever': 11211.0}, {'release_date': '2007', 'playtime_forever': 1308.0}, {'release_date': '2008', 'playtime_forever': 98946.0}, {'release_date': '2009', 'playtime_forever': 250785.0}, {'release_date': '2010', 'playtime_forever': 2397026.0}, {'release_date': '2011', 'playtime_forever': 930765.0}, {'release_date': '2012', 'playtime_forever': 3608452.0}, {'release_date': '2013', 'playtime_forever': 6257701.0}, {'release_date': '2014', 'playtime_forever': 5604627.0}, {'release_date': '2015', 'playtime_forever': 41795973.0}, {'release_date': '2016', 'playtime_forever': 4763913.0}, {'release_date': '2017', 'playtime_forever': 22876.0}, {'release_date': 'No data', 'playtime_forever': 4616.0}]\""
      ]
     },
     "execution_count": 14,
     "metadata": {},
     "output_type": "execute_result"
    }
   ],
   "source": [
    "UserForGenre(data_user_genre,'Sports')"
   ]
  },
  {
   "cell_type": "markdown",
   "metadata": {},
   "source": [
    "### UsersRecommend"
   ]
  },
  {
   "cell_type": "markdown",
   "metadata": {},
   "source": [
    "def UsersRecommend( año : int ): Devuelve el top 3 de juegos MÁS recomendados por usuarios para el año dado. (reviews.recommend = True y comentarios positivos/neutrales)"
   ]
  },
  {
   "cell_type": "markdown",
   "metadata": {},
   "source": [
    "#### Procesamiento de datos"
   ]
  },
  {
   "cell_type": "markdown",
   "metadata": {},
   "source": [
    "Se unificaron los DataFrames \"data_output\" y \"data_review\" para dar lugar a \"data_recommend\", y se eliminaron las columnas que no serán necesarias para nuestra función."
   ]
  },
  {
   "cell_type": "code",
   "execution_count": 15,
   "metadata": {},
   "outputs": [
    {
     "data": {
      "text/html": [
       "<div>\n",
       "<style scoped>\n",
       "    .dataframe tbody tr th:only-of-type {\n",
       "        vertical-align: middle;\n",
       "    }\n",
       "\n",
       "    .dataframe tbody tr th {\n",
       "        vertical-align: top;\n",
       "    }\n",
       "\n",
       "    .dataframe thead th {\n",
       "        text-align: right;\n",
       "    }\n",
       "</style>\n",
       "<table border=\"1\" class=\"dataframe\">\n",
       "  <thead>\n",
       "    <tr style=\"text-align: right;\">\n",
       "      <th></th>\n",
       "      <th>app_name</th>\n",
       "      <th>item_id</th>\n",
       "      <th>user_id</th>\n",
       "      <th>posted</th>\n",
       "      <th>recommend</th>\n",
       "      <th>sentiment_analysis</th>\n",
       "    </tr>\n",
       "  </thead>\n",
       "  <tbody>\n",
       "    <tr>\n",
       "      <th>0</th>\n",
       "      <td>Carmageddon Max Pack</td>\n",
       "      <td>282010</td>\n",
       "      <td>InstigatorAU</td>\n",
       "      <td>2014</td>\n",
       "      <td>True</td>\n",
       "      <td>1</td>\n",
       "    </tr>\n",
       "    <tr>\n",
       "      <th>1</th>\n",
       "      <td>Carmageddon Max Pack</td>\n",
       "      <td>282010</td>\n",
       "      <td>InstigatorAU</td>\n",
       "      <td>2014</td>\n",
       "      <td>True</td>\n",
       "      <td>1</td>\n",
       "    </tr>\n",
       "    <tr>\n",
       "      <th>2</th>\n",
       "      <td>Carmageddon Max Pack</td>\n",
       "      <td>282010</td>\n",
       "      <td>InstigatorAU</td>\n",
       "      <td>2014</td>\n",
       "      <td>True</td>\n",
       "      <td>1</td>\n",
       "    </tr>\n",
       "    <tr>\n",
       "      <th>3</th>\n",
       "      <td>Half-Life</td>\n",
       "      <td>70</td>\n",
       "      <td>EizanAratoFujimaki</td>\n",
       "      <td>2015</td>\n",
       "      <td>True</td>\n",
       "      <td>1</td>\n",
       "    </tr>\n",
       "    <tr>\n",
       "      <th>4</th>\n",
       "      <td>Half-Life</td>\n",
       "      <td>70</td>\n",
       "      <td>76561198020928326</td>\n",
       "      <td>2014</td>\n",
       "      <td>True</td>\n",
       "      <td>1</td>\n",
       "    </tr>\n",
       "    <tr>\n",
       "      <th>...</th>\n",
       "      <td>...</td>\n",
       "      <td>...</td>\n",
       "      <td>...</td>\n",
       "      <td>...</td>\n",
       "      <td>...</td>\n",
       "      <td>...</td>\n",
       "    </tr>\n",
       "    <tr>\n",
       "      <th>110785</th>\n",
       "      <td>Counter-Strike: Condition Zero</td>\n",
       "      <td>80</td>\n",
       "      <td>76561198023508728</td>\n",
       "      <td>2014</td>\n",
       "      <td>False</td>\n",
       "      <td>1</td>\n",
       "    </tr>\n",
       "    <tr>\n",
       "      <th>110786</th>\n",
       "      <td>Counter-Strike: Condition Zero</td>\n",
       "      <td>80</td>\n",
       "      <td>Lone_walker</td>\n",
       "      <td>2013</td>\n",
       "      <td>True</td>\n",
       "      <td>2</td>\n",
       "    </tr>\n",
       "    <tr>\n",
       "      <th>110787</th>\n",
       "      <td>Counter-Strike: Condition Zero</td>\n",
       "      <td>80</td>\n",
       "      <td>virex4</td>\n",
       "      <td>2011</td>\n",
       "      <td>True</td>\n",
       "      <td>2</td>\n",
       "    </tr>\n",
       "    <tr>\n",
       "      <th>110788</th>\n",
       "      <td>Counter-Strike: Condition Zero</td>\n",
       "      <td>80</td>\n",
       "      <td>KILLERamateur</td>\n",
       "      <td>2014</td>\n",
       "      <td>True</td>\n",
       "      <td>2</td>\n",
       "    </tr>\n",
       "    <tr>\n",
       "      <th>110789</th>\n",
       "      <td>Counter-Strike: Condition Zero</td>\n",
       "      <td>80</td>\n",
       "      <td>76561198123074348</td>\n",
       "      <td>2014</td>\n",
       "      <td>False</td>\n",
       "      <td>0</td>\n",
       "    </tr>\n",
       "  </tbody>\n",
       "</table>\n",
       "<p>110790 rows × 6 columns</p>\n",
       "</div>"
      ],
      "text/plain": [
       "                              app_name  item_id             user_id  posted  \\\n",
       "0                 Carmageddon Max Pack   282010        InstigatorAU    2014   \n",
       "1                 Carmageddon Max Pack   282010        InstigatorAU    2014   \n",
       "2                 Carmageddon Max Pack   282010        InstigatorAU    2014   \n",
       "3                            Half-Life       70  EizanAratoFujimaki    2015   \n",
       "4                            Half-Life       70   76561198020928326    2014   \n",
       "...                                ...      ...                 ...     ...   \n",
       "110785  Counter-Strike: Condition Zero       80   76561198023508728    2014   \n",
       "110786  Counter-Strike: Condition Zero       80         Lone_walker    2013   \n",
       "110787  Counter-Strike: Condition Zero       80              virex4    2011   \n",
       "110788  Counter-Strike: Condition Zero       80       KILLERamateur    2014   \n",
       "110789  Counter-Strike: Condition Zero       80   76561198123074348    2014   \n",
       "\n",
       "        recommend  sentiment_analysis  \n",
       "0            True                   1  \n",
       "1            True                   1  \n",
       "2            True                   1  \n",
       "3            True                   1  \n",
       "4            True                   1  \n",
       "...           ...                 ...  \n",
       "110785      False                   1  \n",
       "110786       True                   2  \n",
       "110787       True                   2  \n",
       "110788       True                   2  \n",
       "110789      False                   0  \n",
       "\n",
       "[110790 rows x 6 columns]"
      ]
     },
     "execution_count": 15,
     "metadata": {},
     "output_type": "execute_result"
    }
   ],
   "source": [
    "data_recommend = pd.merge(data_output,data_review,on='item_id')\n",
    "data_recommend = data_recommend.drop(columns=['publisher','genres','title','release_date','price','early_access','developer','user_url'])\n",
    "data_recommend"
   ]
  },
  {
   "cell_type": "markdown",
   "metadata": {},
   "source": [
    "Se realiza un filtrado del DataFrame \"data_recommend\" con las condiciones de que el juego sea recomendado y además tenga un comentario que puede ser positivo tanto como neutral."
   ]
  },
  {
   "cell_type": "code",
   "execution_count": 16,
   "metadata": {},
   "outputs": [
    {
     "data": {
      "text/html": [
       "<div>\n",
       "<style scoped>\n",
       "    .dataframe tbody tr th:only-of-type {\n",
       "        vertical-align: middle;\n",
       "    }\n",
       "\n",
       "    .dataframe tbody tr th {\n",
       "        vertical-align: top;\n",
       "    }\n",
       "\n",
       "    .dataframe thead th {\n",
       "        text-align: right;\n",
       "    }\n",
       "</style>\n",
       "<table border=\"1\" class=\"dataframe\">\n",
       "  <thead>\n",
       "    <tr style=\"text-align: right;\">\n",
       "      <th></th>\n",
       "      <th>app_name</th>\n",
       "      <th>item_id</th>\n",
       "      <th>user_id</th>\n",
       "      <th>posted</th>\n",
       "      <th>recommend</th>\n",
       "      <th>sentiment_analysis</th>\n",
       "    </tr>\n",
       "  </thead>\n",
       "  <tbody>\n",
       "    <tr>\n",
       "      <th>0</th>\n",
       "      <td>Carmageddon Max Pack</td>\n",
       "      <td>282010</td>\n",
       "      <td>InstigatorAU</td>\n",
       "      <td>2014</td>\n",
       "      <td>True</td>\n",
       "      <td>1</td>\n",
       "    </tr>\n",
       "    <tr>\n",
       "      <th>1</th>\n",
       "      <td>Carmageddon Max Pack</td>\n",
       "      <td>282010</td>\n",
       "      <td>InstigatorAU</td>\n",
       "      <td>2014</td>\n",
       "      <td>True</td>\n",
       "      <td>1</td>\n",
       "    </tr>\n",
       "    <tr>\n",
       "      <th>2</th>\n",
       "      <td>Carmageddon Max Pack</td>\n",
       "      <td>282010</td>\n",
       "      <td>InstigatorAU</td>\n",
       "      <td>2014</td>\n",
       "      <td>True</td>\n",
       "      <td>1</td>\n",
       "    </tr>\n",
       "    <tr>\n",
       "      <th>3</th>\n",
       "      <td>Half-Life</td>\n",
       "      <td>70</td>\n",
       "      <td>EizanAratoFujimaki</td>\n",
       "      <td>2015</td>\n",
       "      <td>True</td>\n",
       "      <td>1</td>\n",
       "    </tr>\n",
       "    <tr>\n",
       "      <th>4</th>\n",
       "      <td>Half-Life</td>\n",
       "      <td>70</td>\n",
       "      <td>76561198020928326</td>\n",
       "      <td>2014</td>\n",
       "      <td>True</td>\n",
       "      <td>1</td>\n",
       "    </tr>\n",
       "    <tr>\n",
       "      <th>...</th>\n",
       "      <td>...</td>\n",
       "      <td>...</td>\n",
       "      <td>...</td>\n",
       "      <td>...</td>\n",
       "      <td>...</td>\n",
       "      <td>...</td>\n",
       "    </tr>\n",
       "    <tr>\n",
       "      <th>110781</th>\n",
       "      <td>Counter-Strike: Condition Zero</td>\n",
       "      <td>80</td>\n",
       "      <td>bindisposerer</td>\n",
       "      <td>2015</td>\n",
       "      <td>True</td>\n",
       "      <td>1</td>\n",
       "    </tr>\n",
       "    <tr>\n",
       "      <th>110782</th>\n",
       "      <td>Counter-Strike: Condition Zero</td>\n",
       "      <td>80</td>\n",
       "      <td>174gamecuman700kngkakak</td>\n",
       "      <td>2014</td>\n",
       "      <td>True</td>\n",
       "      <td>1</td>\n",
       "    </tr>\n",
       "    <tr>\n",
       "      <th>110786</th>\n",
       "      <td>Counter-Strike: Condition Zero</td>\n",
       "      <td>80</td>\n",
       "      <td>Lone_walker</td>\n",
       "      <td>2013</td>\n",
       "      <td>True</td>\n",
       "      <td>2</td>\n",
       "    </tr>\n",
       "    <tr>\n",
       "      <th>110787</th>\n",
       "      <td>Counter-Strike: Condition Zero</td>\n",
       "      <td>80</td>\n",
       "      <td>virex4</td>\n",
       "      <td>2011</td>\n",
       "      <td>True</td>\n",
       "      <td>2</td>\n",
       "    </tr>\n",
       "    <tr>\n",
       "      <th>110788</th>\n",
       "      <td>Counter-Strike: Condition Zero</td>\n",
       "      <td>80</td>\n",
       "      <td>KILLERamateur</td>\n",
       "      <td>2014</td>\n",
       "      <td>True</td>\n",
       "      <td>2</td>\n",
       "    </tr>\n",
       "  </tbody>\n",
       "</table>\n",
       "<p>92581 rows × 6 columns</p>\n",
       "</div>"
      ],
      "text/plain": [
       "                              app_name  item_id                  user_id  \\\n",
       "0                 Carmageddon Max Pack   282010             InstigatorAU   \n",
       "1                 Carmageddon Max Pack   282010             InstigatorAU   \n",
       "2                 Carmageddon Max Pack   282010             InstigatorAU   \n",
       "3                            Half-Life       70       EizanAratoFujimaki   \n",
       "4                            Half-Life       70        76561198020928326   \n",
       "...                                ...      ...                      ...   \n",
       "110781  Counter-Strike: Condition Zero       80            bindisposerer   \n",
       "110782  Counter-Strike: Condition Zero       80  174gamecuman700kngkakak   \n",
       "110786  Counter-Strike: Condition Zero       80              Lone_walker   \n",
       "110787  Counter-Strike: Condition Zero       80                   virex4   \n",
       "110788  Counter-Strike: Condition Zero       80            KILLERamateur   \n",
       "\n",
       "        posted  recommend  sentiment_analysis  \n",
       "0         2014       True                   1  \n",
       "1         2014       True                   1  \n",
       "2         2014       True                   1  \n",
       "3         2015       True                   1  \n",
       "4         2014       True                   1  \n",
       "...        ...        ...                 ...  \n",
       "110781    2015       True                   1  \n",
       "110782    2014       True                   1  \n",
       "110786    2013       True                   2  \n",
       "110787    2011       True                   2  \n",
       "110788    2014       True                   2  \n",
       "\n",
       "[92581 rows x 6 columns]"
      ]
     },
     "execution_count": 16,
     "metadata": {},
     "output_type": "execute_result"
    }
   ],
   "source": [
    "data_recommend = data_recommend[(data_recommend['recommend'] == True) & (data_recommend['sentiment_analysis'].isin([1,2]))]\n",
    "data_recommend"
   ]
  },
  {
   "cell_type": "markdown",
   "metadata": {},
   "source": [
    "Se realiza una agrupación de los registros a través de su nombre y el año en el que fue recomendado y comentado por los usuarios."
   ]
  },
  {
   "cell_type": "code",
   "execution_count": 17,
   "metadata": {},
   "outputs": [
    {
     "data": {
      "text/html": [
       "<div>\n",
       "<style scoped>\n",
       "    .dataframe tbody tr th:only-of-type {\n",
       "        vertical-align: middle;\n",
       "    }\n",
       "\n",
       "    .dataframe tbody tr th {\n",
       "        vertical-align: top;\n",
       "    }\n",
       "\n",
       "    .dataframe thead th {\n",
       "        text-align: right;\n",
       "    }\n",
       "</style>\n",
       "<table border=\"1\" class=\"dataframe\">\n",
       "  <thead>\n",
       "    <tr style=\"text-align: right;\">\n",
       "      <th></th>\n",
       "      <th>app_name</th>\n",
       "      <th>posted</th>\n",
       "      <th>recommend</th>\n",
       "    </tr>\n",
       "  </thead>\n",
       "  <tbody>\n",
       "    <tr>\n",
       "      <th>0</th>\n",
       "      <td>//N.P.P.D. RUSH//- The milk of Ultraviolet</td>\n",
       "      <td>2015</td>\n",
       "      <td>2</td>\n",
       "    </tr>\n",
       "    <tr>\n",
       "      <th>1</th>\n",
       "      <td>0RBITALIS</td>\n",
       "      <td>2014</td>\n",
       "      <td>2</td>\n",
       "    </tr>\n",
       "    <tr>\n",
       "      <th>2</th>\n",
       "      <td>10,000,000</td>\n",
       "      <td>2014</td>\n",
       "      <td>8</td>\n",
       "    </tr>\n",
       "    <tr>\n",
       "      <th>3</th>\n",
       "      <td>10,000,000</td>\n",
       "      <td>2015</td>\n",
       "      <td>4</td>\n",
       "    </tr>\n",
       "    <tr>\n",
       "      <th>4</th>\n",
       "      <td>100% Orange Juice</td>\n",
       "      <td>2014</td>\n",
       "      <td>12</td>\n",
       "    </tr>\n",
       "    <tr>\n",
       "      <th>...</th>\n",
       "      <td>...</td>\n",
       "      <td>...</td>\n",
       "      <td>...</td>\n",
       "    </tr>\n",
       "    <tr>\n",
       "      <th>4600</th>\n",
       "      <td>theHunter Classic</td>\n",
       "      <td>2014</td>\n",
       "      <td>80</td>\n",
       "    </tr>\n",
       "    <tr>\n",
       "      <th>4601</th>\n",
       "      <td>theHunter Classic</td>\n",
       "      <td>2015</td>\n",
       "      <td>52</td>\n",
       "    </tr>\n",
       "    <tr>\n",
       "      <th>4602</th>\n",
       "      <td>theHunter: Primal</td>\n",
       "      <td>2014</td>\n",
       "      <td>12</td>\n",
       "    </tr>\n",
       "    <tr>\n",
       "      <th>4603</th>\n",
       "      <td>theHunter: Primal</td>\n",
       "      <td>2015</td>\n",
       "      <td>24</td>\n",
       "    </tr>\n",
       "    <tr>\n",
       "      <th>4604</th>\n",
       "      <td>Астролорды: Облако Оорта</td>\n",
       "      <td>2015</td>\n",
       "      <td>3</td>\n",
       "    </tr>\n",
       "  </tbody>\n",
       "</table>\n",
       "<p>4605 rows × 3 columns</p>\n",
       "</div>"
      ],
      "text/plain": [
       "                                        app_name  posted  recommend\n",
       "0     //N.P.P.D. RUSH//- The milk of Ultraviolet    2015          2\n",
       "1                                      0RBITALIS    2014          2\n",
       "2                                     10,000,000    2014          8\n",
       "3                                     10,000,000    2015          4\n",
       "4                              100% Orange Juice    2014         12\n",
       "...                                          ...     ...        ...\n",
       "4600                           theHunter Classic    2014         80\n",
       "4601                           theHunter Classic    2015         52\n",
       "4602                           theHunter: Primal    2014         12\n",
       "4603                           theHunter: Primal    2015         24\n",
       "4604                    Астролорды: Облако Оорта    2015          3\n",
       "\n",
       "[4605 rows x 3 columns]"
      ]
     },
     "execution_count": 17,
     "metadata": {},
     "output_type": "execute_result"
    }
   ],
   "source": [
    "data_recommend = data_recommend.groupby(['app_name','posted'])['recommend'].sum().reset_index()\n",
    "data_recommend"
   ]
  },
  {
   "cell_type": "markdown",
   "metadata": {},
   "source": [
    "### Exportación de datos"
   ]
  },
  {
   "cell_type": "markdown",
   "metadata": {},
   "source": [
    "Exportamos el dataframe en formato Parquet, ademas de ser mas liviano es mas eficiente que el formato CSV."
   ]
  },
  {
   "cell_type": "code",
   "execution_count": 18,
   "metadata": {},
   "outputs": [],
   "source": [
    "data_recommend.to_parquet('../Data_parquet/data_recommend.parquet')"
   ]
  },
  {
   "cell_type": "markdown",
   "metadata": {},
   "source": [
    "### Función"
   ]
  },
  {
   "cell_type": "markdown",
   "metadata": {},
   "source": [
    "La función recibe dos parámetros, un DataFrame y el año que se desee ingresar. Se realiza un filtro para el año ingresado y luego se procede a ordenar de manera descendente los valores de la columna \"recommend\". De la misma se toman los tres primeros valores y el nombre de esos juegos."
   ]
  },
  {
   "cell_type": "code",
   "execution_count": 19,
   "metadata": {},
   "outputs": [],
   "source": [
    "def UsersRecommend(dataframe,anio:int):\n",
    "    datarecommend = dataframe[dataframe['posted'] == anio]\n",
    "    top3_games = datarecommend.sort_values(by= 'recommend',ascending= False).iloc[0:3]\n",
    "    names = top3_games['app_name'].tolist()\n",
    "    anio = top3_games['posted'].tolist()\n",
    "    write = f'Puesto 1:{names[0]} , Puesto 2:{names[1]} , Puesto 3:{names[2]}'\n",
    "    return write"
   ]
  },
  {
   "cell_type": "markdown",
   "metadata": {},
   "source": [
    "Revisión de ejecución de la función."
   ]
  },
  {
   "cell_type": "code",
   "execution_count": 20,
   "metadata": {},
   "outputs": [
    {
     "data": {
      "text/plain": [
       "'Puesto 1:Counter-Strike: Global Offensive , Puesto 2:Unturned , Puesto 3:Rust'"
      ]
     },
     "execution_count": 20,
     "metadata": {},
     "output_type": "execute_result"
    }
   ],
   "source": [
    "UsersRecommend(data_recommend,2015)"
   ]
  },
  {
   "cell_type": "markdown",
   "metadata": {},
   "source": [
    "### UsersWorstDeveloper"
   ]
  },
  {
   "cell_type": "markdown",
   "metadata": {},
   "source": [
    "def UsersWorstDeveloper( año : int ): Devuelve el top 3 de desarrolladoras con juegos MENOS recomendados por usuarios para el año dado. (reviews.recommend = False y comentarios negativos)"
   ]
  },
  {
   "cell_type": "markdown",
   "metadata": {},
   "source": [
    "#### Procesamiento de datos"
   ]
  },
  {
   "cell_type": "markdown",
   "metadata": {},
   "source": [
    "Se verificaron dos igualdades: si el juego era recomendado o no y si el comentario era negativo. Se agruparon los registros de esas igualdades a través de su identificador (item_id) y el año de posteo, además de resetear el índice. Luego se unió el DataFrame \"count_worst_reviews\" con el DataFrame \"data_output\". Se quitaron columnas innecesarias para la función."
   ]
  },
  {
   "cell_type": "code",
   "execution_count": 21,
   "metadata": {},
   "outputs": [
    {
     "data": {
      "text/html": [
       "<div>\n",
       "<style scoped>\n",
       "    .dataframe tbody tr th:only-of-type {\n",
       "        vertical-align: middle;\n",
       "    }\n",
       "\n",
       "    .dataframe tbody tr th {\n",
       "        vertical-align: top;\n",
       "    }\n",
       "\n",
       "    .dataframe thead th {\n",
       "        text-align: right;\n",
       "    }\n",
       "</style>\n",
       "<table border=\"1\" class=\"dataframe\">\n",
       "  <thead>\n",
       "    <tr style=\"text-align: right;\">\n",
       "      <th></th>\n",
       "      <th>item_id</th>\n",
       "      <th>posted</th>\n",
       "      <th>cbad_reviews</th>\n",
       "      <th>developer</th>\n",
       "    </tr>\n",
       "  </thead>\n",
       "  <tbody>\n",
       "    <tr>\n",
       "      <th>0</th>\n",
       "      <td>10</td>\n",
       "      <td>2015</td>\n",
       "      <td>1</td>\n",
       "      <td>Valve</td>\n",
       "    </tr>\n",
       "    <tr>\n",
       "      <th>1</th>\n",
       "      <td>20</td>\n",
       "      <td>2015</td>\n",
       "      <td>1</td>\n",
       "      <td>Valve</td>\n",
       "    </tr>\n",
       "    <tr>\n",
       "      <th>2</th>\n",
       "      <td>80</td>\n",
       "      <td>2014</td>\n",
       "      <td>1</td>\n",
       "      <td>Valve</td>\n",
       "    </tr>\n",
       "    <tr>\n",
       "      <th>3</th>\n",
       "      <td>220</td>\n",
       "      <td>2014</td>\n",
       "      <td>1</td>\n",
       "      <td>Valve</td>\n",
       "    </tr>\n",
       "    <tr>\n",
       "      <th>4</th>\n",
       "      <td>220</td>\n",
       "      <td>2015</td>\n",
       "      <td>1</td>\n",
       "      <td>Valve</td>\n",
       "    </tr>\n",
       "    <tr>\n",
       "      <th>...</th>\n",
       "      <td>...</td>\n",
       "      <td>...</td>\n",
       "      <td>...</td>\n",
       "      <td>...</td>\n",
       "    </tr>\n",
       "    <tr>\n",
       "      <th>1539</th>\n",
       "      <td>501760</td>\n",
       "      <td>2014</td>\n",
       "      <td>1</td>\n",
       "      <td>Kiddy</td>\n",
       "    </tr>\n",
       "    <tr>\n",
       "      <th>1540</th>\n",
       "      <td>501760</td>\n",
       "      <td>2014</td>\n",
       "      <td>1</td>\n",
       "      <td>Kiddy</td>\n",
       "    </tr>\n",
       "    <tr>\n",
       "      <th>1541</th>\n",
       "      <td>501760</td>\n",
       "      <td>2014</td>\n",
       "      <td>1</td>\n",
       "      <td>Kiddy</td>\n",
       "    </tr>\n",
       "    <tr>\n",
       "      <th>1542</th>\n",
       "      <td>502550</td>\n",
       "      <td>2014</td>\n",
       "      <td>1</td>\n",
       "      <td>Freakinware Limited</td>\n",
       "    </tr>\n",
       "    <tr>\n",
       "      <th>1543</th>\n",
       "      <td>502550</td>\n",
       "      <td>2014</td>\n",
       "      <td>1</td>\n",
       "      <td>Freakinware Limited</td>\n",
       "    </tr>\n",
       "  </tbody>\n",
       "</table>\n",
       "<p>1544 rows × 4 columns</p>\n",
       "</div>"
      ],
      "text/plain": [
       "      item_id  posted  cbad_reviews            developer\n",
       "0          10    2015             1                Valve\n",
       "1          20    2015             1                Valve\n",
       "2          80    2014             1                Valve\n",
       "3         220    2014             1                Valve\n",
       "4         220    2015             1                Valve\n",
       "...       ...     ...           ...                  ...\n",
       "1539   501760    2014             1                Kiddy\n",
       "1540   501760    2014             1                Kiddy\n",
       "1541   501760    2014             1                Kiddy\n",
       "1542   502550    2014             1  Freakinware Limited\n",
       "1543   502550    2014             1  Freakinware Limited\n",
       "\n",
       "[1544 rows x 4 columns]"
      ]
     },
     "execution_count": 21,
     "metadata": {},
     "output_type": "execute_result"
    }
   ],
   "source": [
    "worst_reviews = data_review[(data_review['recommend'] == False) & (data_review['sentiment_analysis'] == 0)]\n",
    "count_worst_reviews = worst_reviews.groupby(['item_id','posted']).size().reset_index(name='cbad_reviews')\n",
    "df_users = pd.merge(count_worst_reviews,data_output)\n",
    "df_users = df_users.drop(columns=['early_access','price','release_date','app_name','title','genres','publisher'])\n",
    "df_users\n"
   ]
  },
  {
   "cell_type": "markdown",
   "metadata": {},
   "source": [
    "### Exportación de datos"
   ]
  },
  {
   "cell_type": "markdown",
   "metadata": {},
   "source": [
    "Exportamos el dataframe en formato Parquet, ademas de ser mas liviano es mas eficiente que el formato CSV."
   ]
  },
  {
   "cell_type": "code",
   "execution_count": 22,
   "metadata": {},
   "outputs": [],
   "source": [
    "df_users.to_parquet('../Data_parquet/data_users.parquet')"
   ]
  },
  {
   "cell_type": "markdown",
   "metadata": {},
   "source": [
    "### Función"
   ]
  },
  {
   "cell_type": "markdown",
   "metadata": {},
   "source": [
    "La función \"UsersWorstDeveloper\" recibe dos parámetros: un DataFrame y el año que debe ser de tipo entero. Se instancia un nuevo DataFrame filtrado con solo el año que se pide. Luego, se seleccionan solo los 3 primeros desarrolladores que nos da el contador de valores, y se hace un ciclo for para devolver en qué posición y qué desarrolladores son los 3 peores."
   ]
  },
  {
   "cell_type": "code",
   "execution_count": 23,
   "metadata": {},
   "outputs": [],
   "source": [
    "def UsersWorstDeveloper(dataframe,anio:int):\n",
    "\n",
    "    dfworst = dataframe[(dataframe['posted'] == anio)]\n",
    "\n",
    "    count_worst_dev = dfworst['developer'].value_counts()\n",
    "\n",
    "    top_3_worst = count_worst_dev.head(3)\n",
    "\n",
    "    top_3 = []\n",
    "\n",
    "    for position,(developer,_) in enumerate(top_3_worst.items()):\n",
    "        top_3.append({f'Puesto {position+1}:':developer})\n",
    "\n",
    "    return top_3"
   ]
  },
  {
   "cell_type": "markdown",
   "metadata": {},
   "source": [
    "Revisión de ejecución de la función."
   ]
  },
  {
   "cell_type": "code",
   "execution_count": 24,
   "metadata": {},
   "outputs": [
    {
     "data": {
      "text/plain": [
       "[{'Puesto 1:': 'Cherry Pop Games'},\n",
       " {'Puesto 2:': 'ProjectorGames'},\n",
       " {'Puesto 3:': 'The Behemoth'}]"
      ]
     },
     "execution_count": 24,
     "metadata": {},
     "output_type": "execute_result"
    }
   ],
   "source": [
    "UsersWorstDeveloper(df_users,2015)"
   ]
  },
  {
   "cell_type": "markdown",
   "metadata": {},
   "source": [
    "### Sentiment_analysis"
   ]
  },
  {
   "cell_type": "markdown",
   "metadata": {},
   "source": [
    "def sentiment_analysis( empresa desarrolladora : str ): Según la empresa desarrolladora, se devuelve un diccionario con el nombre de la desarrolladora como llave y una lista con la cantidad total de registros de reseñas de usuarios que se encuentren categorizados con un análisis de sentimiento como valor."
   ]
  },
  {
   "cell_type": "markdown",
   "metadata": {},
   "source": [
    "#### Procesamiento de datos"
   ]
  },
  {
   "cell_type": "markdown",
   "metadata": {},
   "source": [
    "Se unieron dos DataFrames, \"data_output\" y \"data_review\", para luego dar lugar a un nuevo DataFrame llamado \"data_sentiment\". Posteriormente, se eliminaron las columnas que no estábamos utilizando o que no serían necesarias para las funciones de la API."
   ]
  },
  {
   "cell_type": "code",
   "execution_count": 25,
   "metadata": {},
   "outputs": [
    {
     "data": {
      "text/html": [
       "<div>\n",
       "<style scoped>\n",
       "    .dataframe tbody tr th:only-of-type {\n",
       "        vertical-align: middle;\n",
       "    }\n",
       "\n",
       "    .dataframe tbody tr th {\n",
       "        vertical-align: top;\n",
       "    }\n",
       "\n",
       "    .dataframe thead th {\n",
       "        text-align: right;\n",
       "    }\n",
       "</style>\n",
       "<table border=\"1\" class=\"dataframe\">\n",
       "  <thead>\n",
       "    <tr style=\"text-align: right;\">\n",
       "      <th></th>\n",
       "      <th>item_id</th>\n",
       "      <th>developer</th>\n",
       "      <th>sentiment_analysis</th>\n",
       "    </tr>\n",
       "  </thead>\n",
       "  <tbody>\n",
       "    <tr>\n",
       "      <th>0</th>\n",
       "      <td>282010</td>\n",
       "      <td>Stainless Games Ltd</td>\n",
       "      <td>1</td>\n",
       "    </tr>\n",
       "    <tr>\n",
       "      <th>1</th>\n",
       "      <td>282010</td>\n",
       "      <td>Stainless Games Ltd</td>\n",
       "      <td>1</td>\n",
       "    </tr>\n",
       "    <tr>\n",
       "      <th>2</th>\n",
       "      <td>282010</td>\n",
       "      <td>Stainless Games Ltd</td>\n",
       "      <td>1</td>\n",
       "    </tr>\n",
       "    <tr>\n",
       "      <th>3</th>\n",
       "      <td>70</td>\n",
       "      <td>Valve</td>\n",
       "      <td>1</td>\n",
       "    </tr>\n",
       "    <tr>\n",
       "      <th>4</th>\n",
       "      <td>70</td>\n",
       "      <td>Valve</td>\n",
       "      <td>1</td>\n",
       "    </tr>\n",
       "    <tr>\n",
       "      <th>...</th>\n",
       "      <td>...</td>\n",
       "      <td>...</td>\n",
       "      <td>...</td>\n",
       "    </tr>\n",
       "    <tr>\n",
       "      <th>110785</th>\n",
       "      <td>80</td>\n",
       "      <td>Valve</td>\n",
       "      <td>1</td>\n",
       "    </tr>\n",
       "    <tr>\n",
       "      <th>110786</th>\n",
       "      <td>80</td>\n",
       "      <td>Valve</td>\n",
       "      <td>2</td>\n",
       "    </tr>\n",
       "    <tr>\n",
       "      <th>110787</th>\n",
       "      <td>80</td>\n",
       "      <td>Valve</td>\n",
       "      <td>2</td>\n",
       "    </tr>\n",
       "    <tr>\n",
       "      <th>110788</th>\n",
       "      <td>80</td>\n",
       "      <td>Valve</td>\n",
       "      <td>2</td>\n",
       "    </tr>\n",
       "    <tr>\n",
       "      <th>110789</th>\n",
       "      <td>80</td>\n",
       "      <td>Valve</td>\n",
       "      <td>0</td>\n",
       "    </tr>\n",
       "  </tbody>\n",
       "</table>\n",
       "<p>110790 rows × 3 columns</p>\n",
       "</div>"
      ],
      "text/plain": [
       "        item_id            developer  sentiment_analysis\n",
       "0        282010  Stainless Games Ltd                   1\n",
       "1        282010  Stainless Games Ltd                   1\n",
       "2        282010  Stainless Games Ltd                   1\n",
       "3            70                Valve                   1\n",
       "4            70                Valve                   1\n",
       "...         ...                  ...                 ...\n",
       "110785       80                Valve                   1\n",
       "110786       80                Valve                   2\n",
       "110787       80                Valve                   2\n",
       "110788       80                Valve                   2\n",
       "110789       80                Valve                   0\n",
       "\n",
       "[110790 rows x 3 columns]"
      ]
     },
     "execution_count": 25,
     "metadata": {},
     "output_type": "execute_result"
    }
   ],
   "source": [
    "data_sentiment = pd.merge(data_output,data_review, on='item_id')\n",
    "data_sentiment = data_sentiment.drop(columns=['recommend','publisher','genres','app_name','title','release_date','price','early_access','user_id','user_url','posted'])\n",
    "data_sentiment"
   ]
  },
  {
   "cell_type": "markdown",
   "metadata": {},
   "source": [
    "Se agrupó por desarrolladora de juegos y por análisis de sentimiento. Con la función \"size\", se sumaron los elementos de cada valor posible (0, 1 y 2) para las columnas de análisis de sentimiento. Para una mejor visualización, se utilizó la función \"unstack\", ya que \"size\" convierte los datos a un formato menos agradable visualmente. Por último, y para asegurar que ninguna desarrolladora tenga valor cero en las tres columnas, se utilizó un filtro para ello."
   ]
  },
  {
   "cell_type": "code",
   "execution_count": 26,
   "metadata": {},
   "outputs": [
    {
     "data": {
      "text/html": [
       "<div>\n",
       "<style scoped>\n",
       "    .dataframe tbody tr th:only-of-type {\n",
       "        vertical-align: middle;\n",
       "    }\n",
       "\n",
       "    .dataframe tbody tr th {\n",
       "        vertical-align: top;\n",
       "    }\n",
       "\n",
       "    .dataframe thead th {\n",
       "        text-align: right;\n",
       "    }\n",
       "</style>\n",
       "<table border=\"1\" class=\"dataframe\">\n",
       "  <thead>\n",
       "    <tr style=\"text-align: right;\">\n",
       "      <th>sentiment_analysis</th>\n",
       "      <th>0</th>\n",
       "      <th>1</th>\n",
       "      <th>2</th>\n",
       "    </tr>\n",
       "    <tr>\n",
       "      <th>developer</th>\n",
       "      <th></th>\n",
       "      <th></th>\n",
       "      <th></th>\n",
       "    </tr>\n",
       "  </thead>\n",
       "  <tbody>\n",
       "    <tr>\n",
       "      <th>07th Expansion</th>\n",
       "      <td>0</td>\n",
       "      <td>3</td>\n",
       "      <td>0</td>\n",
       "    </tr>\n",
       "    <tr>\n",
       "      <th>10th Art Studio,Adventure Productions</th>\n",
       "      <td>0</td>\n",
       "      <td>4</td>\n",
       "      <td>0</td>\n",
       "    </tr>\n",
       "    <tr>\n",
       "      <th>10tons Ltd</th>\n",
       "      <td>0</td>\n",
       "      <td>3</td>\n",
       "      <td>0</td>\n",
       "    </tr>\n",
       "    <tr>\n",
       "      <th>11 bit studios</th>\n",
       "      <td>24</td>\n",
       "      <td>150</td>\n",
       "      <td>15</td>\n",
       "    </tr>\n",
       "    <tr>\n",
       "      <th>14° East</th>\n",
       "      <td>1</td>\n",
       "      <td>1</td>\n",
       "      <td>0</td>\n",
       "    </tr>\n",
       "    <tr>\n",
       "      <th>...</th>\n",
       "      <td>...</td>\n",
       "      <td>...</td>\n",
       "      <td>...</td>\n",
       "    </tr>\n",
       "    <tr>\n",
       "      <th>xXarabongXx</th>\n",
       "      <td>0</td>\n",
       "      <td>6</td>\n",
       "      <td>0</td>\n",
       "    </tr>\n",
       "    <tr>\n",
       "      <th>△○□× (Miwashiba)</th>\n",
       "      <td>0</td>\n",
       "      <td>6</td>\n",
       "      <td>4</td>\n",
       "    </tr>\n",
       "    <tr>\n",
       "      <th>インレ,Inre</th>\n",
       "      <td>0</td>\n",
       "      <td>4</td>\n",
       "      <td>1</td>\n",
       "    </tr>\n",
       "    <tr>\n",
       "      <th>橘子班</th>\n",
       "      <td>3</td>\n",
       "      <td>9</td>\n",
       "      <td>0</td>\n",
       "    </tr>\n",
       "    <tr>\n",
       "      <th>高考恋爱委员会,橘子班</th>\n",
       "      <td>0</td>\n",
       "      <td>8</td>\n",
       "      <td>0</td>\n",
       "    </tr>\n",
       "  </tbody>\n",
       "</table>\n",
       "<p>2103 rows × 3 columns</p>\n",
       "</div>"
      ],
      "text/plain": [
       "sentiment_analysis                      0    1   2\n",
       "developer                                         \n",
       "07th Expansion                          0    3   0\n",
       "10th Art Studio,Adventure Productions   0    4   0\n",
       "10tons Ltd                              0    3   0\n",
       "11 bit studios                         24  150  15\n",
       "14° East                                1    1   0\n",
       "...                                    ..  ...  ..\n",
       "xXarabongXx                             0    6   0\n",
       "△○□× (Miwashiba)                        0    6   4\n",
       "インレ,Inre                                0    4   1\n",
       "橘子班                                     3    9   0\n",
       "高考恋爱委员会,橘子班                             0    8   0\n",
       "\n",
       "[2103 rows x 3 columns]"
      ]
     },
     "execution_count": 26,
     "metadata": {},
     "output_type": "execute_result"
    }
   ],
   "source": [
    "data_sentiment = data_sentiment.groupby(['developer','sentiment_analysis']).size().unstack(fill_value=0)\n",
    "drop = data_sentiment.loc[(data_sentiment == 0).all(axis=1)] \n",
    "data_sentiment = data_sentiment.drop(index=drop.index)\n",
    "data_sentiment"
   ]
  },
  {
   "cell_type": "code",
   "execution_count": 27,
   "metadata": {},
   "outputs": [],
   "source": [
    "data_sentiment.to_parquet('../Data_parquet/data_sentiment.parquet')"
   ]
  },
  {
   "cell_type": "markdown",
   "metadata": {},
   "source": [
    "### Exportación de datos"
   ]
  },
  {
   "cell_type": "markdown",
   "metadata": {},
   "source": [
    "Exportamos el dataframe en formato Parquet, ademas de ser mas liviano es mas eficiente que el formato CSV."
   ]
  },
  {
   "cell_type": "markdown",
   "metadata": {},
   "source": [
    "### Función"
   ]
  },
  {
   "cell_type": "markdown",
   "metadata": {},
   "source": [
    "La función creada recibe dos parámetros: un DataFrame y el nombre de la desarrolladora de juegos, que debe ser de tipo string. Se realiza una búsqueda con la función \"loc\" a través del índice, que sería el nombre de la desarrolladora, y por el nombre de las columnas. Luego, se convierte a una lista y se imprime dentro de un diccionario."
   ]
  },
  {
   "cell_type": "code",
   "execution_count": 28,
   "metadata": {},
   "outputs": [],
   "source": [
    "def sentiment_analysis( dataframe,desarrolladora:str ):\n",
    "    developer2= dataframe.loc[desarrolladora,[0,1,2]].to_list()\n",
    "    write = {desarrolladora:developer2}\n",
    "    return write"
   ]
  },
  {
   "cell_type": "markdown",
   "metadata": {},
   "source": [
    "Revisión de ejecución de la función."
   ]
  },
  {
   "cell_type": "code",
   "execution_count": 29,
   "metadata": {},
   "outputs": [
    {
     "data": {
      "text/plain": [
       "{'07th Expansion': [0, 3, 0]}"
      ]
     },
     "execution_count": 29,
     "metadata": {},
     "output_type": "execute_result"
    }
   ],
   "source": [
    "sentiment_analysis(data_sentiment,'07th Expansion')"
   ]
  }
 ],
 "metadata": {
  "kernelspec": {
   "display_name": "Python 3",
   "language": "python",
   "name": "python3"
  },
  "language_info": {
   "codemirror_mode": {
    "name": "ipython",
    "version": 3
   },
   "file_extension": ".py",
   "mimetype": "text/x-python",
   "name": "python",
   "nbconvert_exporter": "python",
   "pygments_lexer": "ipython3",
   "version": "3.11.4"
  }
 },
 "nbformat": 4,
 "nbformat_minor": 2
}
