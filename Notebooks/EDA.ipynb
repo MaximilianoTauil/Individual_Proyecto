{
 "cells": [
  {
   "cell_type": "markdown",
   "metadata": {},
   "source": [
    "# Analisis Exploratorio de Datos (EDA)"
   ]
  },
  {
   "cell_type": "code",
   "execution_count": 1,
   "metadata": {},
   "outputs": [],
   "source": [
    "import matplotlib.pyplot as plt\n",
    "import seaborn as sns\n",
    "import langid\n",
    "import pandas as pd\n",
    "import sys\n",
    "sys.path.insert(0, '../')\n",
    "import Herramientas as Herr"
   ]
  },
  {
   "cell_type": "markdown",
   "metadata": {},
   "source": [
    "### EDA de **australian_reviews**"
   ]
  },
  {
   "cell_type": "markdown",
   "metadata": {},
   "source": [
    "#### Carga de datos"
   ]
  },
  {
   "cell_type": "code",
   "execution_count": 2,
   "metadata": {},
   "outputs": [
    {
     "data": {
      "text/html": [
       "<div>\n",
       "<style scoped>\n",
       "    .dataframe tbody tr th:only-of-type {\n",
       "        vertical-align: middle;\n",
       "    }\n",
       "\n",
       "    .dataframe tbody tr th {\n",
       "        vertical-align: top;\n",
       "    }\n",
       "\n",
       "    .dataframe thead th {\n",
       "        text-align: right;\n",
       "    }\n",
       "</style>\n",
       "<table border=\"1\" class=\"dataframe\">\n",
       "  <thead>\n",
       "    <tr style=\"text-align: right;\">\n",
       "      <th></th>\n",
       "      <th>user_id</th>\n",
       "      <th>user_url</th>\n",
       "      <th>posted</th>\n",
       "      <th>item_id</th>\n",
       "      <th>recommend</th>\n",
       "      <th>review</th>\n",
       "    </tr>\n",
       "  </thead>\n",
       "  <tbody>\n",
       "    <tr>\n",
       "      <th>0</th>\n",
       "      <td>76561197970982479</td>\n",
       "      <td>http://steamcommunity.com/profiles/76561197970...</td>\n",
       "      <td>2011</td>\n",
       "      <td>1250</td>\n",
       "      <td>True</td>\n",
       "      <td>Simple yet with great replayability. In my opi...</td>\n",
       "    </tr>\n",
       "    <tr>\n",
       "      <th>1</th>\n",
       "      <td>js41637</td>\n",
       "      <td>http://steamcommunity.com/id/js41637</td>\n",
       "      <td>2014</td>\n",
       "      <td>251610</td>\n",
       "      <td>True</td>\n",
       "      <td>I know what you think when you see this title ...</td>\n",
       "    </tr>\n",
       "    <tr>\n",
       "      <th>2</th>\n",
       "      <td>evcentric</td>\n",
       "      <td>http://steamcommunity.com/id/evcentric</td>\n",
       "      <td>2014</td>\n",
       "      <td>248820</td>\n",
       "      <td>True</td>\n",
       "      <td>A suitably punishing roguelike platformer.  Wi...</td>\n",
       "    </tr>\n",
       "    <tr>\n",
       "      <th>3</th>\n",
       "      <td>doctr</td>\n",
       "      <td>http://steamcommunity.com/id/doctr</td>\n",
       "      <td>2013</td>\n",
       "      <td>250320</td>\n",
       "      <td>True</td>\n",
       "      <td>This game... is so fun. The fight sequences ha...</td>\n",
       "    </tr>\n",
       "    <tr>\n",
       "      <th>4</th>\n",
       "      <td>maplemage</td>\n",
       "      <td>http://steamcommunity.com/id/maplemage</td>\n",
       "      <td>2014</td>\n",
       "      <td>211420</td>\n",
       "      <td>True</td>\n",
       "      <td>Git gud</td>\n",
       "    </tr>\n",
       "    <tr>\n",
       "      <th>...</th>\n",
       "      <td>...</td>\n",
       "      <td>...</td>\n",
       "      <td>...</td>\n",
       "      <td>...</td>\n",
       "      <td>...</td>\n",
       "      <td>...</td>\n",
       "    </tr>\n",
       "    <tr>\n",
       "      <th>59001</th>\n",
       "      <td>SKELETRONPRIMEISOP</td>\n",
       "      <td>http://steamcommunity.com/id/SKELETRONPRIMEISOP</td>\n",
       "      <td>2014</td>\n",
       "      <td>440</td>\n",
       "      <td>True</td>\n",
       "      <td>TF2 is alot of fun and its really good but the...</td>\n",
       "    </tr>\n",
       "    <tr>\n",
       "      <th>59002</th>\n",
       "      <td>76561198141079508</td>\n",
       "      <td>http://steamcommunity.com/profiles/76561198141...</td>\n",
       "      <td>2014</td>\n",
       "      <td>304930</td>\n",
       "      <td>True</td>\n",
       "      <td>Fun game with friends</td>\n",
       "    </tr>\n",
       "    <tr>\n",
       "      <th>59003</th>\n",
       "      <td>ShadowYT100</td>\n",
       "      <td>http://steamcommunity.com/id/ShadowYT100</td>\n",
       "      <td>2015</td>\n",
       "      <td>265630</td>\n",
       "      <td>True</td>\n",
       "      <td>So Fun!! :D</td>\n",
       "    </tr>\n",
       "    <tr>\n",
       "      <th>59004</th>\n",
       "      <td>bestcustomurlevermade</td>\n",
       "      <td>http://steamcommunity.com/id/bestcustomurlever...</td>\n",
       "      <td>2015</td>\n",
       "      <td>304050</td>\n",
       "      <td>True</td>\n",
       "      <td>This game is great. The only thing is,Why cant...</td>\n",
       "    </tr>\n",
       "    <tr>\n",
       "      <th>59005</th>\n",
       "      <td>76561198209894493</td>\n",
       "      <td>http://steamcommunity.com/profiles/76561198209...</td>\n",
       "      <td>2014</td>\n",
       "      <td>570</td>\n",
       "      <td>False</td>\n",
       "      <td>DOTA 2.normal skill - 2ez for me&gt;high skill - ...</td>\n",
       "    </tr>\n",
       "  </tbody>\n",
       "</table>\n",
       "<p>59006 rows × 6 columns</p>\n",
       "</div>"
      ],
      "text/plain": [
       "                     user_id  \\\n",
       "0          76561197970982479   \n",
       "1                    js41637   \n",
       "2                  evcentric   \n",
       "3                      doctr   \n",
       "4                  maplemage   \n",
       "...                      ...   \n",
       "59001     SKELETRONPRIMEISOP   \n",
       "59002      76561198141079508   \n",
       "59003            ShadowYT100   \n",
       "59004  bestcustomurlevermade   \n",
       "59005      76561198209894493   \n",
       "\n",
       "                                                user_url  posted  item_id  \\\n",
       "0      http://steamcommunity.com/profiles/76561197970...    2011     1250   \n",
       "1                   http://steamcommunity.com/id/js41637    2014   251610   \n",
       "2                 http://steamcommunity.com/id/evcentric    2014   248820   \n",
       "3                     http://steamcommunity.com/id/doctr    2013   250320   \n",
       "4                 http://steamcommunity.com/id/maplemage    2014   211420   \n",
       "...                                                  ...     ...      ...   \n",
       "59001    http://steamcommunity.com/id/SKELETRONPRIMEISOP    2014      440   \n",
       "59002  http://steamcommunity.com/profiles/76561198141...    2014   304930   \n",
       "59003           http://steamcommunity.com/id/ShadowYT100    2015   265630   \n",
       "59004  http://steamcommunity.com/id/bestcustomurlever...    2015   304050   \n",
       "59005  http://steamcommunity.com/profiles/76561198209...    2014      570   \n",
       "\n",
       "       recommend                                             review  \n",
       "0           True  Simple yet with great replayability. In my opi...  \n",
       "1           True  I know what you think when you see this title ...  \n",
       "2           True  A suitably punishing roguelike platformer.  Wi...  \n",
       "3           True  This game... is so fun. The fight sequences ha...  \n",
       "4           True                                            Git gud  \n",
       "...          ...                                                ...  \n",
       "59001       True  TF2 is alot of fun and its really good but the...  \n",
       "59002       True                              Fun game with friends  \n",
       "59003       True                                        So Fun!! :D  \n",
       "59004       True  This game is great. The only thing is,Why cant...  \n",
       "59005      False  DOTA 2.normal skill - 2ez for me>high skill - ...  \n",
       "\n",
       "[59006 rows x 6 columns]"
      ]
     },
     "execution_count": 2,
     "metadata": {},
     "output_type": "execute_result"
    }
   ],
   "source": [
    "data_reviews = pd.read_csv('../datasets/australian_reviews.csv',encoding='utf-8')\n",
    "data_reviews"
   ]
  },
  {
   "cell_type": "code",
   "execution_count": 3,
   "metadata": {},
   "outputs": [
    {
     "data": {
      "text/html": [
       "<div>\n",
       "<style scoped>\n",
       "    .dataframe tbody tr th:only-of-type {\n",
       "        vertical-align: middle;\n",
       "    }\n",
       "\n",
       "    .dataframe tbody tr th {\n",
       "        vertical-align: top;\n",
       "    }\n",
       "\n",
       "    .dataframe thead th {\n",
       "        text-align: right;\n",
       "    }\n",
       "</style>\n",
       "<table border=\"1\" class=\"dataframe\">\n",
       "  <thead>\n",
       "    <tr style=\"text-align: right;\">\n",
       "      <th></th>\n",
       "      <th>Nombre</th>\n",
       "      <th>Tipos de Datos Únicos</th>\n",
       "      <th>% de Valores No Nulos</th>\n",
       "      <th>% de Valores Nulos</th>\n",
       "      <th>Cantidad de Valores Nulos</th>\n",
       "    </tr>\n",
       "  </thead>\n",
       "  <tbody>\n",
       "    <tr>\n",
       "      <th>0</th>\n",
       "      <td>user_id</td>\n",
       "      <td>[&lt;class 'str'&gt;]</td>\n",
       "      <td>100.0</td>\n",
       "      <td>0.0</td>\n",
       "      <td>0</td>\n",
       "    </tr>\n",
       "    <tr>\n",
       "      <th>1</th>\n",
       "      <td>user_url</td>\n",
       "      <td>[&lt;class 'str'&gt;]</td>\n",
       "      <td>100.0</td>\n",
       "      <td>0.0</td>\n",
       "      <td>0</td>\n",
       "    </tr>\n",
       "    <tr>\n",
       "      <th>2</th>\n",
       "      <td>posted</td>\n",
       "      <td>[&lt;class 'int'&gt;]</td>\n",
       "      <td>100.0</td>\n",
       "      <td>0.0</td>\n",
       "      <td>0</td>\n",
       "    </tr>\n",
       "    <tr>\n",
       "      <th>3</th>\n",
       "      <td>item_id</td>\n",
       "      <td>[&lt;class 'int'&gt;]</td>\n",
       "      <td>100.0</td>\n",
       "      <td>0.0</td>\n",
       "      <td>0</td>\n",
       "    </tr>\n",
       "    <tr>\n",
       "      <th>4</th>\n",
       "      <td>recommend</td>\n",
       "      <td>[&lt;class 'bool'&gt;]</td>\n",
       "      <td>100.0</td>\n",
       "      <td>0.0</td>\n",
       "      <td>0</td>\n",
       "    </tr>\n",
       "    <tr>\n",
       "      <th>5</th>\n",
       "      <td>review</td>\n",
       "      <td>[&lt;class 'str'&gt;]</td>\n",
       "      <td>100.0</td>\n",
       "      <td>0.0</td>\n",
       "      <td>0</td>\n",
       "    </tr>\n",
       "  </tbody>\n",
       "</table>\n",
       "</div>"
      ],
      "text/plain": [
       "      Nombre Tipos de Datos Únicos  % de Valores No Nulos  % de Valores Nulos  \\\n",
       "0    user_id       [<class 'str'>]                  100.0                 0.0   \n",
       "1   user_url       [<class 'str'>]                  100.0                 0.0   \n",
       "2     posted       [<class 'int'>]                  100.0                 0.0   \n",
       "3    item_id       [<class 'int'>]                  100.0                 0.0   \n",
       "4  recommend      [<class 'bool'>]                  100.0                 0.0   \n",
       "5     review       [<class 'str'>]                  100.0                 0.0   \n",
       "\n",
       "   Cantidad de Valores Nulos  \n",
       "0                          0  \n",
       "1                          0  \n",
       "2                          0  \n",
       "3                          0  \n",
       "4                          0  \n",
       "5                          0  "
      ]
     },
     "execution_count": 3,
     "metadata": {},
     "output_type": "execute_result"
    }
   ],
   "source": [
    "Herr.analizar_datos(data_reviews)"
   ]
  },
  {
   "cell_type": "code",
   "execution_count": 4,
   "metadata": {},
   "outputs": [
    {
     "data": {
      "text/plain": [
       "<Axes: xlabel='posted', ylabel='count'>"
      ]
     },
     "execution_count": 4,
     "metadata": {},
     "output_type": "execute_result"
    },
    {
     "data": {
      "image/png": "[encoded data removed]",
      "text/plain": [
       "<Figure size 640x480 with 1 Axes>"
      ]
     },
     "metadata": {},
     "output_type": "display_data"
    }
   ],
   "source": [
    "sns.countplot(data_reviews,x='posted',hue='posted')"
   ]
  },
  {
   "cell_type": "markdown",
   "metadata": {},
   "source": [
    "Vamos a analizar la cantidad de los comentarios segun el idioma y si se pueden tomar medidas"
   ]
  },
  {
   "cell_type": "code",
   "execution_count": 5,
   "metadata": {},
   "outputs": [],
   "source": [
    "contador_idiomas = {}\n",
    "\n",
    "for resenia in data_reviews['review']:\n",
    "    idioma,_ = langid.classify(resenia)\n",
    "    contador_idiomas[idioma] = contador_idiomas.get(idioma,0) + 1"
   ]
  },
  {
   "cell_type": "markdown",
   "metadata": {},
   "source": [
    "Tenemos una predominancia de los comentarios en ingles, pero al haber muchos otros cometnarios en diferentes idiomas, no borraremos ya que se considera que si es relevante las cantidades que representa"
   ]
  },
  {
   "cell_type": "code",
   "execution_count": 6,
   "metadata": {},
   "outputs": [
    {
     "data": {
      "text/plain": [
       "{'en': 50264,\n",
       " 'de': 339,\n",
       " 'fr': 302,\n",
       " 'es': 1208,\n",
       " 'da': 204,\n",
       " 'th': 709,\n",
       " 'pt': 1793,\n",
       " 'ru': 204,\n",
       " 'lt': 77,\n",
       " 'hi': 190,\n",
       " 'zh': 321,\n",
       " 'ko': 186,\n",
       " 'no': 555,\n",
       " 'wa': 85,\n",
       " 'br': 29,\n",
       " 'ne': 207,\n",
       " 'km': 58,\n",
       " 'af': 30,\n",
       " 'sv': 152,\n",
       " 'eu': 89,\n",
       " 'nl': 366,\n",
       " 'it': 327,\n",
       " 'mk': 3,\n",
       " 'sk': 51,\n",
       " 'mr': 33,\n",
       " 'an': 20,\n",
       " 'nb': 17,\n",
       " 'nn': 61,\n",
       " 'la': 78,\n",
       " 'pl': 195,\n",
       " 'is': 12,\n",
       " 'cs': 29,\n",
       " 'cy': 45,\n",
       " 'az': 10,\n",
       " 'et': 74,\n",
       " 'ka': 16,\n",
       " 'ca': 19,\n",
       " 'ja': 32,\n",
       " 'ms': 20,\n",
       " 'se': 2,\n",
       " 'tl': 19,\n",
       " 'id': 68,\n",
       " 'mt': 60,\n",
       " 'be': 3,\n",
       " 'fi': 66,\n",
       " 'xh': 9,\n",
       " 'ro': 33,\n",
       " 'sl': 49,\n",
       " 'ur': 5,\n",
       " 'tr': 32,\n",
       " 'gl': 24,\n",
       " 'eo': 22,\n",
       " 'vi': 5,\n",
       " 'rw': 6,\n",
       " 'hy': 34,\n",
       " 'hu': 22,\n",
       " 'sr': 7,\n",
       " 'sq': 6,\n",
       " 'zu': 1,\n",
       " 'am': 11,\n",
       " 'bg': 9,\n",
       " 'or': 1,\n",
       " 'oc': 2,\n",
       " 'ug': 5,\n",
       " 'sw': 8,\n",
       " 'mn': 5,\n",
       " 'lv': 10,\n",
       " 'uk': 3,\n",
       " 'he': 3,\n",
       " 'lo': 4,\n",
       " 'hr': 8,\n",
       " 'lb': 4,\n",
       " 'kk': 9,\n",
       " 'bs': 5,\n",
       " 'bn': 3,\n",
       " 'vo': 3,\n",
       " 'qu': 4,\n",
       " 'mg': 12,\n",
       " 'ml': 1,\n",
       " 'ga': 1,\n",
       " 'ht': 4,\n",
       " 'fo': 2,\n",
       " 'fa': 1,\n",
       " 'ar': 2,\n",
       " 'ku': 1,\n",
       " 'ky': 1,\n",
       " 'jv': 1}"
      ]
     },
     "execution_count": 6,
     "metadata": {},
     "output_type": "execute_result"
    }
   ],
   "source": [
    "contador_idiomas"
   ]
  },
  {
   "cell_type": "markdown",
   "metadata": {},
   "source": [
    "Ahora haremos el analisis de sentimiento"
   ]
  },
  {
   "cell_type": "code",
   "execution_count": 4,
   "metadata": {},
   "outputs": [],
   "source": [
    "data_reviews['sentiment_analysis'] = data_reviews['review'].apply(Herr.analisis_sentimiento)"
   ]
  },
  {
   "cell_type": "markdown",
   "metadata": {},
   "source": [
    "Se hizo el analisis de sentimiento y ahora eliminamos la columna reviews dado qu ya tenemos los datos necesarios"
   ]
  },
  {
   "cell_type": "code",
   "execution_count": 5,
   "metadata": {},
   "outputs": [],
   "source": [
    "data_reviews = data_reviews.drop('review',axis=1)\n"
   ]
  },
  {
   "cell_type": "code",
   "execution_count": 6,
   "metadata": {},
   "outputs": [
    {
     "data": {
      "text/html": [
       "<div>\n",
       "<style scoped>\n",
       "    .dataframe tbody tr th:only-of-type {\n",
       "        vertical-align: middle;\n",
       "    }\n",
       "\n",
       "    .dataframe tbody tr th {\n",
       "        vertical-align: top;\n",
       "    }\n",
       "\n",
       "    .dataframe thead th {\n",
       "        text-align: right;\n",
       "    }\n",
       "</style>\n",
       "<table border=\"1\" class=\"dataframe\">\n",
       "  <thead>\n",
       "    <tr style=\"text-align: right;\">\n",
       "      <th></th>\n",
       "      <th>user_id</th>\n",
       "      <th>user_url</th>\n",
       "      <th>posted</th>\n",
       "      <th>item_id</th>\n",
       "      <th>recommend</th>\n",
       "      <th>sentiment_analysis</th>\n",
       "    </tr>\n",
       "  </thead>\n",
       "  <tbody>\n",
       "    <tr>\n",
       "      <th>0</th>\n",
       "      <td>76561197970982479</td>\n",
       "      <td>http://steamcommunity.com/profiles/76561197970...</td>\n",
       "      <td>2011</td>\n",
       "      <td>1250</td>\n",
       "      <td>True</td>\n",
       "      <td>1</td>\n",
       "    </tr>\n",
       "    <tr>\n",
       "      <th>1</th>\n",
       "      <td>js41637</td>\n",
       "      <td>http://steamcommunity.com/id/js41637</td>\n",
       "      <td>2014</td>\n",
       "      <td>251610</td>\n",
       "      <td>True</td>\n",
       "      <td>1</td>\n",
       "    </tr>\n",
       "    <tr>\n",
       "      <th>2</th>\n",
       "      <td>evcentric</td>\n",
       "      <td>http://steamcommunity.com/id/evcentric</td>\n",
       "      <td>2014</td>\n",
       "      <td>248820</td>\n",
       "      <td>True</td>\n",
       "      <td>1</td>\n",
       "    </tr>\n",
       "    <tr>\n",
       "      <th>3</th>\n",
       "      <td>doctr</td>\n",
       "      <td>http://steamcommunity.com/id/doctr</td>\n",
       "      <td>2013</td>\n",
       "      <td>250320</td>\n",
       "      <td>True</td>\n",
       "      <td>2</td>\n",
       "    </tr>\n",
       "    <tr>\n",
       "      <th>4</th>\n",
       "      <td>maplemage</td>\n",
       "      <td>http://steamcommunity.com/id/maplemage</td>\n",
       "      <td>2014</td>\n",
       "      <td>211420</td>\n",
       "      <td>True</td>\n",
       "      <td>1</td>\n",
       "    </tr>\n",
       "    <tr>\n",
       "      <th>...</th>\n",
       "      <td>...</td>\n",
       "      <td>...</td>\n",
       "      <td>...</td>\n",
       "      <td>...</td>\n",
       "      <td>...</td>\n",
       "      <td>...</td>\n",
       "    </tr>\n",
       "    <tr>\n",
       "      <th>59001</th>\n",
       "      <td>SKELETRONPRIMEISOP</td>\n",
       "      <td>http://steamcommunity.com/id/SKELETRONPRIMEISOP</td>\n",
       "      <td>2014</td>\n",
       "      <td>440</td>\n",
       "      <td>True</td>\n",
       "      <td>1</td>\n",
       "    </tr>\n",
       "    <tr>\n",
       "      <th>59002</th>\n",
       "      <td>76561198141079508</td>\n",
       "      <td>http://steamcommunity.com/profiles/76561198141...</td>\n",
       "      <td>2014</td>\n",
       "      <td>304930</td>\n",
       "      <td>True</td>\n",
       "      <td>1</td>\n",
       "    </tr>\n",
       "    <tr>\n",
       "      <th>59003</th>\n",
       "      <td>ShadowYT100</td>\n",
       "      <td>http://steamcommunity.com/id/ShadowYT100</td>\n",
       "      <td>2015</td>\n",
       "      <td>265630</td>\n",
       "      <td>True</td>\n",
       "      <td>2</td>\n",
       "    </tr>\n",
       "    <tr>\n",
       "      <th>59004</th>\n",
       "      <td>bestcustomurlevermade</td>\n",
       "      <td>http://steamcommunity.com/id/bestcustomurlever...</td>\n",
       "      <td>2015</td>\n",
       "      <td>304050</td>\n",
       "      <td>True</td>\n",
       "      <td>1</td>\n",
       "    </tr>\n",
       "    <tr>\n",
       "      <th>59005</th>\n",
       "      <td>76561198209894493</td>\n",
       "      <td>http://steamcommunity.com/profiles/76561198209...</td>\n",
       "      <td>2014</td>\n",
       "      <td>570</td>\n",
       "      <td>False</td>\n",
       "      <td>1</td>\n",
       "    </tr>\n",
       "  </tbody>\n",
       "</table>\n",
       "<p>59006 rows × 6 columns</p>\n",
       "</div>"
      ],
      "text/plain": [
       "                     user_id  \\\n",
       "0          76561197970982479   \n",
       "1                    js41637   \n",
       "2                  evcentric   \n",
       "3                      doctr   \n",
       "4                  maplemage   \n",
       "...                      ...   \n",
       "59001     SKELETRONPRIMEISOP   \n",
       "59002      76561198141079508   \n",
       "59003            ShadowYT100   \n",
       "59004  bestcustomurlevermade   \n",
       "59005      76561198209894493   \n",
       "\n",
       "                                                user_url  posted  item_id  \\\n",
       "0      http://steamcommunity.com/profiles/76561197970...    2011     1250   \n",
       "1                   http://steamcommunity.com/id/js41637    2014   251610   \n",
       "2                 http://steamcommunity.com/id/evcentric    2014   248820   \n",
       "3                     http://steamcommunity.com/id/doctr    2013   250320   \n",
       "4                 http://steamcommunity.com/id/maplemage    2014   211420   \n",
       "...                                                  ...     ...      ...   \n",
       "59001    http://steamcommunity.com/id/SKELETRONPRIMEISOP    2014      440   \n",
       "59002  http://steamcommunity.com/profiles/76561198141...    2014   304930   \n",
       "59003           http://steamcommunity.com/id/ShadowYT100    2015   265630   \n",
       "59004  http://steamcommunity.com/id/bestcustomurlever...    2015   304050   \n",
       "59005  http://steamcommunity.com/profiles/76561198209...    2014      570   \n",
       "\n",
       "       recommend  sentiment_analysis  \n",
       "0           True                   1  \n",
       "1           True                   1  \n",
       "2           True                   1  \n",
       "3           True                   2  \n",
       "4           True                   1  \n",
       "...          ...                 ...  \n",
       "59001       True                   1  \n",
       "59002       True                   1  \n",
       "59003       True                   2  \n",
       "59004       True                   1  \n",
       "59005      False                   1  \n",
       "\n",
       "[59006 rows x 6 columns]"
      ]
     },
     "execution_count": 6,
     "metadata": {},
     "output_type": "execute_result"
    }
   ],
   "source": [
    "data_reviews"
   ]
  },
  {
   "cell_type": "code",
   "execution_count": 8,
   "metadata": {},
   "outputs": [
    {
     "data": {
      "text/plain": [
       "<Axes: xlabel='sentiment_analysis', ylabel='count'>"
      ]
     },
     "execution_count": 8,
     "metadata": {},
     "output_type": "execute_result"
    },
    {
     "data": {
      "image/png": "[encoded data removed]",
      "text/plain": [
       "<Figure size 600x400 with 1 Axes>"
      ]
     },
     "metadata": {},
     "output_type": "display_data"
    }
   ],
   "source": [
    "plt.figure(figsize=(6,4))\n",
    "sns.countplot(data_reviews,x='sentiment_analysis',hue='sentiment_analysis')"
   ]
  },
  {
   "cell_type": "code",
   "execution_count": 7,
   "metadata": {},
   "outputs": [
    {
     "name": "stdout",
     "output_type": "stream",
     "text": [
      "Los valores de sentiment analysis\n",
      "1    39911\n",
      "2    14661\n",
      "0     4434\n",
      "El porcentaje de cada valor\n",
      "1    67.64\n",
      "2    24.85\n",
      "0     7.51\n"
     ]
    }
   ],
   "source": [
    "cantidad_registros = data_reviews.shape[0]\n",
    "cantidad_sentimientos = data_reviews['sentiment_analysis'].value_counts()\n",
    "porcentaje_sentimiento = round((cantidad_sentimientos/cantidad_registros)*100,2)\n",
    "print(f'Los valores de sentiment analysis\\n{cantidad_sentimientos.to_string(header=(False))}\\nEl porcentaje de cada valor\\n{porcentaje_sentimiento.to_string(header=(False))}')"
   ]
  },
  {
   "cell_type": "code",
   "execution_count": 8,
   "metadata": {},
   "outputs": [
    {
     "data": {
      "text/html": [
       "<div>\n",
       "<style scoped>\n",
       "    .dataframe tbody tr th:only-of-type {\n",
       "        vertical-align: middle;\n",
       "    }\n",
       "\n",
       "    .dataframe tbody tr th {\n",
       "        vertical-align: top;\n",
       "    }\n",
       "\n",
       "    .dataframe thead th {\n",
       "        text-align: right;\n",
       "    }\n",
       "</style>\n",
       "<table border=\"1\" class=\"dataframe\">\n",
       "  <thead>\n",
       "    <tr style=\"text-align: right;\">\n",
       "      <th></th>\n",
       "      <th>Nombre</th>\n",
       "      <th>Tipos de Datos Únicos</th>\n",
       "      <th>% de Valores No Nulos</th>\n",
       "      <th>% de Valores Nulos</th>\n",
       "      <th>Cantidad de Valores Nulos</th>\n",
       "    </tr>\n",
       "  </thead>\n",
       "  <tbody>\n",
       "    <tr>\n",
       "      <th>0</th>\n",
       "      <td>user_id</td>\n",
       "      <td>[&lt;class 'str'&gt;]</td>\n",
       "      <td>100.0</td>\n",
       "      <td>0.0</td>\n",
       "      <td>0</td>\n",
       "    </tr>\n",
       "    <tr>\n",
       "      <th>1</th>\n",
       "      <td>user_url</td>\n",
       "      <td>[&lt;class 'str'&gt;]</td>\n",
       "      <td>100.0</td>\n",
       "      <td>0.0</td>\n",
       "      <td>0</td>\n",
       "    </tr>\n",
       "    <tr>\n",
       "      <th>2</th>\n",
       "      <td>posted</td>\n",
       "      <td>[&lt;class 'int'&gt;]</td>\n",
       "      <td>100.0</td>\n",
       "      <td>0.0</td>\n",
       "      <td>0</td>\n",
       "    </tr>\n",
       "    <tr>\n",
       "      <th>3</th>\n",
       "      <td>item_id</td>\n",
       "      <td>[&lt;class 'int'&gt;]</td>\n",
       "      <td>100.0</td>\n",
       "      <td>0.0</td>\n",
       "      <td>0</td>\n",
       "    </tr>\n",
       "    <tr>\n",
       "      <th>4</th>\n",
       "      <td>recommend</td>\n",
       "      <td>[&lt;class 'bool'&gt;]</td>\n",
       "      <td>100.0</td>\n",
       "      <td>0.0</td>\n",
       "      <td>0</td>\n",
       "    </tr>\n",
       "    <tr>\n",
       "      <th>5</th>\n",
       "      <td>sentiment_analysis</td>\n",
       "      <td>[&lt;class 'int'&gt;]</td>\n",
       "      <td>100.0</td>\n",
       "      <td>0.0</td>\n",
       "      <td>0</td>\n",
       "    </tr>\n",
       "  </tbody>\n",
       "</table>\n",
       "</div>"
      ],
      "text/plain": [
       "               Nombre Tipos de Datos Únicos  % de Valores No Nulos  \\\n",
       "0             user_id       [<class 'str'>]                  100.0   \n",
       "1            user_url       [<class 'str'>]                  100.0   \n",
       "2              posted       [<class 'int'>]                  100.0   \n",
       "3             item_id       [<class 'int'>]                  100.0   \n",
       "4           recommend      [<class 'bool'>]                  100.0   \n",
       "5  sentiment_analysis       [<class 'int'>]                  100.0   \n",
       "\n",
       "   % de Valores Nulos  Cantidad de Valores Nulos  \n",
       "0                 0.0                          0  \n",
       "1                 0.0                          0  \n",
       "2                 0.0                          0  \n",
       "3                 0.0                          0  \n",
       "4                 0.0                          0  \n",
       "5                 0.0                          0  "
      ]
     },
     "execution_count": 8,
     "metadata": {},
     "output_type": "execute_result"
    }
   ],
   "source": [
    "Herr.analizar_datos(data_reviews)"
   ]
  },
  {
   "cell_type": "code",
   "execution_count": 10,
   "metadata": {},
   "outputs": [
    {
     "name": "stdout",
     "output_type": "stream",
     "text": [
      "Los valores de sentiment_analysis\n",
      "1    39911\n",
      "2    14661\n",
      "0     4434\n",
      "El porcentaje de cada valor\n",
      "1    67.64\n",
      "2    24.85\n",
      "0     7.51\n"
     ]
    }
   ],
   "source": [
    "Herr.cantidad_porcentaje(data_reviews,'sentiment_analysis')"
   ]
  },
  {
   "cell_type": "code",
   "execution_count": 12,
   "metadata": {},
   "outputs": [
    {
     "data": {
      "text/plain": [
       "<Axes: xlabel='recommend', ylabel='count'>"
      ]
     },
     "execution_count": 12,
     "metadata": {},
     "output_type": "execute_result"
    },
    {
     "data": {
      "image/png": "[encoded data removed]",
      "text/plain": [
       "<Figure size 400x400 with 1 Axes>"
      ]
     },
     "metadata": {},
     "output_type": "display_data"
    }
   ],
   "source": [
    "plt.figure(figsize=(4,4))\n",
    "sns.countplot(data_reviews,x='recommend',hue='recommend')"
   ]
  },
  {
   "cell_type": "code",
   "execution_count": 11,
   "metadata": {},
   "outputs": [
    {
     "name": "stdout",
     "output_type": "stream",
     "text": [
      "Los valores de recommend\n",
      "True     52206\n",
      "False     6800\n",
      "El porcentaje de cada valor\n",
      "True     88.48\n",
      "False    11.52\n"
     ]
    }
   ],
   "source": [
    "Herr.cantidad_porcentaje(data_reviews,'recommend')"
   ]
  },
  {
   "cell_type": "markdown",
   "metadata": {},
   "source": [
    "acordarse de exportar el csv con la actualizacion de analisis de sentimiento"
   ]
  }
 ],
 "metadata": {
  "kernelspec": {
   "display_name": "Python 3",
   "language": "python",
   "name": "python3"
  },
  "language_info": {
   "codemirror_mode": {
    "name": "ipython",
    "version": 3
   },
   "file_extension": ".py",
   "mimetype": "text/x-python",
   "name": "python",
   "nbconvert_exporter": "python",
   "pygments_lexer": "ipython3",
   "version": "3.11.4"
  }
 },
 "nbformat": 4,
 "nbformat_minor": 2
}
