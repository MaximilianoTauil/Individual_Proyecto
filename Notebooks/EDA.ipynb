{
 "cells": [
  {
   "cell_type": "markdown",
   "metadata": {},
   "source": [
    "# Analisis Exploratorio de Datos (EDA)"
   ]
  },
  {
   "cell_type": "markdown",
   "metadata": {},
   "source": [
    "### Importamos librerías"
   ]
  },
  {
   "cell_type": "markdown",
   "metadata": {},
   "source": [
    "Estas librerías nos permiten manipular los datos y visualizarlos."
   ]
  },
  {
   "cell_type": "code",
   "execution_count": 1,
   "metadata": {},
   "outputs": [],
   "source": [
    "import matplotlib.pyplot as plt\n",
    "import pandas as pd\n",
    "import seaborn as sns\n",
    "import langid\n",
    "import sys\n",
    "sys.path.insert(0, '../')\n",
    "import Herramientas as Herr"
   ]
  },
  {
   "cell_type": "markdown",
   "metadata": {},
   "source": [
    "### EDA de **australian_reviews**"
   ]
  },
  {
   "cell_type": "markdown",
   "metadata": {},
   "source": [
    "#### Carga de datos"
   ]
  },
  {
   "cell_type": "markdown",
   "metadata": {},
   "source": [
    "Lectura del archivo para su exploración."
   ]
  },
  {
   "cell_type": "code",
   "execution_count": 2,
   "metadata": {},
   "outputs": [
    {
     "data": {
      "text/html": [
       "<div>\n",
       "<style scoped>\n",
       "    .dataframe tbody tr th:only-of-type {\n",
       "        vertical-align: middle;\n",
       "    }\n",
       "\n",
       "    .dataframe tbody tr th {\n",
       "        vertical-align: top;\n",
       "    }\n",
       "\n",
       "    .dataframe thead th {\n",
       "        text-align: right;\n",
       "    }\n",
       "</style>\n",
       "<table border=\"1\" class=\"dataframe\">\n",
       "  <thead>\n",
       "    <tr style=\"text-align: right;\">\n",
       "      <th></th>\n",
       "      <th>user_id</th>\n",
       "      <th>user_url</th>\n",
       "      <th>posted</th>\n",
       "      <th>item_id</th>\n",
       "      <th>recommend</th>\n",
       "      <th>review</th>\n",
       "    </tr>\n",
       "  </thead>\n",
       "  <tbody>\n",
       "    <tr>\n",
       "      <th>0</th>\n",
       "      <td>76561197970982479</td>\n",
       "      <td>http://steamcommunity.com/profiles/76561197970...</td>\n",
       "      <td>2011</td>\n",
       "      <td>1250</td>\n",
       "      <td>True</td>\n",
       "      <td>Simple yet with great replayability. In my opi...</td>\n",
       "    </tr>\n",
       "    <tr>\n",
       "      <th>1</th>\n",
       "      <td>js41637</td>\n",
       "      <td>http://steamcommunity.com/id/js41637</td>\n",
       "      <td>2014</td>\n",
       "      <td>251610</td>\n",
       "      <td>True</td>\n",
       "      <td>I know what you think when you see this title ...</td>\n",
       "    </tr>\n",
       "    <tr>\n",
       "      <th>2</th>\n",
       "      <td>evcentric</td>\n",
       "      <td>http://steamcommunity.com/id/evcentric</td>\n",
       "      <td>2014</td>\n",
       "      <td>248820</td>\n",
       "      <td>True</td>\n",
       "      <td>A suitably punishing roguelike platformer.  Wi...</td>\n",
       "    </tr>\n",
       "    <tr>\n",
       "      <th>3</th>\n",
       "      <td>doctr</td>\n",
       "      <td>http://steamcommunity.com/id/doctr</td>\n",
       "      <td>2013</td>\n",
       "      <td>250320</td>\n",
       "      <td>True</td>\n",
       "      <td>This game... is so fun. The fight sequences ha...</td>\n",
       "    </tr>\n",
       "    <tr>\n",
       "      <th>4</th>\n",
       "      <td>maplemage</td>\n",
       "      <td>http://steamcommunity.com/id/maplemage</td>\n",
       "      <td>2014</td>\n",
       "      <td>211420</td>\n",
       "      <td>True</td>\n",
       "      <td>Git gud</td>\n",
       "    </tr>\n",
       "    <tr>\n",
       "      <th>...</th>\n",
       "      <td>...</td>\n",
       "      <td>...</td>\n",
       "      <td>...</td>\n",
       "      <td>...</td>\n",
       "      <td>...</td>\n",
       "      <td>...</td>\n",
       "    </tr>\n",
       "    <tr>\n",
       "      <th>59270</th>\n",
       "      <td>BonnieMTD</td>\n",
       "      <td>http://steamcommunity.com/id/BonnieMTD</td>\n",
       "      <td>2015</td>\n",
       "      <td>400</td>\n",
       "      <td>True</td>\n",
       "      <td>This is the best stratigy/puzzle game out ther...</td>\n",
       "    </tr>\n",
       "    <tr>\n",
       "      <th>59271</th>\n",
       "      <td>amillionlemons</td>\n",
       "      <td>http://steamcommunity.com/id/amillionlemons</td>\n",
       "      <td>2015</td>\n",
       "      <td>313120</td>\n",
       "      <td>True</td>\n",
       "      <td>Not a bad game for alpha. I think with future ...</td>\n",
       "    </tr>\n",
       "    <tr>\n",
       "      <th>59272</th>\n",
       "      <td>keepit1hunid</td>\n",
       "      <td>http://steamcommunity.com/id/keepit1hunid</td>\n",
       "      <td>2014</td>\n",
       "      <td>17410</td>\n",
       "      <td>True</td>\n",
       "      <td>Pretty great graphics and gameplay is no diffe...</td>\n",
       "    </tr>\n",
       "    <tr>\n",
       "      <th>59273</th>\n",
       "      <td>SKELETRONPRIMEISOP</td>\n",
       "      <td>http://steamcommunity.com/id/SKELETRONPRIMEISOP</td>\n",
       "      <td>2014</td>\n",
       "      <td>304930</td>\n",
       "      <td>True</td>\n",
       "      <td>This game is so much fun but so challenging it...</td>\n",
       "    </tr>\n",
       "    <tr>\n",
       "      <th>59274</th>\n",
       "      <td>76561198141079508</td>\n",
       "      <td>http://steamcommunity.com/profiles/76561198141...</td>\n",
       "      <td>2014</td>\n",
       "      <td>4000</td>\n",
       "      <td>True</td>\n",
       "      <td>Definetly recommend it's a great laugh 10/10 w...</td>\n",
       "    </tr>\n",
       "  </tbody>\n",
       "</table>\n",
       "<p>59275 rows × 6 columns</p>\n",
       "</div>"
      ],
      "text/plain": [
       "                  user_id                                           user_url  \\\n",
       "0       76561197970982479  http://steamcommunity.com/profiles/76561197970...   \n",
       "1                 js41637               http://steamcommunity.com/id/js41637   \n",
       "2               evcentric             http://steamcommunity.com/id/evcentric   \n",
       "3                   doctr                 http://steamcommunity.com/id/doctr   \n",
       "4               maplemage             http://steamcommunity.com/id/maplemage   \n",
       "...                   ...                                                ...   \n",
       "59270           BonnieMTD             http://steamcommunity.com/id/BonnieMTD   \n",
       "59271      amillionlemons        http://steamcommunity.com/id/amillionlemons   \n",
       "59272        keepit1hunid          http://steamcommunity.com/id/keepit1hunid   \n",
       "59273  SKELETRONPRIMEISOP    http://steamcommunity.com/id/SKELETRONPRIMEISOP   \n",
       "59274   76561198141079508  http://steamcommunity.com/profiles/76561198141...   \n",
       "\n",
       "       posted  item_id  recommend  \\\n",
       "0        2011     1250       True   \n",
       "1        2014   251610       True   \n",
       "2        2014   248820       True   \n",
       "3        2013   250320       True   \n",
       "4        2014   211420       True   \n",
       "...       ...      ...        ...   \n",
       "59270    2015      400       True   \n",
       "59271    2015   313120       True   \n",
       "59272    2014    17410       True   \n",
       "59273    2014   304930       True   \n",
       "59274    2014     4000       True   \n",
       "\n",
       "                                                  review  \n",
       "0      Simple yet with great replayability. In my opi...  \n",
       "1      I know what you think when you see this title ...  \n",
       "2      A suitably punishing roguelike platformer.  Wi...  \n",
       "3      This game... is so fun. The fight sequences ha...  \n",
       "4                                                Git gud  \n",
       "...                                                  ...  \n",
       "59270  This is the best stratigy/puzzle game out ther...  \n",
       "59271  Not a bad game for alpha. I think with future ...  \n",
       "59272  Pretty great graphics and gameplay is no diffe...  \n",
       "59273  This game is so much fun but so challenging it...  \n",
       "59274  Definetly recommend it's a great laugh 10/10 w...  \n",
       "\n",
       "[59275 rows x 6 columns]"
      ]
     },
     "execution_count": 2,
     "metadata": {},
     "output_type": "execute_result"
    }
   ],
   "source": [
    "data_reviews = pd.read_csv('../datasets/australian_reviews.csv',encoding='utf-8')\n",
    "data_reviews"
   ]
  },
  {
   "cell_type": "markdown",
   "metadata": {},
   "source": [
    "Se revisó que la exportación hecha previamente sea correcta."
   ]
  },
  {
   "cell_type": "code",
   "execution_count": 3,
   "metadata": {},
   "outputs": [
    {
     "data": {
      "text/html": [
       "<div>\n",
       "<style scoped>\n",
       "    .dataframe tbody tr th:only-of-type {\n",
       "        vertical-align: middle;\n",
       "    }\n",
       "\n",
       "    .dataframe tbody tr th {\n",
       "        vertical-align: top;\n",
       "    }\n",
       "\n",
       "    .dataframe thead th {\n",
       "        text-align: right;\n",
       "    }\n",
       "</style>\n",
       "<table border=\"1\" class=\"dataframe\">\n",
       "  <thead>\n",
       "    <tr style=\"text-align: right;\">\n",
       "      <th></th>\n",
       "      <th>Nombre</th>\n",
       "      <th>Tipos de Datos Únicos</th>\n",
       "      <th>% de Valores No Nulos</th>\n",
       "      <th>% de Valores Nulos</th>\n",
       "      <th>Cantidad de Valores Nulos</th>\n",
       "    </tr>\n",
       "  </thead>\n",
       "  <tbody>\n",
       "    <tr>\n",
       "      <th>0</th>\n",
       "      <td>user_id</td>\n",
       "      <td>[&lt;class 'str'&gt;]</td>\n",
       "      <td>100.0</td>\n",
       "      <td>0.0</td>\n",
       "      <td>0</td>\n",
       "    </tr>\n",
       "    <tr>\n",
       "      <th>1</th>\n",
       "      <td>user_url</td>\n",
       "      <td>[&lt;class 'str'&gt;]</td>\n",
       "      <td>100.0</td>\n",
       "      <td>0.0</td>\n",
       "      <td>0</td>\n",
       "    </tr>\n",
       "    <tr>\n",
       "      <th>2</th>\n",
       "      <td>posted</td>\n",
       "      <td>[&lt;class 'int'&gt;]</td>\n",
       "      <td>100.0</td>\n",
       "      <td>0.0</td>\n",
       "      <td>0</td>\n",
       "    </tr>\n",
       "    <tr>\n",
       "      <th>3</th>\n",
       "      <td>item_id</td>\n",
       "      <td>[&lt;class 'int'&gt;]</td>\n",
       "      <td>100.0</td>\n",
       "      <td>0.0</td>\n",
       "      <td>0</td>\n",
       "    </tr>\n",
       "    <tr>\n",
       "      <th>4</th>\n",
       "      <td>recommend</td>\n",
       "      <td>[&lt;class 'bool'&gt;]</td>\n",
       "      <td>100.0</td>\n",
       "      <td>0.0</td>\n",
       "      <td>0</td>\n",
       "    </tr>\n",
       "    <tr>\n",
       "      <th>5</th>\n",
       "      <td>review</td>\n",
       "      <td>[&lt;class 'str'&gt;]</td>\n",
       "      <td>100.0</td>\n",
       "      <td>0.0</td>\n",
       "      <td>0</td>\n",
       "    </tr>\n",
       "  </tbody>\n",
       "</table>\n",
       "</div>"
      ],
      "text/plain": [
       "      Nombre Tipos de Datos Únicos  % de Valores No Nulos  % de Valores Nulos  \\\n",
       "0    user_id       [<class 'str'>]                  100.0                 0.0   \n",
       "1   user_url       [<class 'str'>]                  100.0                 0.0   \n",
       "2     posted       [<class 'int'>]                  100.0                 0.0   \n",
       "3    item_id       [<class 'int'>]                  100.0                 0.0   \n",
       "4  recommend      [<class 'bool'>]                  100.0                 0.0   \n",
       "5     review       [<class 'str'>]                  100.0                 0.0   \n",
       "\n",
       "   Cantidad de Valores Nulos  \n",
       "0                          0  \n",
       "1                          0  \n",
       "2                          0  \n",
       "3                          0  \n",
       "4                          0  \n",
       "5                          0  "
      ]
     },
     "execution_count": 3,
     "metadata": {},
     "output_type": "execute_result"
    }
   ],
   "source": [
    "Herr.analizar_datos(data_reviews)"
   ]
  },
  {
   "cell_type": "markdown",
   "metadata": {},
   "source": [
    "Esta visualización de tipo \"countplot\"nos permite observar la cantidad de juegos publicados en cada año."
   ]
  },
  {
   "cell_type": "code",
   "execution_count": 4,
   "metadata": {},
   "outputs": [
    {
     "data": {
      "image/png": "[encoded data removed]",
      "text/plain": [
       "<Figure size 640x480 with 1 Axes>"
      ]
     },
     "metadata": {},
     "output_type": "display_data"
    }
   ],
   "source": [
    "sns.countplot(data_reviews,x='posted',hue='posted')\n",
    "plt.title(\"Publicaciones por año\")\n",
    "plt.show()"
   ]
  },
  {
   "cell_type": "markdown",
   "metadata": {},
   "source": [
    "Se importó una función llamada \"cantidad_porcentaje\" del módulo Herramientas, la cual nos muestra en valores numéricos específicos las cantidades y cuánto representan del porcentaje total. En este caso, es de la columna \"Posted\"."
   ]
  },
  {
   "cell_type": "code",
   "execution_count": 5,
   "metadata": {},
   "outputs": [
    {
     "name": "stdout",
     "output_type": "stream",
     "text": [
      "Los valores de posted\n",
      "2014    32214\n",
      "2015    18462\n",
      "2013     6786\n",
      "2012     1215\n",
      "2011      532\n",
      "2010       66\n",
      "El porcentaje de cada valor\n",
      "2014    54.35\n",
      "2015    31.15\n",
      "2013    11.45\n",
      "2012     2.05\n",
      "2011     0.90\n",
      "2010     0.11\n"
     ]
    }
   ],
   "source": [
    "Herr.cantidad_porcentaje(data_reviews,'posted')"
   ]
  },
  {
   "cell_type": "markdown",
   "metadata": {},
   "source": [
    "Se analizaron la cantidad de comentarios según el idioma y, si es posible, se realizarán medidas."
   ]
  },
  {
   "cell_type": "code",
   "execution_count": 6,
   "metadata": {},
   "outputs": [],
   "source": [
    "contador_idiomas = {}\n",
    "\n",
    "for resenia in data_reviews['review']:\n",
    "    idioma,_ = langid.classify(resenia)\n",
    "    contador_idiomas[idioma] = contador_idiomas.get(idioma,0) + 1"
   ]
  },
  {
   "cell_type": "markdown",
   "metadata": {},
   "source": [
    "Hay una predominancia de los comentarios en inglés, pero al haber muchos otros comentarios en diferentes idiomas, no los borraremos ya que sí se considera que representan cantidades significativas."
   ]
  },
  {
   "cell_type": "code",
   "execution_count": 7,
   "metadata": {},
   "outputs": [
    {
     "data": {
      "text/plain": [
       "{'en': 50497,\n",
       " 'de': 342,\n",
       " 'fr': 302,\n",
       " 'es': 1211,\n",
       " 'da': 205,\n",
       " 'th': 712,\n",
       " 'pt': 1800,\n",
       " 'ru': 204,\n",
       " 'lt': 77,\n",
       " 'hi': 190,\n",
       " 'zh': 322,\n",
       " 'ko': 187,\n",
       " 'no': 559,\n",
       " 'wa': 85,\n",
       " 'br': 30,\n",
       " 'ne': 208,\n",
       " 'km': 58,\n",
       " 'af': 30,\n",
       " 'sv': 153,\n",
       " 'eu': 89,\n",
       " 'nl': 367,\n",
       " 'it': 327,\n",
       " 'mk': 3,\n",
       " 'sk': 51,\n",
       " 'mr': 33,\n",
       " 'an': 20,\n",
       " 'nb': 17,\n",
       " 'nn': 62,\n",
       " 'la': 78,\n",
       " 'pl': 199,\n",
       " 'is': 12,\n",
       " 'cs': 29,\n",
       " 'cy': 45,\n",
       " 'az': 10,\n",
       " 'et': 75,\n",
       " 'ka': 16,\n",
       " 'ca': 19,\n",
       " 'ja': 32,\n",
       " 'ms': 20,\n",
       " 'se': 2,\n",
       " 'tl': 20,\n",
       " 'id': 68,\n",
       " 'mt': 60,\n",
       " 'be': 3,\n",
       " 'fi': 68,\n",
       " 'xh': 9,\n",
       " 'ro': 33,\n",
       " 'sl': 49,\n",
       " 'ur': 5,\n",
       " 'tr': 32,\n",
       " 'gl': 24,\n",
       " 'eo': 22,\n",
       " 'vi': 5,\n",
       " 'rw': 6,\n",
       " 'hy': 34,\n",
       " 'hu': 22,\n",
       " 'sr': 7,\n",
       " 'sq': 6,\n",
       " 'zu': 1,\n",
       " 'am': 11,\n",
       " 'bg': 9,\n",
       " 'or': 1,\n",
       " 'oc': 2,\n",
       " 'ug': 5,\n",
       " 'sw': 8,\n",
       " 'mn': 5,\n",
       " 'lv': 10,\n",
       " 'uk': 3,\n",
       " 'he': 3,\n",
       " 'lo': 4,\n",
       " 'hr': 8,\n",
       " 'lb': 4,\n",
       " 'kk': 9,\n",
       " 'bs': 5,\n",
       " 'bn': 3,\n",
       " 'vo': 3,\n",
       " 'qu': 4,\n",
       " 'mg': 12,\n",
       " 'ml': 1,\n",
       " 'ga': 1,\n",
       " 'ht': 4,\n",
       " 'fo': 2,\n",
       " 'fa': 1,\n",
       " 'ar': 2,\n",
       " 'ku': 1,\n",
       " 'ky': 1,\n",
       " 'jv': 1}"
      ]
     },
     "execution_count": 7,
     "metadata": {},
     "output_type": "execute_result"
    }
   ],
   "source": [
    "contador_idiomas"
   ]
  },
  {
   "cell_type": "markdown",
   "metadata": {},
   "source": [
    "Se aplicó a la columna \"reviews\" una función de nuestro módulo Herramientas para realizar el análisis de sentimiento y dichos resultados se guardaron en una nueva columna llamada \"sentiment_analysis\". Se asignó 0 para los comentarios negativos, 1 para los neutrales y 2 para los positivos."
   ]
  },
  {
   "cell_type": "code",
   "execution_count": 8,
   "metadata": {},
   "outputs": [],
   "source": [
    "data_reviews['sentiment_analysis'] = data_reviews['review'].apply(Herr.analisis_sentimiento)"
   ]
  },
  {
   "cell_type": "markdown",
   "metadata": {},
   "source": [
    "Se hizo el análisis de sentimiento y ahora se eliminó la columna \"reviews\" dado que ya tenemos los datos necesarios en formato numérico."
   ]
  },
  {
   "cell_type": "code",
   "execution_count": 9,
   "metadata": {},
   "outputs": [],
   "source": [
    "data_reviews = data_reviews.drop('review',axis=1)\n"
   ]
  },
  {
   "cell_type": "markdown",
   "metadata": {},
   "source": [
    "Se realizó una revisión para ver los resultados del análisis de sentimientos. Se observa la última columna del DataFrame \"data_reviews\" con los cambios aplicados."
   ]
  },
  {
   "cell_type": "code",
   "execution_count": 10,
   "metadata": {},
   "outputs": [
    {
     "data": {
      "text/html": [
       "<div>\n",
       "<style scoped>\n",
       "    .dataframe tbody tr th:only-of-type {\n",
       "        vertical-align: middle;\n",
       "    }\n",
       "\n",
       "    .dataframe tbody tr th {\n",
       "        vertical-align: top;\n",
       "    }\n",
       "\n",
       "    .dataframe thead th {\n",
       "        text-align: right;\n",
       "    }\n",
       "</style>\n",
       "<table border=\"1\" class=\"dataframe\">\n",
       "  <thead>\n",
       "    <tr style=\"text-align: right;\">\n",
       "      <th></th>\n",
       "      <th>user_id</th>\n",
       "      <th>user_url</th>\n",
       "      <th>posted</th>\n",
       "      <th>item_id</th>\n",
       "      <th>recommend</th>\n",
       "      <th>sentiment_analysis</th>\n",
       "    </tr>\n",
       "  </thead>\n",
       "  <tbody>\n",
       "    <tr>\n",
       "      <th>0</th>\n",
       "      <td>76561197970982479</td>\n",
       "      <td>http://steamcommunity.com/profiles/76561197970...</td>\n",
       "      <td>2011</td>\n",
       "      <td>1250</td>\n",
       "      <td>True</td>\n",
       "      <td>1</td>\n",
       "    </tr>\n",
       "    <tr>\n",
       "      <th>1</th>\n",
       "      <td>js41637</td>\n",
       "      <td>http://steamcommunity.com/id/js41637</td>\n",
       "      <td>2014</td>\n",
       "      <td>251610</td>\n",
       "      <td>True</td>\n",
       "      <td>1</td>\n",
       "    </tr>\n",
       "    <tr>\n",
       "      <th>2</th>\n",
       "      <td>evcentric</td>\n",
       "      <td>http://steamcommunity.com/id/evcentric</td>\n",
       "      <td>2014</td>\n",
       "      <td>248820</td>\n",
       "      <td>True</td>\n",
       "      <td>1</td>\n",
       "    </tr>\n",
       "    <tr>\n",
       "      <th>3</th>\n",
       "      <td>doctr</td>\n",
       "      <td>http://steamcommunity.com/id/doctr</td>\n",
       "      <td>2013</td>\n",
       "      <td>250320</td>\n",
       "      <td>True</td>\n",
       "      <td>2</td>\n",
       "    </tr>\n",
       "    <tr>\n",
       "      <th>4</th>\n",
       "      <td>maplemage</td>\n",
       "      <td>http://steamcommunity.com/id/maplemage</td>\n",
       "      <td>2014</td>\n",
       "      <td>211420</td>\n",
       "      <td>True</td>\n",
       "      <td>1</td>\n",
       "    </tr>\n",
       "    <tr>\n",
       "      <th>...</th>\n",
       "      <td>...</td>\n",
       "      <td>...</td>\n",
       "      <td>...</td>\n",
       "      <td>...</td>\n",
       "      <td>...</td>\n",
       "      <td>...</td>\n",
       "    </tr>\n",
       "    <tr>\n",
       "      <th>59270</th>\n",
       "      <td>BonnieMTD</td>\n",
       "      <td>http://steamcommunity.com/id/BonnieMTD</td>\n",
       "      <td>2015</td>\n",
       "      <td>400</td>\n",
       "      <td>True</td>\n",
       "      <td>2</td>\n",
       "    </tr>\n",
       "    <tr>\n",
       "      <th>59271</th>\n",
       "      <td>amillionlemons</td>\n",
       "      <td>http://steamcommunity.com/id/amillionlemons</td>\n",
       "      <td>2015</td>\n",
       "      <td>313120</td>\n",
       "      <td>True</td>\n",
       "      <td>1</td>\n",
       "    </tr>\n",
       "    <tr>\n",
       "      <th>59272</th>\n",
       "      <td>keepit1hunid</td>\n",
       "      <td>http://steamcommunity.com/id/keepit1hunid</td>\n",
       "      <td>2014</td>\n",
       "      <td>17410</td>\n",
       "      <td>True</td>\n",
       "      <td>2</td>\n",
       "    </tr>\n",
       "    <tr>\n",
       "      <th>59273</th>\n",
       "      <td>SKELETRONPRIMEISOP</td>\n",
       "      <td>http://steamcommunity.com/id/SKELETRONPRIMEISOP</td>\n",
       "      <td>2014</td>\n",
       "      <td>304930</td>\n",
       "      <td>True</td>\n",
       "      <td>1</td>\n",
       "    </tr>\n",
       "    <tr>\n",
       "      <th>59274</th>\n",
       "      <td>76561198141079508</td>\n",
       "      <td>http://steamcommunity.com/profiles/76561198141...</td>\n",
       "      <td>2014</td>\n",
       "      <td>4000</td>\n",
       "      <td>True</td>\n",
       "      <td>2</td>\n",
       "    </tr>\n",
       "  </tbody>\n",
       "</table>\n",
       "<p>59275 rows × 6 columns</p>\n",
       "</div>"
      ],
      "text/plain": [
       "                  user_id                                           user_url  \\\n",
       "0       76561197970982479  http://steamcommunity.com/profiles/76561197970...   \n",
       "1                 js41637               http://steamcommunity.com/id/js41637   \n",
       "2               evcentric             http://steamcommunity.com/id/evcentric   \n",
       "3                   doctr                 http://steamcommunity.com/id/doctr   \n",
       "4               maplemage             http://steamcommunity.com/id/maplemage   \n",
       "...                   ...                                                ...   \n",
       "59270           BonnieMTD             http://steamcommunity.com/id/BonnieMTD   \n",
       "59271      amillionlemons        http://steamcommunity.com/id/amillionlemons   \n",
       "59272        keepit1hunid          http://steamcommunity.com/id/keepit1hunid   \n",
       "59273  SKELETRONPRIMEISOP    http://steamcommunity.com/id/SKELETRONPRIMEISOP   \n",
       "59274   76561198141079508  http://steamcommunity.com/profiles/76561198141...   \n",
       "\n",
       "       posted  item_id  recommend  sentiment_analysis  \n",
       "0        2011     1250       True                   1  \n",
       "1        2014   251610       True                   1  \n",
       "2        2014   248820       True                   1  \n",
       "3        2013   250320       True                   2  \n",
       "4        2014   211420       True                   1  \n",
       "...       ...      ...        ...                 ...  \n",
       "59270    2015      400       True                   2  \n",
       "59271    2015   313120       True                   1  \n",
       "59272    2014    17410       True                   2  \n",
       "59273    2014   304930       True                   1  \n",
       "59274    2014     4000       True                   2  \n",
       "\n",
       "[59275 rows x 6 columns]"
      ]
     },
     "execution_count": 10,
     "metadata": {},
     "output_type": "execute_result"
    }
   ],
   "source": [
    "data_reviews"
   ]
  },
  {
   "cell_type": "markdown",
   "metadata": {},
   "source": [
    "En este grafico llamado \"countplot\" se puede visualizar la suma de las cantidades de cada valor en la columna \"sentiment_analysis\".   \n",
    "Recordamos los valores: \n",
    " * 0 = Negativo\n",
    " * 1 = Neutro\n",
    " * 2 = Positivo"
   ]
  },
  {
   "cell_type": "code",
   "execution_count": 11,
   "metadata": {},
   "outputs": [
    {
     "data": {
      "image/png": "[encoded data removed]",
      "text/plain": [
       "<Figure size 600x400 with 1 Axes>"
      ]
     },
     "metadata": {},
     "output_type": "display_data"
    }
   ],
   "source": [
    "plt.figure(figsize=(6,4))\n",
    "sns.countplot(data_reviews,x='sentiment_analysis',hue='sentiment_analysis')\n",
    "plt.title(\"Análisis de sentimientos\")\n",
    "plt.show()"
   ]
  },
  {
   "cell_type": "markdown",
   "metadata": {},
   "source": [
    "Se importó una función llamada \"cantidad_porcentaje\" del módulo Herramientas, la cual nos muestra en valores numéricos específicos las cantidades y cuánto representan del porcentaje total. En este caso, es de la columna \"sentiment_analysis\"."
   ]
  },
  {
   "cell_type": "code",
   "execution_count": 12,
   "metadata": {},
   "outputs": [
    {
     "name": "stdout",
     "output_type": "stream",
     "text": [
      "Los valores de sentiment_analysis\n",
      "1    40086\n",
      "2    14726\n",
      "0     4463\n",
      "El porcentaje de cada valor\n",
      "1    67.63\n",
      "2    24.84\n",
      "0     7.53\n"
     ]
    }
   ],
   "source": [
    "Herr.cantidad_porcentaje(data_reviews,'sentiment_analysis')"
   ]
  },
  {
   "cell_type": "code",
   "execution_count": 13,
   "metadata": {},
   "outputs": [
    {
     "data": {
      "image/png": "[encoded data removed]",
      "text/plain": [
       "<Figure size 500x500 with 1 Axes>"
      ]
     },
     "metadata": {},
     "output_type": "display_data"
    }
   ],
   "source": [
    "plt.figure(figsize=(5,5))\n",
    "sns.countplot(data_reviews,x='recommend',hue='recommend')\n",
    "plt.title(\"Recomendaciones\")\n",
    "plt.show()"
   ]
  },
  {
   "cell_type": "markdown",
   "metadata": {},
   "source": [
    "Nuevamente se importó una función llamada \"cantidad_porcentaje\" del módulo Herramientas, la cual nos muestra en valores numéricos específicos las cantidades y cuánto representan del porcentaje total. En este caso, es de la columna \"recommend\"."
   ]
  },
  {
   "cell_type": "code",
   "execution_count": 14,
   "metadata": {},
   "outputs": [
    {
     "name": "stdout",
     "output_type": "stream",
     "text": [
      "Los valores de recommend\n",
      "True     52446\n",
      "False     6829\n",
      "El porcentaje de cada valor\n",
      "True     88.48\n",
      "False    11.52\n"
     ]
    }
   ],
   "source": [
    "Herr.cantidad_porcentaje(data_reviews,'recommend')"
   ]
  },
  {
   "cell_type": "markdown",
   "metadata": {},
   "source": [
    "### EDA de **australian_items**"
   ]
  },
  {
   "cell_type": "markdown",
   "metadata": {},
   "source": [
    "#### Carga de datos"
   ]
  },
  {
   "cell_type": "markdown",
   "metadata": {},
   "source": [
    "Lectura del archivo para su exploración."
   ]
  },
  {
   "cell_type": "code",
   "execution_count": 35,
   "metadata": {},
   "outputs": [
    {
     "data": {
      "text/html": [
       "<div>\n",
       "<style scoped>\n",
       "    .dataframe tbody tr th:only-of-type {\n",
       "        vertical-align: middle;\n",
       "    }\n",
       "\n",
       "    .dataframe tbody tr th {\n",
       "        vertical-align: top;\n",
       "    }\n",
       "\n",
       "    .dataframe thead th {\n",
       "        text-align: right;\n",
       "    }\n",
       "</style>\n",
       "<table border=\"1\" class=\"dataframe\">\n",
       "  <thead>\n",
       "    <tr style=\"text-align: right;\">\n",
       "      <th></th>\n",
       "      <th>item_id</th>\n",
       "      <th>item_name</th>\n",
       "      <th>playtime_forever</th>\n",
       "      <th>user_id</th>\n",
       "      <th>items_count</th>\n",
       "      <th>steam_id</th>\n",
       "    </tr>\n",
       "  </thead>\n",
       "  <tbody>\n",
       "    <tr>\n",
       "      <th>0</th>\n",
       "      <td>10</td>\n",
       "      <td>Counter-Strike</td>\n",
       "      <td>6.0</td>\n",
       "      <td>76561197970982479</td>\n",
       "      <td>277</td>\n",
       "      <td>76561197970982479</td>\n",
       "    </tr>\n",
       "    <tr>\n",
       "      <th>1</th>\n",
       "      <td>20</td>\n",
       "      <td>Team Fortress Classic</td>\n",
       "      <td>0.0</td>\n",
       "      <td>76561197970982479</td>\n",
       "      <td>277</td>\n",
       "      <td>76561197970982479</td>\n",
       "    </tr>\n",
       "    <tr>\n",
       "      <th>2</th>\n",
       "      <td>30</td>\n",
       "      <td>Day of Defeat</td>\n",
       "      <td>7.0</td>\n",
       "      <td>76561197970982479</td>\n",
       "      <td>277</td>\n",
       "      <td>76561197970982479</td>\n",
       "    </tr>\n",
       "    <tr>\n",
       "      <th>3</th>\n",
       "      <td>40</td>\n",
       "      <td>Deathmatch Classic</td>\n",
       "      <td>0.0</td>\n",
       "      <td>76561197970982479</td>\n",
       "      <td>277</td>\n",
       "      <td>76561197970982479</td>\n",
       "    </tr>\n",
       "    <tr>\n",
       "      <th>4</th>\n",
       "      <td>50</td>\n",
       "      <td>Half-Life: Opposing Force</td>\n",
       "      <td>0.0</td>\n",
       "      <td>76561197970982479</td>\n",
       "      <td>277</td>\n",
       "      <td>76561197970982479</td>\n",
       "    </tr>\n",
       "    <tr>\n",
       "      <th>...</th>\n",
       "      <td>...</td>\n",
       "      <td>...</td>\n",
       "      <td>...</td>\n",
       "      <td>...</td>\n",
       "      <td>...</td>\n",
       "      <td>...</td>\n",
       "    </tr>\n",
       "    <tr>\n",
       "      <th>5153204</th>\n",
       "      <td>346330</td>\n",
       "      <td>BrainBread 2</td>\n",
       "      <td>0.0</td>\n",
       "      <td>76561198329548331</td>\n",
       "      <td>7</td>\n",
       "      <td>76561198329548331</td>\n",
       "    </tr>\n",
       "    <tr>\n",
       "      <th>5153205</th>\n",
       "      <td>373330</td>\n",
       "      <td>All Is Dust</td>\n",
       "      <td>0.0</td>\n",
       "      <td>76561198329548331</td>\n",
       "      <td>7</td>\n",
       "      <td>76561198329548331</td>\n",
       "    </tr>\n",
       "    <tr>\n",
       "      <th>5153206</th>\n",
       "      <td>388490</td>\n",
       "      <td>One Way To Die: Steam Edition</td>\n",
       "      <td>3.0</td>\n",
       "      <td>76561198329548331</td>\n",
       "      <td>7</td>\n",
       "      <td>76561198329548331</td>\n",
       "    </tr>\n",
       "    <tr>\n",
       "      <th>5153207</th>\n",
       "      <td>521570</td>\n",
       "      <td>You Have 10 Seconds 2</td>\n",
       "      <td>4.0</td>\n",
       "      <td>76561198329548331</td>\n",
       "      <td>7</td>\n",
       "      <td>76561198329548331</td>\n",
       "    </tr>\n",
       "    <tr>\n",
       "      <th>5153208</th>\n",
       "      <td>519140</td>\n",
       "      <td>Minds Eyes</td>\n",
       "      <td>3.0</td>\n",
       "      <td>76561198329548331</td>\n",
       "      <td>7</td>\n",
       "      <td>76561198329548331</td>\n",
       "    </tr>\n",
       "  </tbody>\n",
       "</table>\n",
       "<p>5153209 rows × 6 columns</p>\n",
       "</div>"
      ],
      "text/plain": [
       "         item_id                      item_name  playtime_forever  \\\n",
       "0             10                 Counter-Strike               6.0   \n",
       "1             20          Team Fortress Classic               0.0   \n",
       "2             30                  Day of Defeat               7.0   \n",
       "3             40             Deathmatch Classic               0.0   \n",
       "4             50      Half-Life: Opposing Force               0.0   \n",
       "...          ...                            ...               ...   \n",
       "5153204   346330                   BrainBread 2               0.0   \n",
       "5153205   373330                    All Is Dust               0.0   \n",
       "5153206   388490  One Way To Die: Steam Edition               3.0   \n",
       "5153207   521570          You Have 10 Seconds 2               4.0   \n",
       "5153208   519140                     Minds Eyes               3.0   \n",
       "\n",
       "                   user_id  items_count           steam_id  \n",
       "0        76561197970982479          277  76561197970982479  \n",
       "1        76561197970982479          277  76561197970982479  \n",
       "2        76561197970982479          277  76561197970982479  \n",
       "3        76561197970982479          277  76561197970982479  \n",
       "4        76561197970982479          277  76561197970982479  \n",
       "...                    ...          ...                ...  \n",
       "5153204  76561198329548331            7  76561198329548331  \n",
       "5153205  76561198329548331            7  76561198329548331  \n",
       "5153206  76561198329548331            7  76561198329548331  \n",
       "5153207  76561198329548331            7  76561198329548331  \n",
       "5153208  76561198329548331            7  76561198329548331  \n",
       "\n",
       "[5153209 rows x 6 columns]"
      ]
     },
     "execution_count": 35,
     "metadata": {},
     "output_type": "execute_result"
    }
   ],
   "source": [
    "data_items = pd.read_csv('../datasets/australian_items.csv',encoding='utf-8')\n",
    "data_items"
   ]
  },
  {
   "cell_type": "markdown",
   "metadata": {},
   "source": [
    "Se normalizaron los nombres de los juegos para que, al momento de contabilizarlos, nos den los números reales."
   ]
  },
  {
   "cell_type": "markdown",
   "metadata": {},
   "source": [
    "Se revisó que la exportación hecha previamente sea correcta."
   ]
  },
  {
   "cell_type": "code",
   "execution_count": 37,
   "metadata": {},
   "outputs": [
    {
     "data": {
      "text/html": [
       "<div>\n",
       "<style scoped>\n",
       "    .dataframe tbody tr th:only-of-type {\n",
       "        vertical-align: middle;\n",
       "    }\n",
       "\n",
       "    .dataframe tbody tr th {\n",
       "        vertical-align: top;\n",
       "    }\n",
       "\n",
       "    .dataframe thead th {\n",
       "        text-align: right;\n",
       "    }\n",
       "</style>\n",
       "<table border=\"1\" class=\"dataframe\">\n",
       "  <thead>\n",
       "    <tr style=\"text-align: right;\">\n",
       "      <th></th>\n",
       "      <th>Nombre</th>\n",
       "      <th>Tipos de Datos Únicos</th>\n",
       "      <th>% de Valores No Nulos</th>\n",
       "      <th>% de Valores Nulos</th>\n",
       "      <th>Cantidad de Valores Nulos</th>\n",
       "    </tr>\n",
       "  </thead>\n",
       "  <tbody>\n",
       "    <tr>\n",
       "      <th>0</th>\n",
       "      <td>item_id</td>\n",
       "      <td>[&lt;class 'int'&gt;]</td>\n",
       "      <td>100.0</td>\n",
       "      <td>0.0</td>\n",
       "      <td>0</td>\n",
       "    </tr>\n",
       "    <tr>\n",
       "      <th>1</th>\n",
       "      <td>item_name</td>\n",
       "      <td>[&lt;class 'str'&gt;]</td>\n",
       "      <td>100.0</td>\n",
       "      <td>0.0</td>\n",
       "      <td>0</td>\n",
       "    </tr>\n",
       "    <tr>\n",
       "      <th>2</th>\n",
       "      <td>playtime_forever</td>\n",
       "      <td>[&lt;class 'float'&gt;]</td>\n",
       "      <td>100.0</td>\n",
       "      <td>0.0</td>\n",
       "      <td>0</td>\n",
       "    </tr>\n",
       "    <tr>\n",
       "      <th>3</th>\n",
       "      <td>user_id</td>\n",
       "      <td>[&lt;class 'str'&gt;]</td>\n",
       "      <td>100.0</td>\n",
       "      <td>0.0</td>\n",
       "      <td>0</td>\n",
       "    </tr>\n",
       "    <tr>\n",
       "      <th>4</th>\n",
       "      <td>items_count</td>\n",
       "      <td>[&lt;class 'int'&gt;]</td>\n",
       "      <td>100.0</td>\n",
       "      <td>0.0</td>\n",
       "      <td>0</td>\n",
       "    </tr>\n",
       "    <tr>\n",
       "      <th>5</th>\n",
       "      <td>steam_id</td>\n",
       "      <td>[&lt;class 'int'&gt;]</td>\n",
       "      <td>100.0</td>\n",
       "      <td>0.0</td>\n",
       "      <td>0</td>\n",
       "    </tr>\n",
       "  </tbody>\n",
       "</table>\n",
       "</div>"
      ],
      "text/plain": [
       "             Nombre Tipos de Datos Únicos  % de Valores No Nulos  \\\n",
       "0           item_id       [<class 'int'>]                  100.0   \n",
       "1         item_name       [<class 'str'>]                  100.0   \n",
       "2  playtime_forever     [<class 'float'>]                  100.0   \n",
       "3           user_id       [<class 'str'>]                  100.0   \n",
       "4       items_count       [<class 'int'>]                  100.0   \n",
       "5          steam_id       [<class 'int'>]                  100.0   \n",
       "\n",
       "   % de Valores Nulos  Cantidad de Valores Nulos  \n",
       "0                 0.0                          0  \n",
       "1                 0.0                          0  \n",
       "2                 0.0                          0  \n",
       "3                 0.0                          0  \n",
       "4                 0.0                          0  \n",
       "5                 0.0                          0  "
      ]
     },
     "execution_count": 37,
     "metadata": {},
     "output_type": "execute_result"
    }
   ],
   "source": [
    "Herr.analizar_datos(data_items)"
   ]
  },
  {
   "cell_type": "code",
   "execution_count": 55,
   "metadata": {},
   "outputs": [
    {
     "data": {
      "text/html": [
       "<div>\n",
       "<style scoped>\n",
       "    .dataframe tbody tr th:only-of-type {\n",
       "        vertical-align: middle;\n",
       "    }\n",
       "\n",
       "    .dataframe tbody tr th {\n",
       "        vertical-align: top;\n",
       "    }\n",
       "\n",
       "    .dataframe thead th {\n",
       "        text-align: right;\n",
       "    }\n",
       "</style>\n",
       "<table border=\"1\" class=\"dataframe\">\n",
       "  <thead>\n",
       "    <tr style=\"text-align: right;\">\n",
       "      <th></th>\n",
       "      <th>item_id</th>\n",
       "      <th>item_name</th>\n",
       "      <th>playtime_forever</th>\n",
       "      <th>user_id</th>\n",
       "      <th>items_count</th>\n",
       "      <th>steam_id</th>\n",
       "    </tr>\n",
       "  </thead>\n",
       "  <tbody>\n",
       "    <tr>\n",
       "      <th>0</th>\n",
       "      <td>10</td>\n",
       "      <td>Counter-Strike</td>\n",
       "      <td>6.0</td>\n",
       "      <td>76561197970982479</td>\n",
       "      <td>277</td>\n",
       "      <td>76561197970982479</td>\n",
       "    </tr>\n",
       "    <tr>\n",
       "      <th>1</th>\n",
       "      <td>20</td>\n",
       "      <td>Team Fortress Classic</td>\n",
       "      <td>0.0</td>\n",
       "      <td>76561197970982479</td>\n",
       "      <td>277</td>\n",
       "      <td>76561197970982479</td>\n",
       "    </tr>\n",
       "    <tr>\n",
       "      <th>2</th>\n",
       "      <td>30</td>\n",
       "      <td>Day Of Defeat</td>\n",
       "      <td>7.0</td>\n",
       "      <td>76561197970982479</td>\n",
       "      <td>277</td>\n",
       "      <td>76561197970982479</td>\n",
       "    </tr>\n",
       "    <tr>\n",
       "      <th>3</th>\n",
       "      <td>40</td>\n",
       "      <td>Deathmatch Classic</td>\n",
       "      <td>0.0</td>\n",
       "      <td>76561197970982479</td>\n",
       "      <td>277</td>\n",
       "      <td>76561197970982479</td>\n",
       "    </tr>\n",
       "    <tr>\n",
       "      <th>4</th>\n",
       "      <td>50</td>\n",
       "      <td>Half-Life: Opposing Force</td>\n",
       "      <td>0.0</td>\n",
       "      <td>76561197970982479</td>\n",
       "      <td>277</td>\n",
       "      <td>76561197970982479</td>\n",
       "    </tr>\n",
       "    <tr>\n",
       "      <th>...</th>\n",
       "      <td>...</td>\n",
       "      <td>...</td>\n",
       "      <td>...</td>\n",
       "      <td>...</td>\n",
       "      <td>...</td>\n",
       "      <td>...</td>\n",
       "    </tr>\n",
       "    <tr>\n",
       "      <th>5153204</th>\n",
       "      <td>346330</td>\n",
       "      <td>Brainbread 2</td>\n",
       "      <td>0.0</td>\n",
       "      <td>76561198329548331</td>\n",
       "      <td>7</td>\n",
       "      <td>76561198329548331</td>\n",
       "    </tr>\n",
       "    <tr>\n",
       "      <th>5153205</th>\n",
       "      <td>373330</td>\n",
       "      <td>All Is Dust</td>\n",
       "      <td>0.0</td>\n",
       "      <td>76561198329548331</td>\n",
       "      <td>7</td>\n",
       "      <td>76561198329548331</td>\n",
       "    </tr>\n",
       "    <tr>\n",
       "      <th>5153206</th>\n",
       "      <td>388490</td>\n",
       "      <td>One Way To Die: Steam Edition</td>\n",
       "      <td>3.0</td>\n",
       "      <td>76561198329548331</td>\n",
       "      <td>7</td>\n",
       "      <td>76561198329548331</td>\n",
       "    </tr>\n",
       "    <tr>\n",
       "      <th>5153207</th>\n",
       "      <td>521570</td>\n",
       "      <td>You Have 10 Seconds 2</td>\n",
       "      <td>4.0</td>\n",
       "      <td>76561198329548331</td>\n",
       "      <td>7</td>\n",
       "      <td>76561198329548331</td>\n",
       "    </tr>\n",
       "    <tr>\n",
       "      <th>5153208</th>\n",
       "      <td>519140</td>\n",
       "      <td>Minds Eyes</td>\n",
       "      <td>3.0</td>\n",
       "      <td>76561198329548331</td>\n",
       "      <td>7</td>\n",
       "      <td>76561198329548331</td>\n",
       "    </tr>\n",
       "  </tbody>\n",
       "</table>\n",
       "<p>5153209 rows × 6 columns</p>\n",
       "</div>"
      ],
      "text/plain": [
       "         item_id                      item_name  playtime_forever  \\\n",
       "0             10                 Counter-Strike               6.0   \n",
       "1             20          Team Fortress Classic               0.0   \n",
       "2             30                  Day Of Defeat               7.0   \n",
       "3             40             Deathmatch Classic               0.0   \n",
       "4             50      Half-Life: Opposing Force               0.0   \n",
       "...          ...                            ...               ...   \n",
       "5153204   346330                   Brainbread 2               0.0   \n",
       "5153205   373330                    All Is Dust               0.0   \n",
       "5153206   388490  One Way To Die: Steam Edition               3.0   \n",
       "5153207   521570          You Have 10 Seconds 2               4.0   \n",
       "5153208   519140                     Minds Eyes               3.0   \n",
       "\n",
       "                   user_id  items_count           steam_id  \n",
       "0        76561197970982479          277  76561197970982479  \n",
       "1        76561197970982479          277  76561197970982479  \n",
       "2        76561197970982479          277  76561197970982479  \n",
       "3        76561197970982479          277  76561197970982479  \n",
       "4        76561197970982479          277  76561197970982479  \n",
       "...                    ...          ...                ...  \n",
       "5153204  76561198329548331            7  76561198329548331  \n",
       "5153205  76561198329548331            7  76561198329548331  \n",
       "5153206  76561198329548331            7  76561198329548331  \n",
       "5153207  76561198329548331            7  76561198329548331  \n",
       "5153208  76561198329548331            7  76561198329548331  \n",
       "\n",
       "[5153209 rows x 6 columns]"
      ]
     },
     "execution_count": 55,
     "metadata": {},
     "output_type": "execute_result"
    }
   ],
   "source": [
    "data_items['item_name'] = data_items['item_name'].str.title()\n",
    "data_items"
   ]
  },
  {
   "cell_type": "markdown",
   "metadata": {},
   "source": [
    "En este gráfico llamado \"boxplot\" se puede visualizar la distribución de los datos en la columna \"playtime_forever\"."
   ]
  },
  {
   "cell_type": "code",
   "execution_count": 38,
   "metadata": {},
   "outputs": [
    {
     "data": {
      "image/png": "[encoded data removed]",
      "text/plain": [
       "<Figure size 1300x200 with 1 Axes>"
      ]
     },
     "metadata": {},
     "output_type": "display_data"
    }
   ],
   "source": [
    "plt.figure(figsize=(13,2))\n",
    "sns.boxplot(data_items,x='playtime_forever')\n",
    "plt.title(\"Horas jugadas\")\n",
    "plt.show()"
   ]
  },
  {
   "cell_type": "markdown",
   "metadata": {},
   "source": [
    "No se revisaron las demás variables dado que no hay nada que sea de interés; las columnas restantes son identificadores y nombres de juegos."
   ]
  },
  {
   "cell_type": "markdown",
   "metadata": {},
   "source": [
    "### EDA de outputs"
   ]
  },
  {
   "cell_type": "markdown",
   "metadata": {},
   "source": [
    "#### Carga de datos"
   ]
  },
  {
   "cell_type": "markdown",
   "metadata": {},
   "source": [
    "Lectura del archivo para su exploración."
   ]
  },
  {
   "cell_type": "code",
   "execution_count": 63,
   "metadata": {},
   "outputs": [
    {
     "data": {
      "text/html": [
       "<div>\n",
       "<style scoped>\n",
       "    .dataframe tbody tr th:only-of-type {\n",
       "        vertical-align: middle;\n",
       "    }\n",
       "\n",
       "    .dataframe tbody tr th {\n",
       "        vertical-align: top;\n",
       "    }\n",
       "\n",
       "    .dataframe thead th {\n",
       "        text-align: right;\n",
       "    }\n",
       "</style>\n",
       "<table border=\"1\" class=\"dataframe\">\n",
       "  <thead>\n",
       "    <tr style=\"text-align: right;\">\n",
       "      <th></th>\n",
       "      <th>publisher</th>\n",
       "      <th>genres</th>\n",
       "      <th>app_name</th>\n",
       "      <th>title</th>\n",
       "      <th>release_date</th>\n",
       "      <th>price</th>\n",
       "      <th>early_access</th>\n",
       "      <th>id</th>\n",
       "      <th>developer</th>\n",
       "    </tr>\n",
       "  </thead>\n",
       "  <tbody>\n",
       "    <tr>\n",
       "      <th>0</th>\n",
       "      <td>Kotoshiro</td>\n",
       "      <td>Action</td>\n",
       "      <td>Lost Summoner Kitty</td>\n",
       "      <td>Lost Summoner Kitty</td>\n",
       "      <td>2018</td>\n",
       "      <td>4.99</td>\n",
       "      <td>False</td>\n",
       "      <td>761140</td>\n",
       "      <td>Kotoshiro</td>\n",
       "    </tr>\n",
       "    <tr>\n",
       "      <th>1</th>\n",
       "      <td>Kotoshiro</td>\n",
       "      <td>Casual</td>\n",
       "      <td>Lost Summoner Kitty</td>\n",
       "      <td>Lost Summoner Kitty</td>\n",
       "      <td>2018</td>\n",
       "      <td>4.99</td>\n",
       "      <td>False</td>\n",
       "      <td>761140</td>\n",
       "      <td>Kotoshiro</td>\n",
       "    </tr>\n",
       "    <tr>\n",
       "      <th>2</th>\n",
       "      <td>Kotoshiro</td>\n",
       "      <td>Indie</td>\n",
       "      <td>Lost Summoner Kitty</td>\n",
       "      <td>Lost Summoner Kitty</td>\n",
       "      <td>2018</td>\n",
       "      <td>4.99</td>\n",
       "      <td>False</td>\n",
       "      <td>761140</td>\n",
       "      <td>Kotoshiro</td>\n",
       "    </tr>\n",
       "    <tr>\n",
       "      <th>3</th>\n",
       "      <td>Kotoshiro</td>\n",
       "      <td>Simulation</td>\n",
       "      <td>Lost Summoner Kitty</td>\n",
       "      <td>Lost Summoner Kitty</td>\n",
       "      <td>2018</td>\n",
       "      <td>4.99</td>\n",
       "      <td>False</td>\n",
       "      <td>761140</td>\n",
       "      <td>Kotoshiro</td>\n",
       "    </tr>\n",
       "    <tr>\n",
       "      <th>4</th>\n",
       "      <td>Kotoshiro</td>\n",
       "      <td>Strategy</td>\n",
       "      <td>Lost Summoner Kitty</td>\n",
       "      <td>Lost Summoner Kitty</td>\n",
       "      <td>2018</td>\n",
       "      <td>4.99</td>\n",
       "      <td>False</td>\n",
       "      <td>761140</td>\n",
       "      <td>Kotoshiro</td>\n",
       "    </tr>\n",
       "    <tr>\n",
       "      <th>...</th>\n",
       "      <td>...</td>\n",
       "      <td>...</td>\n",
       "      <td>...</td>\n",
       "      <td>...</td>\n",
       "      <td>...</td>\n",
       "      <td>...</td>\n",
       "      <td>...</td>\n",
       "      <td>...</td>\n",
       "      <td>...</td>\n",
       "    </tr>\n",
       "    <tr>\n",
       "      <th>71546</th>\n",
       "      <td>Laush Studio</td>\n",
       "      <td>Indie</td>\n",
       "      <td>Russian Roads</td>\n",
       "      <td>Russian Roads</td>\n",
       "      <td>2018</td>\n",
       "      <td>1.99</td>\n",
       "      <td>False</td>\n",
       "      <td>610660</td>\n",
       "      <td>Laush Dmitriy Sergeevich</td>\n",
       "    </tr>\n",
       "    <tr>\n",
       "      <th>71547</th>\n",
       "      <td>Laush Studio</td>\n",
       "      <td>Racing</td>\n",
       "      <td>Russian Roads</td>\n",
       "      <td>Russian Roads</td>\n",
       "      <td>2018</td>\n",
       "      <td>1.99</td>\n",
       "      <td>False</td>\n",
       "      <td>610660</td>\n",
       "      <td>Laush Dmitriy Sergeevich</td>\n",
       "    </tr>\n",
       "    <tr>\n",
       "      <th>71548</th>\n",
       "      <td>Laush Studio</td>\n",
       "      <td>Simulation</td>\n",
       "      <td>Russian Roads</td>\n",
       "      <td>Russian Roads</td>\n",
       "      <td>2018</td>\n",
       "      <td>1.99</td>\n",
       "      <td>False</td>\n",
       "      <td>610660</td>\n",
       "      <td>Laush Dmitriy Sergeevich</td>\n",
       "    </tr>\n",
       "    <tr>\n",
       "      <th>71549</th>\n",
       "      <td>SIXNAILS</td>\n",
       "      <td>Casual</td>\n",
       "      <td>EXIT 2 - Directions</td>\n",
       "      <td>EXIT 2 - Directions</td>\n",
       "      <td>2017</td>\n",
       "      <td>4.99</td>\n",
       "      <td>False</td>\n",
       "      <td>658870</td>\n",
       "      <td>xropi,stev3ns</td>\n",
       "    </tr>\n",
       "    <tr>\n",
       "      <th>71550</th>\n",
       "      <td>SIXNAILS</td>\n",
       "      <td>Indie</td>\n",
       "      <td>EXIT 2 - Directions</td>\n",
       "      <td>EXIT 2 - Directions</td>\n",
       "      <td>2017</td>\n",
       "      <td>4.99</td>\n",
       "      <td>False</td>\n",
       "      <td>658870</td>\n",
       "      <td>xropi,stev3ns</td>\n",
       "    </tr>\n",
       "  </tbody>\n",
       "</table>\n",
       "<p>71551 rows × 9 columns</p>\n",
       "</div>"
      ],
      "text/plain": [
       "          publisher      genres             app_name                title  \\\n",
       "0         Kotoshiro      Action  Lost Summoner Kitty  Lost Summoner Kitty   \n",
       "1         Kotoshiro      Casual  Lost Summoner Kitty  Lost Summoner Kitty   \n",
       "2         Kotoshiro       Indie  Lost Summoner Kitty  Lost Summoner Kitty   \n",
       "3         Kotoshiro  Simulation  Lost Summoner Kitty  Lost Summoner Kitty   \n",
       "4         Kotoshiro    Strategy  Lost Summoner Kitty  Lost Summoner Kitty   \n",
       "...             ...         ...                  ...                  ...   \n",
       "71546  Laush Studio       Indie        Russian Roads        Russian Roads   \n",
       "71547  Laush Studio      Racing        Russian Roads        Russian Roads   \n",
       "71548  Laush Studio  Simulation        Russian Roads        Russian Roads   \n",
       "71549      SIXNAILS      Casual  EXIT 2 - Directions  EXIT 2 - Directions   \n",
       "71550      SIXNAILS       Indie  EXIT 2 - Directions  EXIT 2 - Directions   \n",
       "\n",
       "      release_date  price  early_access      id                 developer  \n",
       "0             2018   4.99         False  761140                 Kotoshiro  \n",
       "1             2018   4.99         False  761140                 Kotoshiro  \n",
       "2             2018   4.99         False  761140                 Kotoshiro  \n",
       "3             2018   4.99         False  761140                 Kotoshiro  \n",
       "4             2018   4.99         False  761140                 Kotoshiro  \n",
       "...            ...    ...           ...     ...                       ...  \n",
       "71546         2018   1.99         False  610660  Laush Dmitriy Sergeevich  \n",
       "71547         2018   1.99         False  610660  Laush Dmitriy Sergeevich  \n",
       "71548         2018   1.99         False  610660  Laush Dmitriy Sergeevich  \n",
       "71549         2017   4.99         False  658870             xropi,stev3ns  \n",
       "71550         2017   4.99         False  658870             xropi,stev3ns  \n",
       "\n",
       "[71551 rows x 9 columns]"
      ]
     },
     "execution_count": 63,
     "metadata": {},
     "output_type": "execute_result"
    }
   ],
   "source": [
    "data_output = pd.read_csv('../datasets/output.csv',encoding='utf-8')\n",
    "data_output"
   ]
  },
  {
   "cell_type": "markdown",
   "metadata": {},
   "source": [
    "Se revisó que la exportación hecha previamente sea correcta."
   ]
  },
  {
   "cell_type": "code",
   "execution_count": 64,
   "metadata": {},
   "outputs": [
    {
     "data": {
      "text/html": [
       "<div>\n",
       "<style scoped>\n",
       "    .dataframe tbody tr th:only-of-type {\n",
       "        vertical-align: middle;\n",
       "    }\n",
       "\n",
       "    .dataframe tbody tr th {\n",
       "        vertical-align: top;\n",
       "    }\n",
       "\n",
       "    .dataframe thead th {\n",
       "        text-align: right;\n",
       "    }\n",
       "</style>\n",
       "<table border=\"1\" class=\"dataframe\">\n",
       "  <thead>\n",
       "    <tr style=\"text-align: right;\">\n",
       "      <th></th>\n",
       "      <th>Nombre</th>\n",
       "      <th>Tipos de Datos Únicos</th>\n",
       "      <th>% de Valores No Nulos</th>\n",
       "      <th>% de Valores Nulos</th>\n",
       "      <th>Cantidad de Valores Nulos</th>\n",
       "    </tr>\n",
       "  </thead>\n",
       "  <tbody>\n",
       "    <tr>\n",
       "      <th>0</th>\n",
       "      <td>publisher</td>\n",
       "      <td>[&lt;class 'str'&gt;, &lt;class 'float'&gt;]</td>\n",
       "      <td>99.93</td>\n",
       "      <td>0.07</td>\n",
       "      <td>47</td>\n",
       "    </tr>\n",
       "    <tr>\n",
       "      <th>1</th>\n",
       "      <td>genres</td>\n",
       "      <td>[&lt;class 'str'&gt;]</td>\n",
       "      <td>100.00</td>\n",
       "      <td>0.00</td>\n",
       "      <td>0</td>\n",
       "    </tr>\n",
       "    <tr>\n",
       "      <th>2</th>\n",
       "      <td>app_name</td>\n",
       "      <td>[&lt;class 'str'&gt;]</td>\n",
       "      <td>100.00</td>\n",
       "      <td>0.00</td>\n",
       "      <td>0</td>\n",
       "    </tr>\n",
       "    <tr>\n",
       "      <th>3</th>\n",
       "      <td>title</td>\n",
       "      <td>[&lt;class 'str'&gt;]</td>\n",
       "      <td>100.00</td>\n",
       "      <td>0.00</td>\n",
       "      <td>0</td>\n",
       "    </tr>\n",
       "    <tr>\n",
       "      <th>4</th>\n",
       "      <td>release_date</td>\n",
       "      <td>[&lt;class 'str'&gt;]</td>\n",
       "      <td>100.00</td>\n",
       "      <td>0.00</td>\n",
       "      <td>0</td>\n",
       "    </tr>\n",
       "    <tr>\n",
       "      <th>5</th>\n",
       "      <td>price</td>\n",
       "      <td>[&lt;class 'float'&gt;]</td>\n",
       "      <td>100.00</td>\n",
       "      <td>0.00</td>\n",
       "      <td>0</td>\n",
       "    </tr>\n",
       "    <tr>\n",
       "      <th>6</th>\n",
       "      <td>early_access</td>\n",
       "      <td>[&lt;class 'bool'&gt;]</td>\n",
       "      <td>100.00</td>\n",
       "      <td>0.00</td>\n",
       "      <td>0</td>\n",
       "    </tr>\n",
       "    <tr>\n",
       "      <th>7</th>\n",
       "      <td>id</td>\n",
       "      <td>[&lt;class 'int'&gt;]</td>\n",
       "      <td>100.00</td>\n",
       "      <td>0.00</td>\n",
       "      <td>0</td>\n",
       "    </tr>\n",
       "    <tr>\n",
       "      <th>8</th>\n",
       "      <td>developer</td>\n",
       "      <td>[&lt;class 'str'&gt;]</td>\n",
       "      <td>100.00</td>\n",
       "      <td>0.00</td>\n",
       "      <td>0</td>\n",
       "    </tr>\n",
       "  </tbody>\n",
       "</table>\n",
       "</div>"
      ],
      "text/plain": [
       "         Nombre             Tipos de Datos Únicos  % de Valores No Nulos  \\\n",
       "0     publisher  [<class 'str'>, <class 'float'>]                  99.93   \n",
       "1        genres                   [<class 'str'>]                 100.00   \n",
       "2      app_name                   [<class 'str'>]                 100.00   \n",
       "3         title                   [<class 'str'>]                 100.00   \n",
       "4  release_date                   [<class 'str'>]                 100.00   \n",
       "5         price                 [<class 'float'>]                 100.00   \n",
       "6  early_access                  [<class 'bool'>]                 100.00   \n",
       "7            id                   [<class 'int'>]                 100.00   \n",
       "8     developer                   [<class 'str'>]                 100.00   \n",
       "\n",
       "   % de Valores Nulos  Cantidad de Valores Nulos  \n",
       "0                0.07                         47  \n",
       "1                0.00                          0  \n",
       "2                0.00                          0  \n",
       "3                0.00                          0  \n",
       "4                0.00                          0  \n",
       "5                0.00                          0  \n",
       "6                0.00                          0  \n",
       "7                0.00                          0  \n",
       "8                0.00                          0  "
      ]
     },
     "execution_count": 64,
     "metadata": {},
     "output_type": "execute_result"
    }
   ],
   "source": [
    "Herr.analizar_datos(data_output)"
   ]
  },
  {
   "cell_type": "markdown",
   "metadata": {},
   "source": [
    "Se rellenaron los nulos que encontramos en el archivo que exportamos con \"No data\" en la columna \"Publisher\"."
   ]
  },
  {
   "cell_type": "code",
   "execution_count": 61,
   "metadata": {},
   "outputs": [],
   "source": [
    "data_output['publisher'] = data_output['publisher'].fillna('No data')"
   ]
  },
  {
   "cell_type": "markdown",
   "metadata": {},
   "source": [
    "En el siguiente gráfico de tipo \"barplot\" se observa que están las 10 empresas con mayor cantidad de publicaciones. Otro dato a observar es que NO tenemos información de muchos juegos publicados."
   ]
  },
  {
   "cell_type": "code",
   "execution_count": 70,
   "metadata": {},
   "outputs": [
    {
     "data": {
      "image/png": "[encoded data removed]",
      "text/plain": [
       "<Figure size 1300x800 with 1 Axes>"
      ]
     },
     "metadata": {},
     "output_type": "display_data"
    }
   ],
   "source": [
    "contador_publisher = data_output['publisher'].value_counts()\n",
    "top10_publisher = contador_publisher.head(10)\n",
    "plt.figure(figsize=(13,8))\n",
    "sns.barplot(x=top10_publisher.values,y=top10_publisher.index,hue=top10_publisher.values)\n",
    "plt.title(\"TOP 10 empresas publicadoras de juegos\")\n",
    "plt.show()"
   ]
  },
  {
   "cell_type": "markdown",
   "metadata": {},
   "source": [
    "En el siguiente gráfico de tipo \"barplot\" se observan los 10 géneros de juegos más jugados, destacando el género Indie y el de Acción."
   ]
  },
  {
   "cell_type": "code",
   "execution_count": 71,
   "metadata": {},
   "outputs": [
    {
     "data": {
      "image/png": "[encoded data removed]",
      "text/plain": [
       "<Figure size 1000x500 with 1 Axes>"
      ]
     },
     "metadata": {},
     "output_type": "display_data"
    }
   ],
   "source": [
    "contador_genres = data_output['genres'].value_counts()\n",
    "top10_genres = contador_genres.head(10)\n",
    "plt.figure(figsize=(10,5))\n",
    "sns.barplot(x=top10_genres.values,y=top10_genres.index,hue=top10_genres.values)\n",
    "plt.title(\"TOP 10 géneros de juegos\")\n",
    "plt.show()\n"
   ]
  },
  {
   "cell_type": "markdown",
   "metadata": {},
   "source": [
    "En el siguiente gráfico de tipo \"barplot\" se observan los años de lanzamientos de los juegos. Se observa que el año 2017 predomina con más de 5 juegos de diferencia con respecto al año 2016."
   ]
  },
  {
   "cell_type": "code",
   "execution_count": 74,
   "metadata": {},
   "outputs": [
    {
     "data": {
      "image/png": "[encoded data removed]",
      "text/plain": [
       "<Figure size 2000x900 with 1 Axes>"
      ]
     },
     "metadata": {},
     "output_type": "display_data"
    }
   ],
   "source": [
    "contador_date = data_output['release_date'].value_counts().sort_index()\n",
    "plt.figure(figsize=(20,9))\n",
    "sns.barplot(y=contador_date.values,x=contador_date.index,hue=contador_date.values,palette='viridis')\n",
    "plt.grid(True,axis='y',linestyle='-',alpha=0.7)\n",
    "plt.title(\"Cantidad de juegos publicados por año\")\n",
    "plt.show()"
   ]
  },
  {
   "cell_type": "markdown",
   "metadata": {},
   "source": [
    "Se visualiza que en nuestro gráfico de tipo \"boxplot\", tenemos muchos \"outliers\", que no necesariamente lo son. Es posible que algunos juegos valgan más de la media, que es de 8 dólares, dependiendo de la ubicación geográfica, demanda y otros factores."
   ]
  },
  {
   "cell_type": "code",
   "execution_count": 75,
   "metadata": {},
   "outputs": [
    {
     "data": {
      "image/png": "[encoded data removed]",
      "text/plain": [
       "<Figure size 1500x200 with 1 Axes>"
      ]
     },
     "metadata": {},
     "output_type": "display_data"
    }
   ],
   "source": [
    "plt.figure(figsize=(15,2))\n",
    "sns.boxplot(data_output,x='price')\n",
    "plt.title(\"Precios de juegos\")\n",
    "plt.show()"
   ]
  },
  {
   "cell_type": "markdown",
   "metadata": {},
   "source": [
    "En este gráfico llamado \"countplot\" se puede visualizar las cantidades de juegos que tienen acceso temprano o no en la plataforma, en la columna \"early_access\"."
   ]
  },
  {
   "cell_type": "code",
   "execution_count": 76,
   "metadata": {},
   "outputs": [
    {
     "data": {
      "image/png": "[encoded data removed]",
      "text/plain": [
       "<Figure size 400x400 with 1 Axes>"
      ]
     },
     "metadata": {},
     "output_type": "display_data"
    }
   ],
   "source": [
    "plt.figure(figsize=(4,4))\n",
    "sns.countplot(data_output,x='early_access',hue='early_access',palette='viridis')\n",
    "plt.title(\"Acceso temprano\")\n",
    "plt.show()"
   ]
  },
  {
   "cell_type": "markdown",
   "metadata": {},
   "source": [
    "En el siguiente gráfico de tipo \"barplot\" se observan los 10 desarrolladores de juegos más destacados, predominando Ubisoft y seguido por SmiteWorks."
   ]
  },
  {
   "cell_type": "code",
   "execution_count": 77,
   "metadata": {},
   "outputs": [
    {
     "data": {
      "image/png": "[encoded data removed]",
      "text/plain": [
       "<Figure size 1000x500 with 1 Axes>"
      ]
     },
     "metadata": {},
     "output_type": "display_data"
    }
   ],
   "source": [
    "contador_developer = data_output['developer'].value_counts()\n",
    "top10_developer = contador_developer.head(10)\n",
    "plt.figure(figsize=(10,5))\n",
    "sns.barplot(x=top10_developer.values,y=top10_developer.index,hue=top10_developer.values,palette='viridis')\n",
    "plt.title(\"Desarrolladores de juegos\")\n",
    "plt.show()\n"
   ]
  },
  {
   "cell_type": "markdown",
   "metadata": {},
   "source": [
    "Se exporta nuevamente el DataFrame de reviews dado que se agregaron y eliminaron columnas."
   ]
  },
  {
   "cell_type": "markdown",
   "metadata": {},
   "source": [
    "### Exportamos los datos"
   ]
  },
  {
   "cell_type": "markdown",
   "metadata": {},
   "source": [
    "A través de una función de nuestro módulo Herramientas, exportamos el archivo transformado."
   ]
  },
  {
   "cell_type": "code",
   "execution_count": 78,
   "metadata": {},
   "outputs": [
    {
     "name": "stdout",
     "output_type": "stream",
     "text": [
      "El archivo se exportó con éxito\n"
     ]
    }
   ],
   "source": [
    "Herr.export_data_csv('../datasets/australian_reviews_listo.csv',data_reviews)"
   ]
  }
 ],
 "metadata": {
  "kernelspec": {
   "display_name": "Python 3",
   "language": "python",
   "name": "python3"
  },
  "language_info": {
   "codemirror_mode": {
    "name": "ipython",
    "version": 3
   },
   "file_extension": ".py",
   "mimetype": "text/x-python",
   "name": "python",
   "nbconvert_exporter": "python",
   "pygments_lexer": "ipython3",
   "version": "3.11.4"
  }
 },
 "nbformat": 4,
 "nbformat_minor": 2
}
