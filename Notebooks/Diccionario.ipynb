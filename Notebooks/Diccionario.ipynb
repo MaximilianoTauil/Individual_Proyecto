{
 "cells": [
  {
   "cell_type": "markdown",
   "metadata": {},
   "source": [
    "# Diccionario"
   ]
  },
  {
   "cell_type": "markdown",
   "metadata": {},
   "source": [
    "El siguiente diccionario es ofrecido en el proyecto.\n"
   ]
  },
  {
   "cell_type": "markdown",
   "metadata": {},
   "source": [
    "## steam_games.gz.json\t\t\n"
   ]
  },
  {
   "cell_type": "markdown",
   "metadata": {},
   "source": [
    "| Columna | Descripción | Ejemplo |\n",
    "|---------|-------------|---------|\n",
    "| publisher | Empresa publicadora del contenido | [Ubisoft, Dovetail Games - Trains, Degica] |\n",
    "| genres | Género del contenido | [Action, Adventure, Racing, Simulation, Strategy] |\n",
    "| app_name | Nombre del contenido | [Warzone, Soundtrack, Puzzle Blocks] |\n",
    "| title | Título del contenido | [The Dream Machine: Chapter 4, Fate/EXTELLA - Sweet Room Dream, Fate/EXTELLA - Charming Bunny] |\n",
    "| url | URL de publicación del contenido | [http://store.steampowered.com/app/761140/Lost_Summoner_Kitty/] |\n",
    "| release_date | Fecha de lanzamiento | [2018-01-04] |\n",
    "| tags | Etiquetas de contenido | [Simulation, Indie, Action, Adventure, Funny, Open World, First-Person, Sandbox, Free to Play] |\n",
    "| reviews_url | Reviews de contenido | [http://steamcommunity.com/app/681550/reviews/?browsefilter=mostrecent&p=1] |\n",
    "| specs | Especificaciones | [Multi-player, Co-op, Cross-Platform Multiplayer, Downloadable Content] |\n",
    "| price | Precio del contenido | [4.99, 9.99, Free to Use, Free to Play] |\n",
    "| early_access | Acceso temprano | [False, True] |\n",
    "| id | Identificador único de contenido | [761140, 643980, 670290] |\n",
    "| developer | Desarrollador | [Kotoshiro, Secret Level SRL, Poolians.com] |\n",
    "\n",
    "\n"
   ]
  },
  {
   "cell_type": "markdown",
   "metadata": {},
   "source": [
    "## user_reviews.gz.json\t\t"
   ]
  },
  {
   "cell_type": "markdown",
   "metadata": {},
   "source": [
    "| Columna | Descripción | Ejemplo |\n",
    "|---------|-------------|---------|\n",
    "| user_id | Identificador único de usuario | [76561197970982479, evcentric, maplemage] |\n",
    "| user_url | URL del perfil del usuario | [http://steamcommunity.com/id/evcentric] |\n",
    "| reviews | Review de usuario en formato Json | {'funny': '', 'posted': 'Posted September 8, 2013.', 'last_edited': '', 'item_id': '227300', 'helpful': '0 of 1 people (0%) found this review helpful', 'recommend': True, 'review': \"For a simple (it's actually not all that simple but it can be!) truck driving Simulator, it is quite a fun and relaxing game. Playing on simple (or easy?) its just the basic WASD keys for driving but (if you want) the game can be much harder and realistic with having to manually change gears, much harder turning, etc. And reversing in this game is a ♥♥♥♥♥, as I imagine it would be with an actual truck. Luckily, you don't have to reverse park it but you get extra points if you do cause it is bloody hard. But this is surprisingly a nice truck driving game and I had a bit of fun with it.\" |\n",
    "|posted | Año de posteo |Posted April 15, 2014.|\n",
    "|item_id| Id del juego|1250|\n",
    "|helpful| Porcentaje de si el comentario es util o no|15 of 20 people (75%) found this review helpful|\n",
    "|recommend|Es recomendado o no|True|"
   ]
  },
  {
   "cell_type": "markdown",
   "metadata": {},
   "source": [
    "## user_items.gz.json\t\t"
   ]
  },
  {
   "cell_type": "markdown",
   "metadata": {},
   "source": [
    "| Columna | Descripción | Ejemplo |\n",
    "|---------|-------------|---------|\n",
    "| user_id | Identificador único de usuario | [76561197970982479, evcentric, maplemage] |\n",
    "| user_url | URL del perfil del usuario | [http://steamcommunity.com/id/evcentric] |\n",
    "| items | Items de usuario en formato Json | {'item_id': '273350', 'item_name': 'Evolve Stage 2', 'playtime_forever': 58, 'playtime_2weeks': 0} |\n",
    "| items_count| Cantidad de juegos jugados| 277 \t\n",
    "| steam_id| Identificador de usuario en steam|76561197970982479\n",
    "| playtime_forever|Cantidad total de horas jugadas|120\n"
   ]
  }
 ],
 "metadata": {
  "language_info": {
   "name": "python"
  }
 },
 "nbformat": 4,
 "nbformat_minor": 2
}
